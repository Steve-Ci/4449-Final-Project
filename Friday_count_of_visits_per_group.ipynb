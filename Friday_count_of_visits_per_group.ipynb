{
 "cells": [
  {
   "cell_type": "code",
   "execution_count": 1,
   "id": "97c07fa8",
   "metadata": {},
   "outputs": [],
   "source": [
    "import pandas as pd\n",
    "import numpy as np\n",
    "import matplotlib.pyplot as plt\n",
    "import seaborn as sns\n",
    "import warnings\n",
    "warnings.simplefilter(\"ignore\")\n",
    "from datetime import datetime\n",
    "import plotly.graph_objects as go\n",
    "from skimage import io\n",
    "import plotly.express as px\n",
    "import time"
   ]
  },
  {
   "cell_type": "code",
   "execution_count": 2,
   "id": "cac1c375",
   "metadata": {},
   "outputs": [],
   "source": [
    "Firday = pd.DataFrame(pd.read_csv('park-movement-Fri_New.csv'))\n",
    "Firday = Firday.drop([\"Unnamed: 0\"], axis=1)\n",
    "Firday[\"id\"] = Firday[\"id\"].astype(str)"
   ]
  },
  {
   "cell_type": "code",
   "execution_count": 3,
   "id": "bc9f7da6",
   "metadata": {},
   "outputs": [],
   "source": [
    "d1 = pd.read_csv('FridayGroupCount.csv')\n",
    "d2 = pd.read_csv('FridayCrowdCount.csv')\n",
    "d3 = pd.read_csv('FridaySingleCount.csv')\n",
    "\n",
    "Group = [  i.split(\".\", 1)[0] for i in d1.columns ]\n",
    "Crowd = [  i.split(\".\", 1)[0] for i in d2.columns ]\n",
    "Single = [  i.split(\".\", 1)[0] for i in d3.columns ]\n",
    "\n",
    "Firday_Group = list(set(Group))\n",
    "Firday_Crowd = list(set(Crowd)-set(Group))\n",
    "Firday_Single=  list(set(list(set(Single)-set(Group)))-set(Crowd))"
   ]
  },
  {
   "cell_type": "code",
   "execution_count": 5,
   "id": "da002da2",
   "metadata": {},
   "outputs": [],
   "source": [
    "TimePointMorning = time.mktime(time.strptime(\"2014-6-06 11:00:00\", \"%Y-%m-%d %H:%M:%S\"))\n",
    "TimePointAfterNoon = time.mktime(time.strptime(\"2014-6-06 16:00:00\", \"%Y-%m-%d %H:%M:%S\"))\n",
    "\n",
    "ArrivalTime = Firday.copy().drop_duplicates(subset='id')\n",
    "ArrivalTime[\"ArrivalTime\"] = ArrivalTime[\"Timestamp\"].map(lambda x: 1 if x- TimePointMorning >= 0 and x - TimePointAfterNoon <= 0 else ( 2 if x - TimePointAfterNoon >= 0 else 0 ) )\n",
    "Early = list(ArrivalTime[ArrivalTime[\"ArrivalTime\"]==0].id.unique())\n",
    "Noon =  list(ArrivalTime[ArrivalTime[\"ArrivalTime\"]==1].id.unique())\n",
    "Late = list(ArrivalTime[ArrivalTime[\"ArrivalTime\"]==2].id.unique())"
   ]
  },
  {
   "cell_type": "code",
   "execution_count": 6,
   "id": "c792c681",
   "metadata": {},
   "outputs": [],
   "source": [
    "np.mean(Firday[\"visit_duration\"].unique())\n",
    "HighDuration = list(Firday[Firday[\"visit_duration\"] >= np.mean(Firday[\"visit_duration\"].unique())].id.unique())\n",
    "LowDuration = list(Firday[Firday[\"visit_duration\"] < np.mean(Firday[\"visit_duration\"].unique())].id.unique())"
   ]
  },
  {
   "cell_type": "code",
   "execution_count": 65,
   "id": "1c813a1b",
   "metadata": {
    "scrolled": true
   },
   "outputs": [
    {
     "data": {
      "text/plain": [
       "655.8172413793103"
      ]
     },
     "execution_count": 65,
     "metadata": {},
     "output_type": "execute_result"
    }
   ],
   "source": [
    "np.mean(Firday[\"visit_duration\"].unique())\n"
   ]
  },
  {
   "cell_type": "markdown",
   "id": "7c313fd2",
   "metadata": {},
   "source": [
    "### Group 1"
   ]
  },
  {
   "cell_type": "code",
   "execution_count": 43,
   "id": "b6ef62c1",
   "metadata": {},
   "outputs": [
    {
     "data": {
      "text/plain": [
       "(2235, 0.628)"
      ]
     },
     "execution_count": 43,
     "metadata": {},
     "output_type": "execute_result"
    }
   ],
   "source": [
    "G1 = list(set(Firday_Group)&set(Early)&set(HighDuration))\n",
    "G1P = Firday.loc[Firday['id'].isin(G1)]\n",
    "len(G1), round(len(G1)/len(Firday.id.unique()),3)"
   ]
  },
  {
   "cell_type": "code",
   "execution_count": 32,
   "id": "6881bbea",
   "metadata": {},
   "outputs": [
    {
     "data": {
      "text/html": [
       "<div>\n",
       "<style scoped>\n",
       "    .dataframe tbody tr th:only-of-type {\n",
       "        vertical-align: middle;\n",
       "    }\n",
       "\n",
       "    .dataframe tbody tr th {\n",
       "        vertical-align: top;\n",
       "    }\n",
       "\n",
       "    .dataframe thead th {\n",
       "        text-align: right;\n",
       "    }\n",
       "</style>\n",
       "<table border=\"1\" class=\"dataframe\">\n",
       "  <thead>\n",
       "    <tr style=\"text-align: right;\">\n",
       "      <th></th>\n",
       "      <th>X</th>\n",
       "      <th>Y</th>\n",
       "      <th>count</th>\n",
       "    </tr>\n",
       "  </thead>\n",
       "  <tbody>\n",
       "    <tr>\n",
       "      <th>17</th>\n",
       "      <td>47</td>\n",
       "      <td>11</td>\n",
       "      <td>3007</td>\n",
       "    </tr>\n",
       "    <tr>\n",
       "      <th>23</th>\n",
       "      <td>69</td>\n",
       "      <td>44</td>\n",
       "      <td>2870</td>\n",
       "    </tr>\n",
       "    <tr>\n",
       "      <th>36</th>\n",
       "      <td>86</td>\n",
       "      <td>44</td>\n",
       "      <td>2861</td>\n",
       "    </tr>\n",
       "    <tr>\n",
       "      <th>29</th>\n",
       "      <td>78</td>\n",
       "      <td>48</td>\n",
       "      <td>2853</td>\n",
       "    </tr>\n",
       "    <tr>\n",
       "      <th>8</th>\n",
       "      <td>27</td>\n",
       "      <td>15</td>\n",
       "      <td>2852</td>\n",
       "    </tr>\n",
       "  </tbody>\n",
       "</table>\n",
       "</div>"
      ],
      "text/plain": [
       "     X   Y  count\n",
       "17  47  11   3007\n",
       "23  69  44   2870\n",
       "36  86  44   2861\n",
       "29  78  48   2853\n",
       "8   27  15   2852"
      ]
     },
     "execution_count": 32,
     "metadata": {},
     "output_type": "execute_result"
    }
   ],
   "source": [
    "GroupV = pd.DataFrame(G1P[G1P.type == 1].groupby([\"X\",\"Y\"])[\"id\"].count())\n",
    "GroupV = GroupV.reset_index()\n",
    "GroupV.columns = [\"X\",\"Y\",\"count\"]\n",
    "GroupV.sort_values(by=['count'],ascending=False)[0:5]"
   ]
  },
  {
   "cell_type": "markdown",
   "id": "090e237a",
   "metadata": {},
   "source": [
    "### Group 2"
   ]
  },
  {
   "cell_type": "code",
   "execution_count": 44,
   "id": "0a34628f",
   "metadata": {},
   "outputs": [
    {
     "data": {
      "text/plain": [
       "(768, 0.216)"
      ]
     },
     "execution_count": 44,
     "metadata": {},
     "output_type": "execute_result"
    }
   ],
   "source": [
    "G2 = list(set(Firday_Crowd)&set(Early)&set( HighDuration))\n",
    "G2P = Firday.loc[Firday['id'].isin(G2)]\n",
    "len(G2), round(len(G2)/len(Firday.id.unique()),3)"
   ]
  },
  {
   "cell_type": "code",
   "execution_count": 33,
   "id": "6302348a",
   "metadata": {},
   "outputs": [
    {
     "data": {
      "text/html": [
       "<div>\n",
       "<style scoped>\n",
       "    .dataframe tbody tr th:only-of-type {\n",
       "        vertical-align: middle;\n",
       "    }\n",
       "\n",
       "    .dataframe tbody tr th {\n",
       "        vertical-align: top;\n",
       "    }\n",
       "\n",
       "    .dataframe thead th {\n",
       "        text-align: right;\n",
       "    }\n",
       "</style>\n",
       "<table border=\"1\" class=\"dataframe\">\n",
       "  <thead>\n",
       "    <tr style=\"text-align: right;\">\n",
       "      <th></th>\n",
       "      <th>X</th>\n",
       "      <th>Y</th>\n",
       "      <th>count</th>\n",
       "    </tr>\n",
       "  </thead>\n",
       "  <tbody>\n",
       "    <tr>\n",
       "      <th>36</th>\n",
       "      <td>86</td>\n",
       "      <td>44</td>\n",
       "      <td>1256</td>\n",
       "    </tr>\n",
       "    <tr>\n",
       "      <th>17</th>\n",
       "      <td>47</td>\n",
       "      <td>11</td>\n",
       "      <td>1214</td>\n",
       "    </tr>\n",
       "    <tr>\n",
       "      <th>12</th>\n",
       "      <td>38</td>\n",
       "      <td>90</td>\n",
       "      <td>1195</td>\n",
       "    </tr>\n",
       "    <tr>\n",
       "      <th>4</th>\n",
       "      <td>17</td>\n",
       "      <td>43</td>\n",
       "      <td>1140</td>\n",
       "    </tr>\n",
       "    <tr>\n",
       "      <th>23</th>\n",
       "      <td>69</td>\n",
       "      <td>44</td>\n",
       "      <td>1139</td>\n",
       "    </tr>\n",
       "  </tbody>\n",
       "</table>\n",
       "</div>"
      ],
      "text/plain": [
       "     X   Y  count\n",
       "36  86  44   1256\n",
       "17  47  11   1214\n",
       "12  38  90   1195\n",
       "4   17  43   1140\n",
       "23  69  44   1139"
      ]
     },
     "execution_count": 33,
     "metadata": {},
     "output_type": "execute_result"
    }
   ],
   "source": [
    "GroupV = pd.DataFrame(G2P[G2P.type == 1].groupby([\"X\",\"Y\"])[\"id\"].count())\n",
    "GroupV = GroupV.reset_index()\n",
    "GroupV.columns = [\"X\",\"Y\",\"count\"]\n",
    "GroupV.sort_values(by=['count'],ascending=False)[0:5]"
   ]
  },
  {
   "cell_type": "markdown",
   "id": "2232b119",
   "metadata": {},
   "source": [
    "### Group 3"
   ]
  },
  {
   "cell_type": "code",
   "execution_count": 45,
   "id": "dadcb293",
   "metadata": {},
   "outputs": [
    {
     "data": {
      "text/plain": [
       "(227, 0.064)"
      ]
     },
     "execution_count": 45,
     "metadata": {},
     "output_type": "execute_result"
    }
   ],
   "source": [
    "G3 = list(set(Firday_Single)&set(Early)&set(HighDuration))\n",
    "G3P = Firday.loc[Firday['id'].isin(G3)]\n",
    "len(G3), round(len(G3)/len(Firday.id.unique()),3)"
   ]
  },
  {
   "cell_type": "code",
   "execution_count": 34,
   "id": "0be52da5",
   "metadata": {},
   "outputs": [
    {
     "data": {
      "text/html": [
       "<div>\n",
       "<style scoped>\n",
       "    .dataframe tbody tr th:only-of-type {\n",
       "        vertical-align: middle;\n",
       "    }\n",
       "\n",
       "    .dataframe tbody tr th {\n",
       "        vertical-align: top;\n",
       "    }\n",
       "\n",
       "    .dataframe thead th {\n",
       "        text-align: right;\n",
       "    }\n",
       "</style>\n",
       "<table border=\"1\" class=\"dataframe\">\n",
       "  <thead>\n",
       "    <tr style=\"text-align: right;\">\n",
       "      <th></th>\n",
       "      <th>X</th>\n",
       "      <th>Y</th>\n",
       "      <th>count</th>\n",
       "    </tr>\n",
       "  </thead>\n",
       "  <tbody>\n",
       "    <tr>\n",
       "      <th>8</th>\n",
       "      <td>27</td>\n",
       "      <td>15</td>\n",
       "      <td>420</td>\n",
       "    </tr>\n",
       "    <tr>\n",
       "      <th>12</th>\n",
       "      <td>38</td>\n",
       "      <td>90</td>\n",
       "      <td>419</td>\n",
       "    </tr>\n",
       "    <tr>\n",
       "      <th>23</th>\n",
       "      <td>69</td>\n",
       "      <td>44</td>\n",
       "      <td>415</td>\n",
       "    </tr>\n",
       "    <tr>\n",
       "      <th>4</th>\n",
       "      <td>17</td>\n",
       "      <td>43</td>\n",
       "      <td>414</td>\n",
       "    </tr>\n",
       "    <tr>\n",
       "      <th>36</th>\n",
       "      <td>86</td>\n",
       "      <td>44</td>\n",
       "      <td>400</td>\n",
       "    </tr>\n",
       "  </tbody>\n",
       "</table>\n",
       "</div>"
      ],
      "text/plain": [
       "     X   Y  count\n",
       "8   27  15    420\n",
       "12  38  90    419\n",
       "23  69  44    415\n",
       "4   17  43    414\n",
       "36  86  44    400"
      ]
     },
     "execution_count": 34,
     "metadata": {},
     "output_type": "execute_result"
    }
   ],
   "source": [
    "GroupV = pd.DataFrame(G3P[G3P.type == 1].groupby([\"X\",\"Y\"])[\"id\"].count())\n",
    "GroupV = GroupV.reset_index()\n",
    "GroupV.columns = [\"X\",\"Y\",\"count\"]\n",
    "GroupV.sort_values(by=['count'],ascending=False)[0:5]"
   ]
  },
  {
   "cell_type": "markdown",
   "id": "72060ecf",
   "metadata": {},
   "source": [
    "### Group 4"
   ]
  },
  {
   "cell_type": "code",
   "execution_count": 46,
   "id": "da6bd72a",
   "metadata": {},
   "outputs": [
    {
     "data": {
      "text/plain": [
       "(57, 0.016)"
      ]
     },
     "execution_count": 46,
     "metadata": {},
     "output_type": "execute_result"
    }
   ],
   "source": [
    "G4 = list(set(Firday_Group)&set(Noon))\n",
    "G4P = Firday.loc[Firday['id'].isin(G4)]\n",
    "len(G4), round(len(G4)/len(Firday.id.unique()),3)"
   ]
  },
  {
   "cell_type": "code",
   "execution_count": 35,
   "id": "9461f5d2",
   "metadata": {},
   "outputs": [
    {
     "data": {
      "text/html": [
       "<div>\n",
       "<style scoped>\n",
       "    .dataframe tbody tr th:only-of-type {\n",
       "        vertical-align: middle;\n",
       "    }\n",
       "\n",
       "    .dataframe tbody tr th {\n",
       "        vertical-align: top;\n",
       "    }\n",
       "\n",
       "    .dataframe thead th {\n",
       "        text-align: right;\n",
       "    }\n",
       "</style>\n",
       "<table border=\"1\" class=\"dataframe\">\n",
       "  <thead>\n",
       "    <tr style=\"text-align: right;\">\n",
       "      <th></th>\n",
       "      <th>X</th>\n",
       "      <th>Y</th>\n",
       "      <th>count</th>\n",
       "    </tr>\n",
       "  </thead>\n",
       "  <tbody>\n",
       "    <tr>\n",
       "      <th>21</th>\n",
       "      <td>69</td>\n",
       "      <td>44</td>\n",
       "      <td>63</td>\n",
       "    </tr>\n",
       "    <tr>\n",
       "      <th>2</th>\n",
       "      <td>16</td>\n",
       "      <td>66</td>\n",
       "      <td>62</td>\n",
       "    </tr>\n",
       "    <tr>\n",
       "      <th>7</th>\n",
       "      <td>27</td>\n",
       "      <td>15</td>\n",
       "      <td>57</td>\n",
       "    </tr>\n",
       "    <tr>\n",
       "      <th>20</th>\n",
       "      <td>63</td>\n",
       "      <td>99</td>\n",
       "      <td>57</td>\n",
       "    </tr>\n",
       "    <tr>\n",
       "      <th>11</th>\n",
       "      <td>38</td>\n",
       "      <td>90</td>\n",
       "      <td>54</td>\n",
       "    </tr>\n",
       "  </tbody>\n",
       "</table>\n",
       "</div>"
      ],
      "text/plain": [
       "     X   Y  count\n",
       "21  69  44     63\n",
       "2   16  66     62\n",
       "7   27  15     57\n",
       "20  63  99     57\n",
       "11  38  90     54"
      ]
     },
     "execution_count": 35,
     "metadata": {},
     "output_type": "execute_result"
    }
   ],
   "source": [
    "GroupV = pd.DataFrame(G4P[G4P.type == 1].groupby([\"X\",\"Y\"])[\"id\"].count())\n",
    "GroupV = GroupV.reset_index()\n",
    "GroupV.columns = [\"X\",\"Y\",\"count\"]\n",
    "GroupV.sort_values(by=['count'],ascending=False)[0:5]"
   ]
  },
  {
   "cell_type": "markdown",
   "id": "1b1b5c63",
   "metadata": {},
   "source": [
    "### Group 5"
   ]
  },
  {
   "cell_type": "code",
   "execution_count": 47,
   "id": "058ce1ce",
   "metadata": {},
   "outputs": [
    {
     "data": {
      "text/plain": [
       "(10, 0.003)"
      ]
     },
     "execution_count": 47,
     "metadata": {},
     "output_type": "execute_result"
    }
   ],
   "source": [
    "G5 = list(set(Firday_Crowd)&set(Noon))\n",
    "G5P = Firday.loc[Firday['id'].isin(G5)]\n",
    "len(G5), round(len(G5)/len(Firday.id.unique()),3)"
   ]
  },
  {
   "cell_type": "code",
   "execution_count": 36,
   "id": "32cdd9b8",
   "metadata": {},
   "outputs": [
    {
     "data": {
      "text/html": [
       "<div>\n",
       "<style scoped>\n",
       "    .dataframe tbody tr th:only-of-type {\n",
       "        vertical-align: middle;\n",
       "    }\n",
       "\n",
       "    .dataframe tbody tr th {\n",
       "        vertical-align: top;\n",
       "    }\n",
       "\n",
       "    .dataframe thead th {\n",
       "        text-align: right;\n",
       "    }\n",
       "</style>\n",
       "<table border=\"1\" class=\"dataframe\">\n",
       "  <thead>\n",
       "    <tr style=\"text-align: right;\">\n",
       "      <th></th>\n",
       "      <th>X</th>\n",
       "      <th>Y</th>\n",
       "      <th>count</th>\n",
       "    </tr>\n",
       "  </thead>\n",
       "  <tbody>\n",
       "    <tr>\n",
       "      <th>10</th>\n",
       "      <td>38</td>\n",
       "      <td>90</td>\n",
       "      <td>12</td>\n",
       "    </tr>\n",
       "    <tr>\n",
       "      <th>8</th>\n",
       "      <td>32</td>\n",
       "      <td>33</td>\n",
       "      <td>11</td>\n",
       "    </tr>\n",
       "    <tr>\n",
       "      <th>18</th>\n",
       "      <td>63</td>\n",
       "      <td>99</td>\n",
       "      <td>10</td>\n",
       "    </tr>\n",
       "    <tr>\n",
       "      <th>3</th>\n",
       "      <td>17</td>\n",
       "      <td>43</td>\n",
       "      <td>10</td>\n",
       "    </tr>\n",
       "    <tr>\n",
       "      <th>1</th>\n",
       "      <td>16</td>\n",
       "      <td>49</td>\n",
       "      <td>10</td>\n",
       "    </tr>\n",
       "  </tbody>\n",
       "</table>\n",
       "</div>"
      ],
      "text/plain": [
       "     X   Y  count\n",
       "10  38  90     12\n",
       "8   32  33     11\n",
       "18  63  99     10\n",
       "3   17  43     10\n",
       "1   16  49     10"
      ]
     },
     "execution_count": 36,
     "metadata": {},
     "output_type": "execute_result"
    }
   ],
   "source": [
    "GroupV = pd.DataFrame(G5P[G5P.type == 1].groupby([\"X\",\"Y\"])[\"id\"].count())\n",
    "GroupV = GroupV.reset_index()\n",
    "GroupV.columns = [\"X\",\"Y\",\"count\"]\n",
    "GroupV.sort_values(by=['count'],ascending=False)[0:5]"
   ]
  },
  {
   "cell_type": "markdown",
   "id": "ae4d02e1",
   "metadata": {},
   "source": [
    "### Group 6"
   ]
  },
  {
   "cell_type": "code",
   "execution_count": 48,
   "id": "c7af0f80",
   "metadata": {},
   "outputs": [
    {
     "data": {
      "text/plain": [
       "(58, 0.016)"
      ]
     },
     "execution_count": 48,
     "metadata": {},
     "output_type": "execute_result"
    }
   ],
   "source": [
    "G6 = list(set(Firday_Single)&set(LowDuration))\n",
    "G6P = Firday.loc[Firday['id'].isin(G6)]\n",
    "len(G6), round(len(G6)/len(Firday.id.unique()),3)"
   ]
  },
  {
   "cell_type": "code",
   "execution_count": 37,
   "id": "a2fec499",
   "metadata": {},
   "outputs": [
    {
     "data": {
      "text/html": [
       "<div>\n",
       "<style scoped>\n",
       "    .dataframe tbody tr th:only-of-type {\n",
       "        vertical-align: middle;\n",
       "    }\n",
       "\n",
       "    .dataframe tbody tr th {\n",
       "        vertical-align: top;\n",
       "    }\n",
       "\n",
       "    .dataframe thead th {\n",
       "        text-align: right;\n",
       "    }\n",
       "</style>\n",
       "<table border=\"1\" class=\"dataframe\">\n",
       "  <thead>\n",
       "    <tr style=\"text-align: right;\">\n",
       "      <th></th>\n",
       "      <th>X</th>\n",
       "      <th>Y</th>\n",
       "      <th>count</th>\n",
       "    </tr>\n",
       "  </thead>\n",
       "  <tbody>\n",
       "    <tr>\n",
       "      <th>4</th>\n",
       "      <td>17</td>\n",
       "      <td>43</td>\n",
       "      <td>84</td>\n",
       "    </tr>\n",
       "    <tr>\n",
       "      <th>27</th>\n",
       "      <td>78</td>\n",
       "      <td>48</td>\n",
       "      <td>79</td>\n",
       "    </tr>\n",
       "    <tr>\n",
       "      <th>29</th>\n",
       "      <td>86</td>\n",
       "      <td>44</td>\n",
       "      <td>77</td>\n",
       "    </tr>\n",
       "    <tr>\n",
       "      <th>3</th>\n",
       "      <td>16</td>\n",
       "      <td>66</td>\n",
       "      <td>77</td>\n",
       "    </tr>\n",
       "    <tr>\n",
       "      <th>8</th>\n",
       "      <td>27</td>\n",
       "      <td>15</td>\n",
       "      <td>74</td>\n",
       "    </tr>\n",
       "  </tbody>\n",
       "</table>\n",
       "</div>"
      ],
      "text/plain": [
       "     X   Y  count\n",
       "4   17  43     84\n",
       "27  78  48     79\n",
       "29  86  44     77\n",
       "3   16  66     77\n",
       "8   27  15     74"
      ]
     },
     "execution_count": 37,
     "metadata": {},
     "output_type": "execute_result"
    }
   ],
   "source": [
    "GroupV = pd.DataFrame(G6P[G6P.type == 1].groupby([\"X\",\"Y\"])[\"id\"].count())\n",
    "GroupV = GroupV.reset_index()\n",
    "GroupV.columns = [\"X\",\"Y\",\"count\"]\n",
    "GroupV.sort_values(by=['count'],ascending=False)[0:5]"
   ]
  },
  {
   "cell_type": "markdown",
   "id": "23010d2d",
   "metadata": {},
   "source": [
    "### Group 7"
   ]
  },
  {
   "cell_type": "code",
   "execution_count": 53,
   "id": "9d82fef6",
   "metadata": {},
   "outputs": [
    {
     "data": {
      "text/plain": [
       "(158, 0.044)"
      ]
     },
     "execution_count": 53,
     "metadata": {},
     "output_type": "execute_result"
    }
   ],
   "source": [
    "G7 = list(set(Firday_Group)&set(LowDuration)&set(Early))\n",
    "G7P = Firday.loc[Firday['id'].isin(G7)]\n",
    "len(G7) , round(len(G7)/len(Firday.id.unique()),3)"
   ]
  },
  {
   "cell_type": "code",
   "execution_count": 54,
   "id": "c1f940cd",
   "metadata": {},
   "outputs": [
    {
     "data": {
      "text/html": [
       "<div>\n",
       "<style scoped>\n",
       "    .dataframe tbody tr th:only-of-type {\n",
       "        vertical-align: middle;\n",
       "    }\n",
       "\n",
       "    .dataframe tbody tr th {\n",
       "        vertical-align: top;\n",
       "    }\n",
       "\n",
       "    .dataframe thead th {\n",
       "        text-align: right;\n",
       "    }\n",
       "</style>\n",
       "<table border=\"1\" class=\"dataframe\">\n",
       "  <thead>\n",
       "    <tr style=\"text-align: right;\">\n",
       "      <th></th>\n",
       "      <th>X</th>\n",
       "      <th>Y</th>\n",
       "      <th>count</th>\n",
       "    </tr>\n",
       "  </thead>\n",
       "  <tbody>\n",
       "    <tr>\n",
       "      <th>10</th>\n",
       "      <td>32</td>\n",
       "      <td>33</td>\n",
       "      <td>137</td>\n",
       "    </tr>\n",
       "    <tr>\n",
       "      <th>23</th>\n",
       "      <td>69</td>\n",
       "      <td>44</td>\n",
       "      <td>131</td>\n",
       "    </tr>\n",
       "    <tr>\n",
       "      <th>21</th>\n",
       "      <td>63</td>\n",
       "      <td>99</td>\n",
       "      <td>112</td>\n",
       "    </tr>\n",
       "    <tr>\n",
       "      <th>4</th>\n",
       "      <td>17</td>\n",
       "      <td>43</td>\n",
       "      <td>111</td>\n",
       "    </tr>\n",
       "    <tr>\n",
       "      <th>3</th>\n",
       "      <td>16</td>\n",
       "      <td>66</td>\n",
       "      <td>97</td>\n",
       "    </tr>\n",
       "  </tbody>\n",
       "</table>\n",
       "</div>"
      ],
      "text/plain": [
       "     X   Y  count\n",
       "10  32  33    137\n",
       "23  69  44    131\n",
       "21  63  99    112\n",
       "4   17  43    111\n",
       "3   16  66     97"
      ]
     },
     "execution_count": 54,
     "metadata": {},
     "output_type": "execute_result"
    }
   ],
   "source": [
    "GroupV = pd.DataFrame(G7P[G7P.type == 1].groupby([\"X\",\"Y\"])[\"id\"].count())\n",
    "GroupV = GroupV.reset_index()\n",
    "GroupV.columns = [\"X\",\"Y\",\"count\"]\n",
    "GroupV.sort_values(by=['count'],ascending=False)[0:5]"
   ]
  },
  {
   "cell_type": "markdown",
   "id": "8c0b73ca",
   "metadata": {},
   "source": [
    "### Group 8"
   ]
  },
  {
   "cell_type": "code",
   "execution_count": 50,
   "id": "276e6774",
   "metadata": {},
   "outputs": [
    {
     "data": {
      "text/plain": [
       "(30, 0.008)"
      ]
     },
     "execution_count": 50,
     "metadata": {},
     "output_type": "execute_result"
    }
   ],
   "source": [
    "G8 = list(set(Firday_Group)&set(Late))\n",
    "G8P = Firday.loc[Firday['id'].isin(G8)]\n",
    "len(G8), round(len(G8)/len(Firday.id.unique()),3)"
   ]
  },
  {
   "cell_type": "code",
   "execution_count": 41,
   "id": "67971de9",
   "metadata": {},
   "outputs": [
    {
     "data": {
      "text/html": [
       "<div>\n",
       "<style scoped>\n",
       "    .dataframe tbody tr th:only-of-type {\n",
       "        vertical-align: middle;\n",
       "    }\n",
       "\n",
       "    .dataframe tbody tr th {\n",
       "        vertical-align: top;\n",
       "    }\n",
       "\n",
       "    .dataframe thead th {\n",
       "        text-align: right;\n",
       "    }\n",
       "</style>\n",
       "<table border=\"1\" class=\"dataframe\">\n",
       "  <thead>\n",
       "    <tr style=\"text-align: right;\">\n",
       "      <th></th>\n",
       "      <th>X</th>\n",
       "      <th>Y</th>\n",
       "      <th>count</th>\n",
       "    </tr>\n",
       "  </thead>\n",
       "  <tbody>\n",
       "    <tr>\n",
       "      <th>18</th>\n",
       "      <td>69</td>\n",
       "      <td>44</td>\n",
       "      <td>35</td>\n",
       "    </tr>\n",
       "    <tr>\n",
       "      <th>15</th>\n",
       "      <td>47</td>\n",
       "      <td>11</td>\n",
       "      <td>28</td>\n",
       "    </tr>\n",
       "    <tr>\n",
       "      <th>22</th>\n",
       "      <td>78</td>\n",
       "      <td>48</td>\n",
       "      <td>25</td>\n",
       "    </tr>\n",
       "    <tr>\n",
       "      <th>10</th>\n",
       "      <td>32</td>\n",
       "      <td>33</td>\n",
       "      <td>23</td>\n",
       "    </tr>\n",
       "    <tr>\n",
       "      <th>27</th>\n",
       "      <td>86</td>\n",
       "      <td>44</td>\n",
       "      <td>18</td>\n",
       "    </tr>\n",
       "  </tbody>\n",
       "</table>\n",
       "</div>"
      ],
      "text/plain": [
       "     X   Y  count\n",
       "18  69  44     35\n",
       "15  47  11     28\n",
       "22  78  48     25\n",
       "10  32  33     23\n",
       "27  86  44     18"
      ]
     },
     "execution_count": 41,
     "metadata": {},
     "output_type": "execute_result"
    }
   ],
   "source": [
    "GroupV = pd.DataFrame(G8P[G8P.type == 1].groupby([\"X\",\"Y\"])[\"id\"].count())\n",
    "GroupV = GroupV.reset_index()\n",
    "GroupV.columns = [\"X\",\"Y\",\"count\"]\n",
    "GroupV.sort_values(by=['count'],ascending=False)[0:5]"
   ]
  },
  {
   "cell_type": "code",
   "execution_count": null,
   "id": "6f3a1c42",
   "metadata": {},
   "outputs": [],
   "source": []
  },
  {
   "cell_type": "code",
   "execution_count": 55,
   "id": "231bf0d3",
   "metadata": {},
   "outputs": [],
   "source": [
    "g1 = pd.read_csv('FridayGapID.csv')\n",
    "g2 = pd.read_csv('FridayGapMax.csv')\n",
    "g3 = pd.read_csv('FridayGapMed.csv')"
   ]
  },
  {
   "cell_type": "code",
   "execution_count": 56,
   "id": "6b898ff7",
   "metadata": {},
   "outputs": [],
   "source": [
    "GapID = [  i.split(\".\", 1)[0] for i in g1.columns ]\n",
    "GapMax = [  i.split(\".\", 1)[0] for i in g2.columns ]\n",
    "GapMed = [  i.split(\".\", 1)[0] for i in g3.columns ]"
   ]
  },
  {
   "cell_type": "code",
   "execution_count": 57,
   "id": "21f17eae",
   "metadata": {},
   "outputs": [],
   "source": [
    "inds1 =  np.argsort(GapMax)\n",
    "GapH = np.array(GapID)[inds1[-150:]]\n",
    "GapHV = Firday.loc[Firday['id'].isin(GapH)]\n",
    "\n",
    "GapHV2 = pd.DataFrame(GapHV[GapHV.type == 1].groupby([\"X\",\"Y\"])[\"id\"].count())\n",
    "GapHV2 = GapHV2.reset_index()\n",
    "GapHV2.columns = [\"X\",\"Y\",\"count\"]"
   ]
  },
  {
   "cell_type": "code",
   "execution_count": 61,
   "id": "d39f5aaf",
   "metadata": {},
   "outputs": [
    {
     "data": {
      "text/html": [
       "<div>\n",
       "<style scoped>\n",
       "    .dataframe tbody tr th:only-of-type {\n",
       "        vertical-align: middle;\n",
       "    }\n",
       "\n",
       "    .dataframe tbody tr th {\n",
       "        vertical-align: top;\n",
       "    }\n",
       "\n",
       "    .dataframe thead th {\n",
       "        text-align: right;\n",
       "    }\n",
       "</style>\n",
       "<table border=\"1\" class=\"dataframe\">\n",
       "  <thead>\n",
       "    <tr style=\"text-align: right;\">\n",
       "      <th></th>\n",
       "      <th>X</th>\n",
       "      <th>Y</th>\n",
       "      <th>count</th>\n",
       "    </tr>\n",
       "  </thead>\n",
       "  <tbody>\n",
       "    <tr>\n",
       "      <th>35</th>\n",
       "      <td>86</td>\n",
       "      <td>44</td>\n",
       "      <td>166</td>\n",
       "    </tr>\n",
       "    <tr>\n",
       "      <th>10</th>\n",
       "      <td>32</td>\n",
       "      <td>33</td>\n",
       "      <td>163</td>\n",
       "    </tr>\n",
       "    <tr>\n",
       "      <th>16</th>\n",
       "      <td>45</td>\n",
       "      <td>24</td>\n",
       "      <td>149</td>\n",
       "    </tr>\n",
       "    <tr>\n",
       "      <th>12</th>\n",
       "      <td>38</td>\n",
       "      <td>90</td>\n",
       "      <td>143</td>\n",
       "    </tr>\n",
       "    <tr>\n",
       "      <th>3</th>\n",
       "      <td>16</td>\n",
       "      <td>66</td>\n",
       "      <td>138</td>\n",
       "    </tr>\n",
       "  </tbody>\n",
       "</table>\n",
       "</div>"
      ],
      "text/plain": [
       "     X   Y  count\n",
       "35  86  44    166\n",
       "10  32  33    163\n",
       "16  45  24    149\n",
       "12  38  90    143\n",
       "3   16  66    138"
      ]
     },
     "execution_count": 61,
     "metadata": {},
     "output_type": "execute_result"
    }
   ],
   "source": [
    "GapHV2.sort_values(by=['count'],ascending=False)[0:5]"
   ]
  },
  {
   "cell_type": "code",
   "execution_count": 58,
   "id": "f2fd7eb5",
   "metadata": {},
   "outputs": [],
   "source": [
    "inds2 =  np.argsort(GapMed) \n",
    "Faster = np.array(GapID)[inds2[0:150]]\n",
    "FasterV = Firday.loc[Firday['id'].isin(Faster)]\n",
    "\n",
    "FasterV2 = pd.DataFrame(FasterV[FasterV.type == 1].groupby([\"X\",\"Y\"])[\"id\"].count())\n",
    "FasterV2 = FasterV2.reset_index()\n",
    "FasterV2.columns = [\"X\",\"Y\",\"count\"]"
   ]
  },
  {
   "cell_type": "code",
   "execution_count": 62,
   "id": "9a698648",
   "metadata": {},
   "outputs": [
    {
     "data": {
      "text/html": [
       "<div>\n",
       "<style scoped>\n",
       "    .dataframe tbody tr th:only-of-type {\n",
       "        vertical-align: middle;\n",
       "    }\n",
       "\n",
       "    .dataframe tbody tr th {\n",
       "        vertical-align: top;\n",
       "    }\n",
       "\n",
       "    .dataframe thead th {\n",
       "        text-align: right;\n",
       "    }\n",
       "</style>\n",
       "<table border=\"1\" class=\"dataframe\">\n",
       "  <thead>\n",
       "    <tr style=\"text-align: right;\">\n",
       "      <th></th>\n",
       "      <th>X</th>\n",
       "      <th>Y</th>\n",
       "      <th>count</th>\n",
       "    </tr>\n",
       "  </thead>\n",
       "  <tbody>\n",
       "    <tr>\n",
       "      <th>16</th>\n",
       "      <td>45</td>\n",
       "      <td>24</td>\n",
       "      <td>298</td>\n",
       "    </tr>\n",
       "    <tr>\n",
       "      <th>23</th>\n",
       "      <td>69</td>\n",
       "      <td>44</td>\n",
       "      <td>230</td>\n",
       "    </tr>\n",
       "    <tr>\n",
       "      <th>12</th>\n",
       "      <td>38</td>\n",
       "      <td>90</td>\n",
       "      <td>221</td>\n",
       "    </tr>\n",
       "    <tr>\n",
       "      <th>4</th>\n",
       "      <td>17</td>\n",
       "      <td>43</td>\n",
       "      <td>214</td>\n",
       "    </tr>\n",
       "    <tr>\n",
       "      <th>17</th>\n",
       "      <td>47</td>\n",
       "      <td>11</td>\n",
       "      <td>210</td>\n",
       "    </tr>\n",
       "  </tbody>\n",
       "</table>\n",
       "</div>"
      ],
      "text/plain": [
       "     X   Y  count\n",
       "16  45  24    298\n",
       "23  69  44    230\n",
       "12  38  90    221\n",
       "4   17  43    214\n",
       "17  47  11    210"
      ]
     },
     "execution_count": 62,
     "metadata": {},
     "output_type": "execute_result"
    }
   ],
   "source": [
    "FasterV2.sort_values(by=['count'],ascending=False)[0:5]"
   ]
  },
  {
   "cell_type": "code",
   "execution_count": 59,
   "id": "7adb770c",
   "metadata": {},
   "outputs": [],
   "source": [
    "inds3 =  np.argsort(GapMed)\n",
    "Slower = np.array(GapID)[inds3[-150:]]\n",
    "SlowerV = Firday.loc[Firday['id'].isin(Slower)]\n",
    "\n",
    "SlowerV2 = pd.DataFrame(SlowerV[SlowerV.type == 1].groupby([\"X\",\"Y\"])[\"id\"].count())\n",
    "SlowerV2 = SlowerV2.reset_index()\n",
    "SlowerV2.columns = [\"X\",\"Y\",\"count\"]"
   ]
  },
  {
   "cell_type": "code",
   "execution_count": 63,
   "id": "9c37504a",
   "metadata": {},
   "outputs": [
    {
     "data": {
      "text/html": [
       "<div>\n",
       "<style scoped>\n",
       "    .dataframe tbody tr th:only-of-type {\n",
       "        vertical-align: middle;\n",
       "    }\n",
       "\n",
       "    .dataframe tbody tr th {\n",
       "        vertical-align: top;\n",
       "    }\n",
       "\n",
       "    .dataframe thead th {\n",
       "        text-align: right;\n",
       "    }\n",
       "</style>\n",
       "<table border=\"1\" class=\"dataframe\">\n",
       "  <thead>\n",
       "    <tr style=\"text-align: right;\">\n",
       "      <th></th>\n",
       "      <th>X</th>\n",
       "      <th>Y</th>\n",
       "      <th>count</th>\n",
       "    </tr>\n",
       "  </thead>\n",
       "  <tbody>\n",
       "    <tr>\n",
       "      <th>36</th>\n",
       "      <td>86</td>\n",
       "      <td>44</td>\n",
       "      <td>177</td>\n",
       "    </tr>\n",
       "    <tr>\n",
       "      <th>29</th>\n",
       "      <td>78</td>\n",
       "      <td>48</td>\n",
       "      <td>177</td>\n",
       "    </tr>\n",
       "    <tr>\n",
       "      <th>16</th>\n",
       "      <td>45</td>\n",
       "      <td>24</td>\n",
       "      <td>175</td>\n",
       "    </tr>\n",
       "    <tr>\n",
       "      <th>12</th>\n",
       "      <td>38</td>\n",
       "      <td>90</td>\n",
       "      <td>173</td>\n",
       "    </tr>\n",
       "    <tr>\n",
       "      <th>3</th>\n",
       "      <td>16</td>\n",
       "      <td>66</td>\n",
       "      <td>169</td>\n",
       "    </tr>\n",
       "  </tbody>\n",
       "</table>\n",
       "</div>"
      ],
      "text/plain": [
       "     X   Y  count\n",
       "36  86  44    177\n",
       "29  78  48    177\n",
       "16  45  24    175\n",
       "12  38  90    173\n",
       "3   16  66    169"
      ]
     },
     "execution_count": 63,
     "metadata": {},
     "output_type": "execute_result"
    }
   ],
   "source": [
    "SlowerV2.sort_values(by=['count'],ascending=False)[0:5]"
   ]
  },
  {
   "cell_type": "code",
   "execution_count": null,
   "id": "190f2be6",
   "metadata": {},
   "outputs": [],
   "source": []
  },
  {
   "cell_type": "code",
   "execution_count": null,
   "id": "c9d03636",
   "metadata": {},
   "outputs": [],
   "source": []
  },
  {
   "cell_type": "code",
   "execution_count": null,
   "id": "c55b3ede",
   "metadata": {},
   "outputs": [],
   "source": []
  },
  {
   "cell_type": "code",
   "execution_count": null,
   "id": "64f1ee7e",
   "metadata": {},
   "outputs": [],
   "source": []
  },
  {
   "cell_type": "code",
   "execution_count": null,
   "id": "9aa8222e",
   "metadata": {},
   "outputs": [],
   "source": []
  },
  {
   "cell_type": "code",
   "execution_count": null,
   "id": "8eb68671",
   "metadata": {},
   "outputs": [],
   "source": []
  },
  {
   "cell_type": "code",
   "execution_count": null,
   "id": "964f2092",
   "metadata": {},
   "outputs": [],
   "source": []
  },
  {
   "cell_type": "code",
   "execution_count": null,
   "id": "069e08ec",
   "metadata": {},
   "outputs": [],
   "source": []
  },
  {
   "cell_type": "code",
   "execution_count": null,
   "id": "7d54c55a",
   "metadata": {},
   "outputs": [],
   "source": []
  },
  {
   "cell_type": "code",
   "execution_count": null,
   "id": "6176d76b",
   "metadata": {},
   "outputs": [],
   "source": []
  },
  {
   "cell_type": "code",
   "execution_count": null,
   "id": "e1152611",
   "metadata": {},
   "outputs": [],
   "source": []
  },
  {
   "cell_type": "code",
   "execution_count": null,
   "id": "30c4a66f",
   "metadata": {},
   "outputs": [],
   "source": []
  },
  {
   "cell_type": "code",
   "execution_count": null,
   "id": "2347b665",
   "metadata": {},
   "outputs": [],
   "source": []
  }
 ],
 "metadata": {
  "kernelspec": {
   "display_name": "Python 3",
   "language": "python",
   "name": "python3"
  },
  "language_info": {
   "codemirror_mode": {
    "name": "ipython",
    "version": 3
   },
   "file_extension": ".py",
   "mimetype": "text/x-python",
   "name": "python",
   "nbconvert_exporter": "python",
   "pygments_lexer": "ipython3",
   "version": "3.8.8"
  }
 },
 "nbformat": 4,
 "nbformat_minor": 5
}
