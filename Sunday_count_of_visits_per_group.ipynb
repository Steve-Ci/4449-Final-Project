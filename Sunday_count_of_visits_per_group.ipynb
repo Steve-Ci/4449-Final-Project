{
 "cells": [
  {
   "cell_type": "code",
   "execution_count": 1,
   "id": "1b0a1ce4",
   "metadata": {},
   "outputs": [],
   "source": [
    "import pandas as pd\n",
    "import numpy as np\n",
    "import matplotlib.pyplot as plt\n",
    "import seaborn as sns\n",
    "import warnings\n",
    "warnings.simplefilter(\"ignore\")\n",
    "from datetime import datetime\n",
    "import plotly.graph_objects as go\n",
    "from skimage import io\n",
    "import plotly.express as px\n",
    "import time"
   ]
  },
  {
   "cell_type": "code",
   "execution_count": 2,
   "id": "e386b8d9",
   "metadata": {},
   "outputs": [],
   "source": [
    "Sunday = pd.DataFrame(pd.read_csv('park-movement-Sun_New.csv'))\n",
    "Sunday = Sunday.drop([\"Unnamed: 0\"], axis=1)\n",
    "Sunday[\"id\"] = Sunday[\"id\"].astype(str)\n",
    "Sunday[\"Facility_coordinates\"]= Sunday.apply(lambda row: (int(row.X),int(row.Y)), axis=1)\n",
    "Sunday[\"X\"] = Sunday[\"X\"].map(lambda x:int(x))\n",
    "Sunday[\"Y\"] = Sunday[\"Y\"].map(lambda x:int(x))"
   ]
  },
  {
   "cell_type": "code",
   "execution_count": 3,
   "id": "36a74217",
   "metadata": {},
   "outputs": [],
   "source": [
    "Sunday[\"id\"] = Sunday[\"id\"].map(lambda x: x.split(\".\", 1)[0])"
   ]
  },
  {
   "cell_type": "code",
   "execution_count": 4,
   "id": "a8481e37",
   "metadata": {},
   "outputs": [
    {
     "data": {
      "text/html": [
       "<div>\n",
       "<style scoped>\n",
       "    .dataframe tbody tr th:only-of-type {\n",
       "        vertical-align: middle;\n",
       "    }\n",
       "\n",
       "    .dataframe tbody tr th {\n",
       "        vertical-align: top;\n",
       "    }\n",
       "\n",
       "    .dataframe thead th {\n",
       "        text-align: right;\n",
       "    }\n",
       "</style>\n",
       "<table border=\"1\" class=\"dataframe\">\n",
       "  <thead>\n",
       "    <tr style=\"text-align: right;\">\n",
       "      <th></th>\n",
       "      <th>Timestamp</th>\n",
       "      <th>id</th>\n",
       "      <th>type</th>\n",
       "      <th>X</th>\n",
       "      <th>Y</th>\n",
       "      <th>visit_count</th>\n",
       "      <th>visit_duration</th>\n",
       "      <th>Facility_coordinates</th>\n",
       "    </tr>\n",
       "  </thead>\n",
       "  <tbody>\n",
       "    <tr>\n",
       "      <th>0</th>\n",
       "      <td>1402236011</td>\n",
       "      <td>1923259</td>\n",
       "      <td>1</td>\n",
       "      <td>0</td>\n",
       "      <td>67</td>\n",
       "      <td>1418</td>\n",
       "      <td>765</td>\n",
       "      <td>(0, 67)</td>\n",
       "    </tr>\n",
       "    <tr>\n",
       "      <th>1</th>\n",
       "      <td>1402236046</td>\n",
       "      <td>1923259</td>\n",
       "      <td>0</td>\n",
       "      <td>1</td>\n",
       "      <td>66</td>\n",
       "      <td>1418</td>\n",
       "      <td>765</td>\n",
       "      <td>(1, 66)</td>\n",
       "    </tr>\n",
       "    <tr>\n",
       "      <th>2</th>\n",
       "      <td>1402236054</td>\n",
       "      <td>1923259</td>\n",
       "      <td>0</td>\n",
       "      <td>2</td>\n",
       "      <td>67</td>\n",
       "      <td>1418</td>\n",
       "      <td>765</td>\n",
       "      <td>(2, 67)</td>\n",
       "    </tr>\n",
       "    <tr>\n",
       "      <th>3</th>\n",
       "      <td>1402236062</td>\n",
       "      <td>1923259</td>\n",
       "      <td>0</td>\n",
       "      <td>3</td>\n",
       "      <td>67</td>\n",
       "      <td>1418</td>\n",
       "      <td>765</td>\n",
       "      <td>(3, 67)</td>\n",
       "    </tr>\n",
       "    <tr>\n",
       "      <th>4</th>\n",
       "      <td>1402236070</td>\n",
       "      <td>1923259</td>\n",
       "      <td>0</td>\n",
       "      <td>4</td>\n",
       "      <td>67</td>\n",
       "      <td>1418</td>\n",
       "      <td>765</td>\n",
       "      <td>(4, 67)</td>\n",
       "    </tr>\n",
       "    <tr>\n",
       "      <th>...</th>\n",
       "      <td>...</td>\n",
       "      <td>...</td>\n",
       "      <td>...</td>\n",
       "      <td>...</td>\n",
       "      <td>...</td>\n",
       "      <td>...</td>\n",
       "      <td>...</td>\n",
       "      <td>...</td>\n",
       "    </tr>\n",
       "    <tr>\n",
       "      <th>10932419</th>\n",
       "      <td>1402290841</td>\n",
       "      <td>571266</td>\n",
       "      <td>0</td>\n",
       "      <td>95</td>\n",
       "      <td>77</td>\n",
       "      <td>475</td>\n",
       "      <td>327</td>\n",
       "      <td>(95, 77)</td>\n",
       "    </tr>\n",
       "    <tr>\n",
       "      <th>10932420</th>\n",
       "      <td>1402290848</td>\n",
       "      <td>571266</td>\n",
       "      <td>0</td>\n",
       "      <td>96</td>\n",
       "      <td>77</td>\n",
       "      <td>475</td>\n",
       "      <td>327</td>\n",
       "      <td>(96, 77)</td>\n",
       "    </tr>\n",
       "    <tr>\n",
       "      <th>10932421</th>\n",
       "      <td>1402290855</td>\n",
       "      <td>571266</td>\n",
       "      <td>0</td>\n",
       "      <td>97</td>\n",
       "      <td>76</td>\n",
       "      <td>475</td>\n",
       "      <td>327</td>\n",
       "      <td>(97, 76)</td>\n",
       "    </tr>\n",
       "    <tr>\n",
       "      <th>10932422</th>\n",
       "      <td>1402290862</td>\n",
       "      <td>571266</td>\n",
       "      <td>0</td>\n",
       "      <td>98</td>\n",
       "      <td>77</td>\n",
       "      <td>475</td>\n",
       "      <td>327</td>\n",
       "      <td>(98, 77)</td>\n",
       "    </tr>\n",
       "    <tr>\n",
       "      <th>10932423</th>\n",
       "      <td>1402290869</td>\n",
       "      <td>571266</td>\n",
       "      <td>0</td>\n",
       "      <td>99</td>\n",
       "      <td>77</td>\n",
       "      <td>475</td>\n",
       "      <td>327</td>\n",
       "      <td>(99, 77)</td>\n",
       "    </tr>\n",
       "  </tbody>\n",
       "</table>\n",
       "<p>10932424 rows × 8 columns</p>\n",
       "</div>"
      ],
      "text/plain": [
       "           Timestamp       id  type   X   Y  visit_count  visit_duration  \\\n",
       "0         1402236011  1923259     1   0  67         1418             765   \n",
       "1         1402236046  1923259     0   1  66         1418             765   \n",
       "2         1402236054  1923259     0   2  67         1418             765   \n",
       "3         1402236062  1923259     0   3  67         1418             765   \n",
       "4         1402236070  1923259     0   4  67         1418             765   \n",
       "...              ...      ...   ...  ..  ..          ...             ...   \n",
       "10932419  1402290841   571266     0  95  77          475             327   \n",
       "10932420  1402290848   571266     0  96  77          475             327   \n",
       "10932421  1402290855   571266     0  97  76          475             327   \n",
       "10932422  1402290862   571266     0  98  77          475             327   \n",
       "10932423  1402290869   571266     0  99  77          475             327   \n",
       "\n",
       "         Facility_coordinates  \n",
       "0                     (0, 67)  \n",
       "1                     (1, 66)  \n",
       "2                     (2, 67)  \n",
       "3                     (3, 67)  \n",
       "4                     (4, 67)  \n",
       "...                       ...  \n",
       "10932419             (95, 77)  \n",
       "10932420             (96, 77)  \n",
       "10932421             (97, 76)  \n",
       "10932422             (98, 77)  \n",
       "10932423             (99, 77)  \n",
       "\n",
       "[10932424 rows x 8 columns]"
      ]
     },
     "execution_count": 4,
     "metadata": {},
     "output_type": "execute_result"
    }
   ],
   "source": [
    "Sunday"
   ]
  },
  {
   "cell_type": "code",
   "execution_count": 6,
   "id": "1b1c3f41",
   "metadata": {},
   "outputs": [],
   "source": [
    "d1 = pd.read_csv('SundayGroupCount.csv')\n",
    "d2 = pd.read_csv('SundayCrowdCount.csv')\n",
    "d3 = pd.read_csv('SundaySingleCount.csv')\n",
    "\n",
    "Group = [  i.split(\".\", 1)[0] for i in d1.columns ]\n",
    "Crowd = [  i.split(\".\", 1)[0] for i in d2.columns ]\n",
    "Single = [  i.split(\".\", 1)[0] for i in d3.columns ]\n",
    "\n",
    "Sunday_Group = list(set(Group))\n",
    "Sunday_Crowd = list(set(Crowd)-set(Group))\n",
    "Sunday_Single=  list(set(list(set(Single)-set(Group)))-set(Crowd)) "
   ]
  },
  {
   "cell_type": "code",
   "execution_count": 9,
   "id": "a6ce27f3",
   "metadata": {},
   "outputs": [],
   "source": [
    "TimePointMorning = time.mktime(time.strptime(\"2014-6-08 11:00:00\", \"%Y-%m-%d %H:%M:%S\"))\n",
    "TimePointAfterNoon = time.mktime(time.strptime(\"2014-6-08 16:00:00\", \"%Y-%m-%d %H:%M:%S\"))\n",
    "\n",
    "ArrivalTime = Sunday.copy().drop_duplicates(subset='id')\n",
    "ArrivalTime[\"ArrivalTime\"] = ArrivalTime[\"Timestamp\"].map(lambda x: 1 if x- TimePointMorning >= 0 and x - TimePointAfterNoon <= 0 else ( 2 if x - TimePointAfterNoon >= 0 else 0 ) )\n",
    "Early = list(ArrivalTime[ArrivalTime[\"ArrivalTime\"]==0].id.unique())\n",
    "#Early = [  i.split(\".\", 1)[0] for i in Early ]\n",
    "Noon =  list(ArrivalTime[ArrivalTime[\"ArrivalTime\"]==1].id.unique())\n",
    "#Noon = [  i.split(\".\", 1)[0] for i in Noon ]\n",
    "Late = list(ArrivalTime[ArrivalTime[\"ArrivalTime\"]==2].id.unique())\n",
    "#aLate = [  i.split(\".\", 1)[0] for i in Late ]"
   ]
  },
  {
   "cell_type": "code",
   "execution_count": 10,
   "id": "f88820a8",
   "metadata": {},
   "outputs": [],
   "source": [
    "m = np.mean(Sunday[\"visit_duration\"].unique())\n",
    "\n",
    "Sunday_IITime = Sunday.copy().drop_duplicates(subset='id')\n",
    "HighDuration = list(Sunday_IITime[Sunday_IITime[\"visit_duration\"] >= m ].id)\n",
    "#HighDuration = [  i.split(\".\", 1)[0] for i in HighDuration ]\n",
    "LowDuration = list(Sunday_IITime[Sunday_IITime[\"visit_duration\"] < m ].id)\n",
    "#LowDuration = [  i.split(\".\", 1)[0] for i in LowDuration ]"
   ]
  },
  {
   "cell_type": "code",
   "execution_count": 52,
   "id": "0e048ec3",
   "metadata": {},
   "outputs": [
    {
     "data": {
      "text/plain": [
       "594.7958115183246"
      ]
     },
     "execution_count": 52,
     "metadata": {},
     "output_type": "execute_result"
    }
   ],
   "source": [
    "np.mean(Sunday[\"visit_duration\"].unique())"
   ]
  },
  {
   "cell_type": "markdown",
   "id": "4f864bca",
   "metadata": {},
   "source": [
    "### Group 1"
   ]
  },
  {
   "cell_type": "code",
   "execution_count": 14,
   "id": "2614a28c",
   "metadata": {},
   "outputs": [
    {
     "data": {
      "text/plain": [
       "(5212, 0.689)"
      ]
     },
     "execution_count": 14,
     "metadata": {},
     "output_type": "execute_result"
    }
   ],
   "source": [
    "G1 = list(set(Sunday_Group)&set(Early)&set( HighDuration))\n",
    "G1P = Sunday.loc[Sunday['id'].isin(G1)]\n",
    "len(G1), round(len(G1)/len(Sunday.id.unique()),3)"
   ]
  },
  {
   "cell_type": "code",
   "execution_count": 13,
   "id": "15bca6b8",
   "metadata": {},
   "outputs": [
    {
     "data": {
      "text/html": [
       "<div>\n",
       "<style scoped>\n",
       "    .dataframe tbody tr th:only-of-type {\n",
       "        vertical-align: middle;\n",
       "    }\n",
       "\n",
       "    .dataframe tbody tr th {\n",
       "        vertical-align: top;\n",
       "    }\n",
       "\n",
       "    .dataframe thead th {\n",
       "        text-align: right;\n",
       "    }\n",
       "</style>\n",
       "<table border=\"1\" class=\"dataframe\">\n",
       "  <thead>\n",
       "    <tr style=\"text-align: right;\">\n",
       "      <th></th>\n",
       "      <th>X</th>\n",
       "      <th>Y</th>\n",
       "      <th>count</th>\n",
       "    </tr>\n",
       "  </thead>\n",
       "  <tbody>\n",
       "    <tr>\n",
       "      <th>12</th>\n",
       "      <td>38</td>\n",
       "      <td>90</td>\n",
       "      <td>5695</td>\n",
       "    </tr>\n",
       "    <tr>\n",
       "      <th>36</th>\n",
       "      <td>86</td>\n",
       "      <td>44</td>\n",
       "      <td>5573</td>\n",
       "    </tr>\n",
       "    <tr>\n",
       "      <th>8</th>\n",
       "      <td>27</td>\n",
       "      <td>15</td>\n",
       "      <td>5480</td>\n",
       "    </tr>\n",
       "    <tr>\n",
       "      <th>17</th>\n",
       "      <td>47</td>\n",
       "      <td>11</td>\n",
       "      <td>5460</td>\n",
       "    </tr>\n",
       "    <tr>\n",
       "      <th>16</th>\n",
       "      <td>45</td>\n",
       "      <td>24</td>\n",
       "      <td>5404</td>\n",
       "    </tr>\n",
       "  </tbody>\n",
       "</table>\n",
       "</div>"
      ],
      "text/plain": [
       "     X   Y  count\n",
       "12  38  90   5695\n",
       "36  86  44   5573\n",
       "8   27  15   5480\n",
       "17  47  11   5460\n",
       "16  45  24   5404"
      ]
     },
     "execution_count": 13,
     "metadata": {},
     "output_type": "execute_result"
    }
   ],
   "source": [
    "GroupV = pd.DataFrame(G1P[G1P.type == 1].groupby([\"X\",\"Y\"])[\"id\"].count())\n",
    "GroupV = GroupV.reset_index()\n",
    "GroupV.columns = [\"X\",\"Y\",\"count\"]\n",
    "GroupV.sort_values(by=['count'],ascending=False)[0:5]"
   ]
  },
  {
   "cell_type": "markdown",
   "id": "ec51a467",
   "metadata": {},
   "source": [
    "### Group 2"
   ]
  },
  {
   "cell_type": "code",
   "execution_count": 42,
   "id": "3315df9f",
   "metadata": {},
   "outputs": [
    {
     "data": {
      "text/plain": [
       "(913, 0.121)"
      ]
     },
     "execution_count": 42,
     "metadata": {},
     "output_type": "execute_result"
    }
   ],
   "source": [
    "G2 = list(set(Sunday_Crowd)&set(Early)&set( HighDuration))\n",
    "G2P = Sunday.loc[Sunday['id'].isin(G2)]\n",
    "len(G2), round(len(G2)/len(Sunday.id.unique()),3)"
   ]
  },
  {
   "cell_type": "code",
   "execution_count": 43,
   "id": "133916c1",
   "metadata": {},
   "outputs": [
    {
     "data": {
      "text/html": [
       "<div>\n",
       "<style scoped>\n",
       "    .dataframe tbody tr th:only-of-type {\n",
       "        vertical-align: middle;\n",
       "    }\n",
       "\n",
       "    .dataframe tbody tr th {\n",
       "        vertical-align: top;\n",
       "    }\n",
       "\n",
       "    .dataframe thead th {\n",
       "        text-align: right;\n",
       "    }\n",
       "</style>\n",
       "<table border=\"1\" class=\"dataframe\">\n",
       "  <thead>\n",
       "    <tr style=\"text-align: right;\">\n",
       "      <th></th>\n",
       "      <th>X</th>\n",
       "      <th>Y</th>\n",
       "      <th>count</th>\n",
       "    </tr>\n",
       "  </thead>\n",
       "  <tbody>\n",
       "    <tr>\n",
       "      <th>12</th>\n",
       "      <td>38</td>\n",
       "      <td>90</td>\n",
       "      <td>1143</td>\n",
       "    </tr>\n",
       "    <tr>\n",
       "      <th>16</th>\n",
       "      <td>45</td>\n",
       "      <td>24</td>\n",
       "      <td>1063</td>\n",
       "    </tr>\n",
       "    <tr>\n",
       "      <th>36</th>\n",
       "      <td>86</td>\n",
       "      <td>44</td>\n",
       "      <td>1047</td>\n",
       "    </tr>\n",
       "    <tr>\n",
       "      <th>17</th>\n",
       "      <td>47</td>\n",
       "      <td>11</td>\n",
       "      <td>976</td>\n",
       "    </tr>\n",
       "    <tr>\n",
       "      <th>8</th>\n",
       "      <td>27</td>\n",
       "      <td>15</td>\n",
       "      <td>967</td>\n",
       "    </tr>\n",
       "  </tbody>\n",
       "</table>\n",
       "</div>"
      ],
      "text/plain": [
       "     X   Y  count\n",
       "12  38  90   1143\n",
       "16  45  24   1063\n",
       "36  86  44   1047\n",
       "17  47  11    976\n",
       "8   27  15    967"
      ]
     },
     "execution_count": 43,
     "metadata": {},
     "output_type": "execute_result"
    }
   ],
   "source": [
    "GroupV = pd.DataFrame(G2P[G2P.type == 1].groupby([\"X\",\"Y\"])[\"id\"].count())\n",
    "GroupV = GroupV.reset_index()\n",
    "GroupV.columns = [\"X\",\"Y\",\"count\"]\n",
    "GroupV.sort_values(by=['count'],ascending=False)[0:5]"
   ]
  },
  {
   "cell_type": "markdown",
   "id": "6e99703c",
   "metadata": {},
   "source": [
    "### Group 3"
   ]
  },
  {
   "cell_type": "code",
   "execution_count": 17,
   "id": "2c5107d1",
   "metadata": {},
   "outputs": [
    {
     "data": {
      "text/plain": [
       "(875, 0.116)"
      ]
     },
     "execution_count": 17,
     "metadata": {},
     "output_type": "execute_result"
    }
   ],
   "source": [
    "G3 = list(set(Sunday_Single)&set(Early)&set(HighDuration))\n",
    "G3P = Sunday.loc[Sunday['id'].isin(G3)]\n",
    "len(G3), round(len(G3)/len(Sunday.id.unique()),3)"
   ]
  },
  {
   "cell_type": "code",
   "execution_count": 18,
   "id": "bd882a09",
   "metadata": {},
   "outputs": [
    {
     "data": {
      "text/html": [
       "<div>\n",
       "<style scoped>\n",
       "    .dataframe tbody tr th:only-of-type {\n",
       "        vertical-align: middle;\n",
       "    }\n",
       "\n",
       "    .dataframe tbody tr th {\n",
       "        vertical-align: top;\n",
       "    }\n",
       "\n",
       "    .dataframe thead th {\n",
       "        text-align: right;\n",
       "    }\n",
       "</style>\n",
       "<table border=\"1\" class=\"dataframe\">\n",
       "  <thead>\n",
       "    <tr style=\"text-align: right;\">\n",
       "      <th></th>\n",
       "      <th>X</th>\n",
       "      <th>Y</th>\n",
       "      <th>count</th>\n",
       "    </tr>\n",
       "  </thead>\n",
       "  <tbody>\n",
       "    <tr>\n",
       "      <th>12</th>\n",
       "      <td>38</td>\n",
       "      <td>90</td>\n",
       "      <td>1087</td>\n",
       "    </tr>\n",
       "    <tr>\n",
       "      <th>36</th>\n",
       "      <td>86</td>\n",
       "      <td>44</td>\n",
       "      <td>1036</td>\n",
       "    </tr>\n",
       "    <tr>\n",
       "      <th>17</th>\n",
       "      <td>47</td>\n",
       "      <td>11</td>\n",
       "      <td>1036</td>\n",
       "    </tr>\n",
       "    <tr>\n",
       "      <th>8</th>\n",
       "      <td>27</td>\n",
       "      <td>15</td>\n",
       "      <td>1028</td>\n",
       "    </tr>\n",
       "    <tr>\n",
       "      <th>16</th>\n",
       "      <td>45</td>\n",
       "      <td>24</td>\n",
       "      <td>1023</td>\n",
       "    </tr>\n",
       "  </tbody>\n",
       "</table>\n",
       "</div>"
      ],
      "text/plain": [
       "     X   Y  count\n",
       "12  38  90   1087\n",
       "36  86  44   1036\n",
       "17  47  11   1036\n",
       "8   27  15   1028\n",
       "16  45  24   1023"
      ]
     },
     "execution_count": 18,
     "metadata": {},
     "output_type": "execute_result"
    }
   ],
   "source": [
    "GroupV = pd.DataFrame(G3P[G3P.type == 1].groupby([\"X\",\"Y\"])[\"id\"].count())\n",
    "GroupV = GroupV.reset_index()\n",
    "GroupV.columns = [\"X\",\"Y\",\"count\"]\n",
    "GroupV.sort_values(by=['count'],ascending=False)[0:5]"
   ]
  },
  {
   "cell_type": "markdown",
   "id": "23ddcdb0",
   "metadata": {},
   "source": [
    "### Group 4"
   ]
  },
  {
   "cell_type": "code",
   "execution_count": 36,
   "id": "23372065",
   "metadata": {},
   "outputs": [
    {
     "data": {
      "text/plain": [
       "(60, 0.008)"
      ]
     },
     "execution_count": 36,
     "metadata": {},
     "output_type": "execute_result"
    }
   ],
   "source": [
    "G4 = list(set(Sunday_Group)&set(Noon))\n",
    "G4P = Sunday.loc[Sunday['id'].isin(G4)]\n",
    "len(G4), round(len(G4)/len(Sunday.id.unique()),3) "
   ]
  },
  {
   "cell_type": "code",
   "execution_count": 37,
   "id": "58733ce9",
   "metadata": {},
   "outputs": [
    {
     "data": {
      "text/html": [
       "<div>\n",
       "<style scoped>\n",
       "    .dataframe tbody tr th:only-of-type {\n",
       "        vertical-align: middle;\n",
       "    }\n",
       "\n",
       "    .dataframe tbody tr th {\n",
       "        vertical-align: top;\n",
       "    }\n",
       "\n",
       "    .dataframe thead th {\n",
       "        text-align: right;\n",
       "    }\n",
       "</style>\n",
       "<table border=\"1\" class=\"dataframe\">\n",
       "  <thead>\n",
       "    <tr style=\"text-align: right;\">\n",
       "      <th></th>\n",
       "      <th>X</th>\n",
       "      <th>Y</th>\n",
       "      <th>count</th>\n",
       "    </tr>\n",
       "  </thead>\n",
       "  <tbody>\n",
       "    <tr>\n",
       "      <th>32</th>\n",
       "      <td>86</td>\n",
       "      <td>44</td>\n",
       "      <td>80</td>\n",
       "    </tr>\n",
       "    <tr>\n",
       "      <th>10</th>\n",
       "      <td>38</td>\n",
       "      <td>90</td>\n",
       "      <td>58</td>\n",
       "    </tr>\n",
       "    <tr>\n",
       "      <th>18</th>\n",
       "      <td>63</td>\n",
       "      <td>99</td>\n",
       "      <td>49</td>\n",
       "    </tr>\n",
       "    <tr>\n",
       "      <th>7</th>\n",
       "      <td>27</td>\n",
       "      <td>15</td>\n",
       "      <td>39</td>\n",
       "    </tr>\n",
       "    <tr>\n",
       "      <th>14</th>\n",
       "      <td>45</td>\n",
       "      <td>24</td>\n",
       "      <td>33</td>\n",
       "    </tr>\n",
       "  </tbody>\n",
       "</table>\n",
       "</div>"
      ],
      "text/plain": [
       "     X   Y  count\n",
       "32  86  44     80\n",
       "10  38  90     58\n",
       "18  63  99     49\n",
       "7   27  15     39\n",
       "14  45  24     33"
      ]
     },
     "execution_count": 37,
     "metadata": {},
     "output_type": "execute_result"
    }
   ],
   "source": [
    "GroupV = pd.DataFrame(G4P[G4P.type == 1].groupby([\"X\",\"Y\"])[\"id\"].count())\n",
    "GroupV = GroupV.reset_index()\n",
    "GroupV.columns = [\"X\",\"Y\",\"count\"]\n",
    "GroupV.sort_values(by=['count'],ascending=False)[0:5]"
   ]
  },
  {
   "cell_type": "markdown",
   "id": "afbc8e21",
   "metadata": {},
   "source": [
    "### Group 5"
   ]
  },
  {
   "cell_type": "code",
   "execution_count": 38,
   "id": "cb56d104",
   "metadata": {},
   "outputs": [
    {
     "data": {
      "text/plain": [
       "(8, 0.001)"
      ]
     },
     "execution_count": 38,
     "metadata": {},
     "output_type": "execute_result"
    }
   ],
   "source": [
    "G5 = list(set(Sunday_Crowd)&set(Noon))\n",
    "G5P = Sunday.loc[Sunday['id'].isin(G5)]\n",
    "len(G5), round(len(G5)/len(Sunday.id.unique()),3) "
   ]
  },
  {
   "cell_type": "code",
   "execution_count": 39,
   "id": "117d7d99",
   "metadata": {},
   "outputs": [
    {
     "data": {
      "text/html": [
       "<div>\n",
       "<style scoped>\n",
       "    .dataframe tbody tr th:only-of-type {\n",
       "        vertical-align: middle;\n",
       "    }\n",
       "\n",
       "    .dataframe tbody tr th {\n",
       "        vertical-align: top;\n",
       "    }\n",
       "\n",
       "    .dataframe thead th {\n",
       "        text-align: right;\n",
       "    }\n",
       "</style>\n",
       "<table border=\"1\" class=\"dataframe\">\n",
       "  <thead>\n",
       "    <tr style=\"text-align: right;\">\n",
       "      <th></th>\n",
       "      <th>X</th>\n",
       "      <th>Y</th>\n",
       "      <th>count</th>\n",
       "    </tr>\n",
       "  </thead>\n",
       "  <tbody>\n",
       "    <tr>\n",
       "      <th>28</th>\n",
       "      <td>86</td>\n",
       "      <td>44</td>\n",
       "      <td>8</td>\n",
       "    </tr>\n",
       "    <tr>\n",
       "      <th>16</th>\n",
       "      <td>63</td>\n",
       "      <td>99</td>\n",
       "      <td>7</td>\n",
       "    </tr>\n",
       "    <tr>\n",
       "      <th>30</th>\n",
       "      <td>87</td>\n",
       "      <td>63</td>\n",
       "      <td>7</td>\n",
       "    </tr>\n",
       "    <tr>\n",
       "      <th>23</th>\n",
       "      <td>79</td>\n",
       "      <td>89</td>\n",
       "      <td>5</td>\n",
       "    </tr>\n",
       "    <tr>\n",
       "      <th>8</th>\n",
       "      <td>38</td>\n",
       "      <td>90</td>\n",
       "      <td>5</td>\n",
       "    </tr>\n",
       "  </tbody>\n",
       "</table>\n",
       "</div>"
      ],
      "text/plain": [
       "     X   Y  count\n",
       "28  86  44      8\n",
       "16  63  99      7\n",
       "30  87  63      7\n",
       "23  79  89      5\n",
       "8   38  90      5"
      ]
     },
     "execution_count": 39,
     "metadata": {},
     "output_type": "execute_result"
    }
   ],
   "source": [
    "GroupV = pd.DataFrame(G5P[G5P.type == 1].groupby([\"X\",\"Y\"])[\"id\"].count())\n",
    "GroupV = GroupV.reset_index()\n",
    "GroupV.columns = [\"X\",\"Y\",\"count\"]\n",
    "GroupV.sort_values(by=['count'],ascending=False)[0:5]"
   ]
  },
  {
   "cell_type": "markdown",
   "id": "74d6b985",
   "metadata": {},
   "source": [
    "### Group 6"
   ]
  },
  {
   "cell_type": "code",
   "execution_count": 23,
   "id": "7638b64a",
   "metadata": {},
   "outputs": [
    {
     "data": {
      "text/plain": [
       "(127, 0.017)"
      ]
     },
     "execution_count": 23,
     "metadata": {},
     "output_type": "execute_result"
    }
   ],
   "source": [
    "G6 = list(set(Sunday_Single)&set(LowDuration))\n",
    "G6P = Sunday.loc[Sunday['id'].isin(G6)]\n",
    "len(G6) , round(len(G6)/len(Sunday.id.unique()),3)"
   ]
  },
  {
   "cell_type": "code",
   "execution_count": 24,
   "id": "f3fb692f",
   "metadata": {},
   "outputs": [
    {
     "data": {
      "text/html": [
       "<div>\n",
       "<style scoped>\n",
       "    .dataframe tbody tr th:only-of-type {\n",
       "        vertical-align: middle;\n",
       "    }\n",
       "\n",
       "    .dataframe tbody tr th {\n",
       "        vertical-align: top;\n",
       "    }\n",
       "\n",
       "    .dataframe thead th {\n",
       "        text-align: right;\n",
       "    }\n",
       "</style>\n",
       "<table border=\"1\" class=\"dataframe\">\n",
       "  <thead>\n",
       "    <tr style=\"text-align: right;\">\n",
       "      <th></th>\n",
       "      <th>X</th>\n",
       "      <th>Y</th>\n",
       "      <th>count</th>\n",
       "    </tr>\n",
       "  </thead>\n",
       "  <tbody>\n",
       "    <tr>\n",
       "      <th>12</th>\n",
       "      <td>38</td>\n",
       "      <td>90</td>\n",
       "      <td>133</td>\n",
       "    </tr>\n",
       "    <tr>\n",
       "      <th>33</th>\n",
       "      <td>86</td>\n",
       "      <td>44</td>\n",
       "      <td>133</td>\n",
       "    </tr>\n",
       "    <tr>\n",
       "      <th>17</th>\n",
       "      <td>47</td>\n",
       "      <td>11</td>\n",
       "      <td>126</td>\n",
       "    </tr>\n",
       "    <tr>\n",
       "      <th>8</th>\n",
       "      <td>27</td>\n",
       "      <td>15</td>\n",
       "      <td>115</td>\n",
       "    </tr>\n",
       "    <tr>\n",
       "      <th>16</th>\n",
       "      <td>45</td>\n",
       "      <td>24</td>\n",
       "      <td>112</td>\n",
       "    </tr>\n",
       "  </tbody>\n",
       "</table>\n",
       "</div>"
      ],
      "text/plain": [
       "     X   Y  count\n",
       "12  38  90    133\n",
       "33  86  44    133\n",
       "17  47  11    126\n",
       "8   27  15    115\n",
       "16  45  24    112"
      ]
     },
     "execution_count": 24,
     "metadata": {},
     "output_type": "execute_result"
    }
   ],
   "source": [
    "GroupV = pd.DataFrame(G6P[G6P.type == 1].groupby([\"X\",\"Y\"])[\"id\"].count())\n",
    "GroupV = GroupV.reset_index()\n",
    "GroupV.columns = [\"X\",\"Y\",\"count\"]\n",
    "GroupV.sort_values(by=['count'],ascending=False)[0:5]"
   ]
  },
  {
   "cell_type": "markdown",
   "id": "62a3765a",
   "metadata": {},
   "source": [
    "### Group 7"
   ]
  },
  {
   "cell_type": "code",
   "execution_count": 29,
   "id": "8760f82d",
   "metadata": {},
   "outputs": [
    {
     "data": {
      "text/plain": [
       "(335, 0.044)"
      ]
     },
     "execution_count": 29,
     "metadata": {},
     "output_type": "execute_result"
    }
   ],
   "source": [
    "G7 = list(set(Sunday_Group)&set(LowDuration)&set(Early))\n",
    "G7P = Sunday.loc[Sunday['id'].isin(G7)]\n",
    "len(G7), round(len(G7)/len(Sunday.id.unique()),3)"
   ]
  },
  {
   "cell_type": "code",
   "execution_count": 30,
   "id": "d0675f79",
   "metadata": {
    "scrolled": false
   },
   "outputs": [
    {
     "data": {
      "text/html": [
       "<div>\n",
       "<style scoped>\n",
       "    .dataframe tbody tr th:only-of-type {\n",
       "        vertical-align: middle;\n",
       "    }\n",
       "\n",
       "    .dataframe tbody tr th {\n",
       "        vertical-align: top;\n",
       "    }\n",
       "\n",
       "    .dataframe thead th {\n",
       "        text-align: right;\n",
       "    }\n",
       "</style>\n",
       "<table border=\"1\" class=\"dataframe\">\n",
       "  <thead>\n",
       "    <tr style=\"text-align: right;\">\n",
       "      <th></th>\n",
       "      <th>X</th>\n",
       "      <th>Y</th>\n",
       "      <th>count</th>\n",
       "    </tr>\n",
       "  </thead>\n",
       "  <tbody>\n",
       "    <tr>\n",
       "      <th>16</th>\n",
       "      <td>45</td>\n",
       "      <td>24</td>\n",
       "      <td>253</td>\n",
       "    </tr>\n",
       "    <tr>\n",
       "      <th>21</th>\n",
       "      <td>63</td>\n",
       "      <td>99</td>\n",
       "      <td>224</td>\n",
       "    </tr>\n",
       "    <tr>\n",
       "      <th>36</th>\n",
       "      <td>86</td>\n",
       "      <td>44</td>\n",
       "      <td>200</td>\n",
       "    </tr>\n",
       "    <tr>\n",
       "      <th>17</th>\n",
       "      <td>47</td>\n",
       "      <td>11</td>\n",
       "      <td>184</td>\n",
       "    </tr>\n",
       "    <tr>\n",
       "      <th>8</th>\n",
       "      <td>27</td>\n",
       "      <td>15</td>\n",
       "      <td>159</td>\n",
       "    </tr>\n",
       "  </tbody>\n",
       "</table>\n",
       "</div>"
      ],
      "text/plain": [
       "     X   Y  count\n",
       "16  45  24    253\n",
       "21  63  99    224\n",
       "36  86  44    200\n",
       "17  47  11    184\n",
       "8   27  15    159"
      ]
     },
     "execution_count": 30,
     "metadata": {},
     "output_type": "execute_result"
    }
   ],
   "source": [
    "GroupV = pd.DataFrame(G7P[G7P.type == 1].groupby([\"X\",\"Y\"])[\"id\"].count())\n",
    "GroupV = GroupV.reset_index()\n",
    "GroupV.columns = [\"X\",\"Y\",\"count\"]\n",
    "GroupV.sort_values(by=['count'],ascending=False)[0:5]"
   ]
  },
  {
   "cell_type": "markdown",
   "id": "50f55dc0",
   "metadata": {},
   "source": [
    "### Group 8"
   ]
  },
  {
   "cell_type": "code",
   "execution_count": 27,
   "id": "2b37414d",
   "metadata": {},
   "outputs": [
    {
     "data": {
      "text/plain": [
       "(21, 0.003)"
      ]
     },
     "execution_count": 27,
     "metadata": {},
     "output_type": "execute_result"
    }
   ],
   "source": [
    "G8 = list(set(Sunday_Group)&set(Late))\n",
    "G8P = Sunday.loc[Sunday['id'].isin(G8)]\n",
    "len(G8), round(len(G8)/len(Sunday.id.unique()),3)"
   ]
  },
  {
   "cell_type": "code",
   "execution_count": 28,
   "id": "04b785c9",
   "metadata": {},
   "outputs": [
    {
     "data": {
      "text/html": [
       "<div>\n",
       "<style scoped>\n",
       "    .dataframe tbody tr th:only-of-type {\n",
       "        vertical-align: middle;\n",
       "    }\n",
       "\n",
       "    .dataframe tbody tr th {\n",
       "        vertical-align: top;\n",
       "    }\n",
       "\n",
       "    .dataframe thead th {\n",
       "        text-align: right;\n",
       "    }\n",
       "</style>\n",
       "<table border=\"1\" class=\"dataframe\">\n",
       "  <thead>\n",
       "    <tr style=\"text-align: right;\">\n",
       "      <th></th>\n",
       "      <th>X</th>\n",
       "      <th>Y</th>\n",
       "      <th>count</th>\n",
       "    </tr>\n",
       "  </thead>\n",
       "  <tbody>\n",
       "    <tr>\n",
       "      <th>13</th>\n",
       "      <td>78</td>\n",
       "      <td>48</td>\n",
       "      <td>16</td>\n",
       "    </tr>\n",
       "    <tr>\n",
       "      <th>12</th>\n",
       "      <td>78</td>\n",
       "      <td>37</td>\n",
       "      <td>13</td>\n",
       "    </tr>\n",
       "    <tr>\n",
       "      <th>20</th>\n",
       "      <td>99</td>\n",
       "      <td>77</td>\n",
       "      <td>12</td>\n",
       "    </tr>\n",
       "    <tr>\n",
       "      <th>18</th>\n",
       "      <td>87</td>\n",
       "      <td>48</td>\n",
       "      <td>12</td>\n",
       "    </tr>\n",
       "    <tr>\n",
       "      <th>10</th>\n",
       "      <td>63</td>\n",
       "      <td>99</td>\n",
       "      <td>9</td>\n",
       "    </tr>\n",
       "  </tbody>\n",
       "</table>\n",
       "</div>"
      ],
      "text/plain": [
       "     X   Y  count\n",
       "13  78  48     16\n",
       "12  78  37     13\n",
       "20  99  77     12\n",
       "18  87  48     12\n",
       "10  63  99      9"
      ]
     },
     "execution_count": 28,
     "metadata": {},
     "output_type": "execute_result"
    }
   ],
   "source": [
    "GroupV = pd.DataFrame(G8P[G8P.type == 1].groupby([\"X\",\"Y\"])[\"id\"].count())\n",
    "GroupV = GroupV.reset_index()\n",
    "GroupV.columns = [\"X\",\"Y\",\"count\"]\n",
    "GroupV.sort_values(by=['count'],ascending=False)[0:5]"
   ]
  },
  {
   "cell_type": "code",
   "execution_count": null,
   "id": "8987d2bc",
   "metadata": {},
   "outputs": [],
   "source": []
  },
  {
   "cell_type": "code",
   "execution_count": null,
   "id": "6dba3501",
   "metadata": {},
   "outputs": [],
   "source": []
  },
  {
   "cell_type": "code",
   "execution_count": 44,
   "id": "8786b0db",
   "metadata": {},
   "outputs": [],
   "source": [
    "g1 = pd.read_csv('SundayGapID.csv')\n",
    "g2 = pd.read_csv('SundayGapMax.csv')\n",
    "g3 = pd.read_csv('SundayGapMed.csv')\n",
    "\n",
    "GapID = [  i.split(\".\", 1)[0] for i in g1.columns ]\n",
    "GapMax = [  i.split(\".\", 1)[0] for i in g2.columns ]\n",
    "GapMed = [  i.split(\".\", 1)[0] for i in g3.columns ]"
   ]
  },
  {
   "cell_type": "code",
   "execution_count": 45,
   "id": "e378218b",
   "metadata": {},
   "outputs": [],
   "source": [
    "inds1 =  np.argsort(GapMax)\n",
    "GapH = np.array(GapID)[inds1[-150:]]\n",
    "GapHV = Sunday.loc[Sunday['id'].isin(GapH)]\n",
    "\n",
    "GapHV2 = pd.DataFrame(GapHV[GapHV.type == 1].groupby([\"X\",\"Y\"])[\"id\"].count())\n",
    "GapHV2 = GapHV2.reset_index()\n",
    "GapHV2.columns = [\"X\",\"Y\",\"count\"]"
   ]
  },
  {
   "cell_type": "code",
   "execution_count": 46,
   "id": "b85903a2",
   "metadata": {},
   "outputs": [
    {
     "data": {
      "text/html": [
       "<div>\n",
       "<style scoped>\n",
       "    .dataframe tbody tr th:only-of-type {\n",
       "        vertical-align: middle;\n",
       "    }\n",
       "\n",
       "    .dataframe tbody tr th {\n",
       "        vertical-align: top;\n",
       "    }\n",
       "\n",
       "    .dataframe thead th {\n",
       "        text-align: right;\n",
       "    }\n",
       "</style>\n",
       "<table border=\"1\" class=\"dataframe\">\n",
       "  <thead>\n",
       "    <tr style=\"text-align: right;\">\n",
       "      <th></th>\n",
       "      <th>X</th>\n",
       "      <th>Y</th>\n",
       "      <th>count</th>\n",
       "    </tr>\n",
       "  </thead>\n",
       "  <tbody>\n",
       "    <tr>\n",
       "      <th>12</th>\n",
       "      <td>38</td>\n",
       "      <td>90</td>\n",
       "      <td>154</td>\n",
       "    </tr>\n",
       "    <tr>\n",
       "      <th>16</th>\n",
       "      <td>45</td>\n",
       "      <td>24</td>\n",
       "      <td>115</td>\n",
       "    </tr>\n",
       "    <tr>\n",
       "      <th>28</th>\n",
       "      <td>78</td>\n",
       "      <td>48</td>\n",
       "      <td>104</td>\n",
       "    </tr>\n",
       "    <tr>\n",
       "      <th>35</th>\n",
       "      <td>86</td>\n",
       "      <td>44</td>\n",
       "      <td>102</td>\n",
       "    </tr>\n",
       "    <tr>\n",
       "      <th>8</th>\n",
       "      <td>27</td>\n",
       "      <td>15</td>\n",
       "      <td>102</td>\n",
       "    </tr>\n",
       "  </tbody>\n",
       "</table>\n",
       "</div>"
      ],
      "text/plain": [
       "     X   Y  count\n",
       "12  38  90    154\n",
       "16  45  24    115\n",
       "28  78  48    104\n",
       "35  86  44    102\n",
       "8   27  15    102"
      ]
     },
     "execution_count": 46,
     "metadata": {},
     "output_type": "execute_result"
    }
   ],
   "source": [
    "GapHV2.sort_values(by=['count'],ascending=False)[0:5]"
   ]
  },
  {
   "cell_type": "code",
   "execution_count": null,
   "id": "50b949b2",
   "metadata": {},
   "outputs": [],
   "source": []
  },
  {
   "cell_type": "code",
   "execution_count": 47,
   "id": "6a4ca6a4",
   "metadata": {},
   "outputs": [],
   "source": [
    "inds2 =  np.argsort(GapMed) \n",
    "Faster = np.array(GapID)[inds2[0:150]]\n",
    "FasterV = Sunday.loc[Sunday['id'].isin(Faster)]\n",
    "\n",
    "FasterV2 = pd.DataFrame(FasterV[FasterV.type == 1].groupby([\"X\",\"Y\"])[\"id\"].count())\n",
    "FasterV2 = FasterV2.reset_index()\n",
    "FasterV2.columns = [\"X\",\"Y\",\"count\"]"
   ]
  },
  {
   "cell_type": "code",
   "execution_count": 48,
   "id": "97670058",
   "metadata": {},
   "outputs": [
    {
     "data": {
      "text/html": [
       "<div>\n",
       "<style scoped>\n",
       "    .dataframe tbody tr th:only-of-type {\n",
       "        vertical-align: middle;\n",
       "    }\n",
       "\n",
       "    .dataframe tbody tr th {\n",
       "        vertical-align: top;\n",
       "    }\n",
       "\n",
       "    .dataframe thead th {\n",
       "        text-align: right;\n",
       "    }\n",
       "</style>\n",
       "<table border=\"1\" class=\"dataframe\">\n",
       "  <thead>\n",
       "    <tr style=\"text-align: right;\">\n",
       "      <th></th>\n",
       "      <th>X</th>\n",
       "      <th>Y</th>\n",
       "      <th>count</th>\n",
       "    </tr>\n",
       "  </thead>\n",
       "  <tbody>\n",
       "    <tr>\n",
       "      <th>36</th>\n",
       "      <td>86</td>\n",
       "      <td>44</td>\n",
       "      <td>266</td>\n",
       "    </tr>\n",
       "    <tr>\n",
       "      <th>16</th>\n",
       "      <td>45</td>\n",
       "      <td>24</td>\n",
       "      <td>197</td>\n",
       "    </tr>\n",
       "    <tr>\n",
       "      <th>17</th>\n",
       "      <td>47</td>\n",
       "      <td>11</td>\n",
       "      <td>183</td>\n",
       "    </tr>\n",
       "    <tr>\n",
       "      <th>12</th>\n",
       "      <td>38</td>\n",
       "      <td>90</td>\n",
       "      <td>178</td>\n",
       "    </tr>\n",
       "    <tr>\n",
       "      <th>8</th>\n",
       "      <td>27</td>\n",
       "      <td>15</td>\n",
       "      <td>147</td>\n",
       "    </tr>\n",
       "  </tbody>\n",
       "</table>\n",
       "</div>"
      ],
      "text/plain": [
       "     X   Y  count\n",
       "36  86  44    266\n",
       "16  45  24    197\n",
       "17  47  11    183\n",
       "12  38  90    178\n",
       "8   27  15    147"
      ]
     },
     "execution_count": 48,
     "metadata": {},
     "output_type": "execute_result"
    }
   ],
   "source": [
    "FasterV2.sort_values(by=['count'],ascending=False)[0:5]"
   ]
  },
  {
   "cell_type": "code",
   "execution_count": 49,
   "id": "79e49601",
   "metadata": {},
   "outputs": [],
   "source": [
    "inds3 =  np.argsort(GapMed)\n",
    "Slower = np.array(GapID)[inds3[-150:]]\n",
    "SlowerV = Sunday.loc[Sunday['id'].isin(Slower)]\n",
    "\n",
    "SlowerV2 = pd.DataFrame(SlowerV[SlowerV.type == 1].groupby([\"X\",\"Y\"])[\"id\"].count())\n",
    "SlowerV2 = SlowerV2.reset_index()\n",
    "SlowerV2.columns = [\"X\",\"Y\",\"count\"]"
   ]
  },
  {
   "cell_type": "code",
   "execution_count": 50,
   "id": "f84859b7",
   "metadata": {},
   "outputs": [
    {
     "data": {
      "text/html": [
       "<div>\n",
       "<style scoped>\n",
       "    .dataframe tbody tr th:only-of-type {\n",
       "        vertical-align: middle;\n",
       "    }\n",
       "\n",
       "    .dataframe tbody tr th {\n",
       "        vertical-align: top;\n",
       "    }\n",
       "\n",
       "    .dataframe thead th {\n",
       "        text-align: right;\n",
       "    }\n",
       "</style>\n",
       "<table border=\"1\" class=\"dataframe\">\n",
       "  <thead>\n",
       "    <tr style=\"text-align: right;\">\n",
       "      <th></th>\n",
       "      <th>X</th>\n",
       "      <th>Y</th>\n",
       "      <th>count</th>\n",
       "    </tr>\n",
       "  </thead>\n",
       "  <tbody>\n",
       "    <tr>\n",
       "      <th>17</th>\n",
       "      <td>47</td>\n",
       "      <td>11</td>\n",
       "      <td>259</td>\n",
       "    </tr>\n",
       "    <tr>\n",
       "      <th>36</th>\n",
       "      <td>86</td>\n",
       "      <td>44</td>\n",
       "      <td>248</td>\n",
       "    </tr>\n",
       "    <tr>\n",
       "      <th>12</th>\n",
       "      <td>38</td>\n",
       "      <td>90</td>\n",
       "      <td>216</td>\n",
       "    </tr>\n",
       "    <tr>\n",
       "      <th>8</th>\n",
       "      <td>27</td>\n",
       "      <td>15</td>\n",
       "      <td>170</td>\n",
       "    </tr>\n",
       "    <tr>\n",
       "      <th>16</th>\n",
       "      <td>45</td>\n",
       "      <td>24</td>\n",
       "      <td>163</td>\n",
       "    </tr>\n",
       "  </tbody>\n",
       "</table>\n",
       "</div>"
      ],
      "text/plain": [
       "     X   Y  count\n",
       "17  47  11    259\n",
       "36  86  44    248\n",
       "12  38  90    216\n",
       "8   27  15    170\n",
       "16  45  24    163"
      ]
     },
     "execution_count": 50,
     "metadata": {},
     "output_type": "execute_result"
    }
   ],
   "source": [
    "SlowerV2.sort_values(by=['count'],ascending=False)[0:5]"
   ]
  },
  {
   "cell_type": "code",
   "execution_count": null,
   "id": "38982504",
   "metadata": {},
   "outputs": [],
   "source": []
  },
  {
   "cell_type": "code",
   "execution_count": null,
   "id": "958fc313",
   "metadata": {},
   "outputs": [],
   "source": []
  },
  {
   "cell_type": "code",
   "execution_count": null,
   "id": "c4ec94a5",
   "metadata": {},
   "outputs": [],
   "source": []
  }
 ],
 "metadata": {
  "kernelspec": {
   "display_name": "Python 3",
   "language": "python",
   "name": "python3"
  },
  "language_info": {
   "codemirror_mode": {
    "name": "ipython",
    "version": 3
   },
   "file_extension": ".py",
   "mimetype": "text/x-python",
   "name": "python",
   "nbconvert_exporter": "python",
   "pygments_lexer": "ipython3",
   "version": "3.8.8"
  }
 },
 "nbformat": 4,
 "nbformat_minor": 5
}
