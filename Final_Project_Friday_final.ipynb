{
 "cells": [
  {
   "cell_type": "code",
   "execution_count": null,
   "id": "5bd3beda",
   "metadata": {},
   "outputs": [],
   "source": [
    "import pandas as pd\n",
    "import numpy as np\n",
    "import matplotlib.pyplot as plt\n",
    "import seaborn as sns\n",
    "import warnings\n",
    "warnings.simplefilter(\"ignore\")\n",
    "from datetime import datetime\n",
    "import plotly.express as px\n",
    "from skimage import io\n",
    "import math\n",
    "import time"
   ]
  },
  {
   "cell_type": "code",
   "execution_count": null,
   "id": "ec39776e",
   "metadata": {},
   "outputs": [],
   "source": [
    "Firday = pd.DataFrame(pd.read_csv('park-movement-Fri-FIXED-2.0.csv'))\n",
    "Firday[\"id\"] = Firday[\"id\"].astype(str)\n",
    "Firday = Firday.replace('check-in', 1).replace('movement', 0)\n",
    "Firday[\"Timestamp\"] = Firday[\"Timestamp\"].map(lambda x: int(time.mktime(time.strptime(x, \"%Y-%m-%d %H:%M:%S\"))))\n",
    "Firday[\"visit_count\"] = Firday.groupby([\"id\"])[\"id\"].transform(\"count\")\n",
    "T = pd.DataFrame(Firday.groupby('id')['Timestamp'].agg(np.ptp)).reset_index()\n",
    "T[\"visit_duration\"] = T['Timestamp'].map(lambda x:x//60)\n",
    "Firday_III = Firday.merge(T[[\"id\", \"visit_duration\"]])\n",
    "Firday_III[\"Facility_coordinates\"]= Firday_III.apply(lambda row: (row.X,row.Y), axis=1)"
   ]
  },
  {
   "cell_type": "code",
   "execution_count": null,
   "id": "4e2f782f",
   "metadata": {},
   "outputs": [],
   "source": [
    "# Processing raw data, which will be saved after. But the saved data still needs to be processed"
   ]
  },
  {
   "cell_type": "code",
   "execution_count": null,
   "id": "baac9fdc",
   "metadata": {},
   "outputs": [],
   "source": [
    "Firday = pd.DataFrame(pd.read_csv('park-movement-Fri_New.csv'))\n",
    "Firday = Firday.drop([\"Unnamed: 0\"], axis=1)\n",
    "Firday[\"id\"] = Firday[\"id\"].astype(str)"
   ]
  },
  {
   "cell_type": "code",
   "execution_count": null,
   "id": "726d43b1",
   "metadata": {},
   "outputs": [],
   "source": [
    "Firday.isna().sum()"
   ]
  },
  {
   "cell_type": "code",
   "execution_count": null,
   "id": "46b22da0",
   "metadata": {},
   "outputs": [],
   "source": [
    "Firday.info()"
   ]
  },
  {
   "cell_type": "code",
   "execution_count": null,
   "id": "512a826a",
   "metadata": {
    "scrolled": false
   },
   "outputs": [],
   "source": [
    "px.density_heatmap(Firday, x='X', y='Y')"
   ]
  },
  {
   "cell_type": "code",
   "execution_count": null,
   "id": "a0b3780c",
   "metadata": {},
   "outputs": [],
   "source": [
    "counts, bins = np.histogram(Firday.Timestamp, bins=range(Firday[\"Timestamp\"].min(), Firday[\"Timestamp\"].max(), 60))\n",
    "bins = bins[1:]\n",
    "px.line(['timestamp', 'count'], x=bins, y=counts, labels={'x':'timestamp', 'y':'count'})"
   ]
  },
  {
   "cell_type": "markdown",
   "id": "863213fe",
   "metadata": {},
   "source": [
    "### Criterion One：Relative time difference and relative distance (Euclidean distance)"
   ]
  },
  {
   "cell_type": "code",
   "execution_count": null,
   "id": "b6c09d92",
   "metadata": {},
   "outputs": [],
   "source": [
    "Group = []\n",
    "# Families, relatives, couples, or any close small group\n",
    "Crowd = []\n",
    "# Groups of people who do not belong to each other in small groups, but have similar behavioral patterns\n",
    "Single = []\n",
    "# Tourists who do not belong to the above two groups\n",
    "\n",
    "for index, ID in enumerate(Firday_III.id.unique()):\n",
    "    D = Firday_III.loc[Firday_III['id'] == ID] \n",
    "    Trajectory_I  = D[['id','Timestamp', 'type', \"Facility_coordinates\"]].sort_values(by=['Timestamp']).to_numpy() \n",
    "    # Recorded the movement track of each ID for one day\n",
    "\n",
    "    Len1 = len(Trajectory_I)\n",
    "    # What is recorded is the number of activities recorded by each ID, If the Trajectory length of ID A is 1784, it means that the number of data recorded of this ID is 1784\n",
    "    \n",
    "    for index2, ID2 in enumerate(Firday_III.id.unique()[index:]):\n",
    "        if index2 > 10: #  Control the number, only calculate the relationship between the ID and the other x people at one time, x=10: calculate the time and distance between the ID and the next ten people one by one\n",
    "            break\n",
    "        if ID == ID2: # It is used to skip the calculate with itself. When the ID is represented as same one, avoiding it.\n",
    "            continue\n",
    "            \n",
    "        D2 = Firday_III.loc[Firday_III['id'] == ID2] \n",
    "        Trajectory_II = D2[['id','Timestamp', 'type', \"Facility_coordinates\"]].sort_values(by=['Timestamp']).to_numpy()\n",
    "        Len2 = len(Trajectory_II)\n",
    "        \n",
    "        \n",
    "        # Judgment point 1, if the number of activities is the same, the two IDs belong to the same small group, or can be classified as the same crowd\n",
    "        if Len1 == Len2:\n",
    "            track_1 =  pd.Series(list(Trajectory_I[:,3]))\n",
    "            track_2 =  pd.Series(list(Trajectory_II[:,3]))\n",
    "            distance = list( track_1.combine(track_2, (lambda x1, x2: 1 if np.linalg.norm(np.array(x1) - np.array(x2)) <= 2 else 0 )))\n",
    "            Ddiff = distance.count(1)/len(distance)            \n",
    "            # Calculate the relative position of the two ID during the movement (the Euclidean distance of the coordinates)\n",
    "            \n",
    "            #  Judgment point 2,the relative distance to each other is very close when activities in most time (above 70%）, \n",
    "            if Ddiff >= 0.7:\n",
    "        \n",
    "            # Tdiff is the median of time difference, that is, the median of all time differences calculated for each time point\n",
    "                Tdiff = np.median(np.abs(Trajectory_I[:,1]-Trajectory_II[:,1]))\n",
    "                # Judgment point 2, If the basic T value is less than about 60, there is a high probability that the two will act together\n",
    "\n",
    "                if Tdiff <= 60:\n",
    "                    Group.append(ID)\n",
    "                    Group.append(ID2)\n",
    "                    \n",
    "                else:\n",
    "                    Crowd.append(ID)\n",
    "                    Crowd.append(ID2)\n",
    "\n",
    "                    \n",
    "        # If the number of activities recorded is different, the probability that the two are in a small group with each other is low, but it is also possible that they belong to the same crowd\n",
    "        else:\n",
    "            track_1 =  pd.Series(list(Trajectory_I[:,3]))\n",
    "            track_2 =  pd.Series(list(Trajectory_II[:,3]))\n",
    "            distance = list( track_1.combine(track_2, (lambda x1, x2: 1 if np.linalg.norm(np.array(x1) - np.array(x2)) <= 2 else 0 )))\n",
    "            Ddiff = distance.count(1)/len(distance)\n",
    "        \n",
    "            if Ddiff >= 0.7:\n",
    "                Crowd.append(ID)\n",
    "                Crowd.append(ID2)\n",
    "\n",
    "            else:\n",
    "                Single.append(ID)\n",
    "                Single.append(ID2)\n"
   ]
  },
  {
   "cell_type": "code",
   "execution_count": null,
   "id": "a72ee2d1",
   "metadata": {},
   "outputs": [],
   "source": [
    "import csv\n",
    "with open(\"FridayGroupCount\",\"w\") as f:\n",
    "    write = csv.writer(f)\n",
    "    write.writerow(Group)\n",
    "with open(\"FridayCrowdCount\",\"w\") as f:\n",
    "    write = csv.writer(f)\n",
    "    write.writerow(Crowd)\n",
    "with open(\"FridaySingleCount\",\"w\") as f:\n",
    "    write = csv.writer(f)\n",
    "    write.writerow(Single)"
   ]
  },
  {
   "cell_type": "code",
   "execution_count": null,
   "id": "3ac716e6",
   "metadata": {},
   "outputs": [],
   "source": [
    "d1 = pd.read_csv('FridayGroupCount.csv')\n",
    "d2 = pd.read_csv('FridayCrowdCount.csv')\n",
    "d3 = pd.read_csv('FridaySingleCount.csv')\n",
    "\n",
    "Group = [  i.split(\".\", 1)[0] for i in d1.columns ]\n",
    "Crowd = [  i.split(\".\", 1)[0] for i in d2.columns ]\n",
    "Single = [  i.split(\".\", 1)[0] for i in d3.columns ]\n",
    "\n",
    "# It takes more than 10 hours to run, so the results will be saved and still need to be cleaned up after reading."
   ]
  },
  {
   "cell_type": "code",
   "execution_count": null,
   "id": "6104aadf",
   "metadata": {},
   "outputs": [],
   "source": [
    "Firday_Group = list(set(Group))\n",
    "Firday_Crowd = list(set(Crowd)-set(Group))\n",
    "Firday_Single=  list(set(list(set(Single)-set(Group)))-set(Crowd)) \n",
    "## Exclude duplicate values\n",
    "## The sum of the three groups should be the number of individual ids in the dataset"
   ]
  },
  {
   "cell_type": "code",
   "execution_count": null,
   "id": "8db5854f",
   "metadata": {},
   "outputs": [],
   "source": [
    "len(Firday.id.unique()),len(Firday_Group), len(Firday_Crowd), len(Firday_Single)"
   ]
  },
  {
   "cell_type": "markdown",
   "id": "9b2fb5e8",
   "metadata": {},
   "source": [
    "### Criterion Two：Earliest arrival time grouping"
   ]
  },
  {
   "cell_type": "code",
   "execution_count": null,
   "id": "30830a2f",
   "metadata": {},
   "outputs": [],
   "source": [
    "TimePointMorning = time.mktime(time.strptime(\"2014-6-06 11:00:00\", \"%Y-%m-%d %H:%M:%S\"))\n",
    "TimePointAfterNoon = time.mktime(time.strptime(\"2014-6-06 16:00:00\", \"%Y-%m-%d %H:%M:%S\"))\n",
    "## View the time point in the first record of each visitor and calculate with the specified time point.\n",
    "# If the calculation with TimePointMorning is positive and the calculation with TimePointAfterNoon is negative, then it will arrive after 11:00 and before 16:00\n",
    "# If a positive number is calculated with TimePointAfterNoon, it will arrive after 16：00\n",
    "\n",
    "ArrivalTime = Firday.copy().drop_duplicates(subset='id')\n",
    "ArrivalTime[\"ArrivalTime\"] = ArrivalTime[\"Timestamp\"].map(lambda x: 1 if x- TimePointMorning >= 0 and x - TimePointAfterNoon <= 0 else ( 2 if x - TimePointAfterNoon >= 0 else 0 ) )\n",
    "Early = list(ArrivalTime[ArrivalTime[\"ArrivalTime\"]==0].id.unique())\n",
    "Noon =  list(ArrivalTime[ArrivalTime[\"ArrivalTime\"]==1].id.unique())\n",
    "Late = list(ArrivalTime[ArrivalTime[\"ArrivalTime\"]==2].id.unique())\n",
    "len(Firday.id.unique()), len(Early), len(Noon), len(Late)"
   ]
  },
  {
   "cell_type": "code",
   "execution_count": null,
   "id": "b3c4ed33",
   "metadata": {},
   "outputs": [],
   "source": []
  },
  {
   "cell_type": "markdown",
   "id": "597a5b32",
   "metadata": {},
   "source": [
    "### Criterion Three：duration stay time"
   ]
  },
  {
   "cell_type": "code",
   "execution_count": null,
   "id": "90e847d5",
   "metadata": {},
   "outputs": [],
   "source": [
    "np.mean(Firday[\"visit_duration\"].unique())\n",
    "HighDuration = list(Firday[Firday[\"visit_duration\"] >= np.mean(Firday[\"visit_duration\"].unique())].id.unique())\n",
    "LowDuration = list(Firday[Firday[\"visit_duration\"] < np.mean(Firday[\"visit_duration\"].unique())].id.unique())\n",
    "## Visitors are divided into two groups based on the duration of their stay in the park, using the average as the standard\n",
    "len(Firday.id.unique()), len(HighDuration), len(LowDuration)"
   ]
  },
  {
   "cell_type": "code",
   "execution_count": null,
   "id": "b65cf6dc",
   "metadata": {},
   "outputs": [],
   "source": []
  },
  {
   "cell_type": "markdown",
   "id": "114f6de8",
   "metadata": {},
   "source": [
    "#### Group 1"
   ]
  },
  {
   "cell_type": "code",
   "execution_count": null,
   "id": "888a1081",
   "metadata": {},
   "outputs": [],
   "source": [
    "G1 = list(set(Firday_Group)&set(Early)&set(HighDuration))\n",
    "G1P = Firday.loc[Firday['id'].isin(G1)]\n",
    "len(G1)"
   ]
  },
  {
   "cell_type": "code",
   "execution_count": null,
   "id": "6ee08e5e",
   "metadata": {
    "scrolled": false
   },
   "outputs": [],
   "source": [
    "px.density_heatmap(G1P, x='X', y='Y')"
   ]
  },
  {
   "cell_type": "code",
   "execution_count": null,
   "id": "6c9d1757",
   "metadata": {},
   "outputs": [],
   "source": [
    "counts, bins = np.histogram(G1P.Timestamp, bins=range(G1P[\"Timestamp\"].min(), G1P[\"Timestamp\"].max(), 60))\n",
    "bins = bins[1:]\n",
    "px.line(['timestamp', 'count'], x=bins, y=counts, labels={'x':'timestamp', 'y':'count'})"
   ]
  },
  {
   "cell_type": "code",
   "execution_count": null,
   "id": "487e631a",
   "metadata": {},
   "outputs": [],
   "source": []
  },
  {
   "cell_type": "markdown",
   "id": "3f684f4e",
   "metadata": {},
   "source": [
    "#### Group 2"
   ]
  },
  {
   "cell_type": "code",
   "execution_count": null,
   "id": "84d0bfd0",
   "metadata": {},
   "outputs": [],
   "source": [
    "G2 = list(set(Firday_Crowd)&set(Early)&set( HighDuration))\n",
    "G2P = Firday.loc[Firday['id'].isin(G2)]\n",
    "len(G2)"
   ]
  },
  {
   "cell_type": "code",
   "execution_count": null,
   "id": "8495aa87",
   "metadata": {},
   "outputs": [],
   "source": [
    "px.density_heatmap(G2P, x='X', y='Y')"
   ]
  },
  {
   "cell_type": "code",
   "execution_count": null,
   "id": "1f14c38d",
   "metadata": {},
   "outputs": [],
   "source": [
    "counts, bins = np.histogram(G2P.Timestamp, bins=range(G2P[\"Timestamp\"].min(), G2P[\"Timestamp\"].max(), 60))\n",
    "bins = bins[1:]\n",
    "px.line(['timestamp', 'count'], x=bins, y=counts, labels={'x':'timestamp', 'y':'count'})"
   ]
  },
  {
   "cell_type": "code",
   "execution_count": null,
   "id": "342cf01e",
   "metadata": {},
   "outputs": [],
   "source": []
  },
  {
   "cell_type": "markdown",
   "id": "2d9b0647",
   "metadata": {},
   "source": [
    "#### Group 3"
   ]
  },
  {
   "cell_type": "code",
   "execution_count": null,
   "id": "3ea0f966",
   "metadata": {},
   "outputs": [],
   "source": [
    "G3 = list(set(Firday_Single)&set(Early)&set(HighDuration))\n",
    "G3P = Firday.loc[Firday['id'].isin(G3)]\n",
    "len(G3)"
   ]
  },
  {
   "cell_type": "code",
   "execution_count": null,
   "id": "680d84e3",
   "metadata": {},
   "outputs": [],
   "source": [
    "px.density_heatmap(G3P, x='X', y='Y')"
   ]
  },
  {
   "cell_type": "code",
   "execution_count": null,
   "id": "2c96bfdd",
   "metadata": {},
   "outputs": [],
   "source": [
    "counts, bins = np.histogram(G3P.Timestamp, bins=range(G3P[\"Timestamp\"].min(), G3P[\"Timestamp\"].max(), 60))\n",
    "bins = bins[1:]\n",
    "px.line(['timestamp', 'count'], x=bins, y=counts, labels={'x':'timestamp', 'y':'count'})"
   ]
  },
  {
   "cell_type": "code",
   "execution_count": null,
   "id": "89657647",
   "metadata": {},
   "outputs": [],
   "source": []
  },
  {
   "cell_type": "markdown",
   "id": "777612a2",
   "metadata": {},
   "source": [
    "#### Group 4"
   ]
  },
  {
   "cell_type": "code",
   "execution_count": null,
   "id": "68751e9a",
   "metadata": {},
   "outputs": [],
   "source": [
    "G4 = list(set(Firday_Group)&set(Noon))\n",
    "G4P = Firday.loc[Firday['id'].isin(G4)]\n",
    "len(G4) "
   ]
  },
  {
   "cell_type": "code",
   "execution_count": null,
   "id": "834ffc24",
   "metadata": {},
   "outputs": [],
   "source": [
    "px.density_heatmap(G4P, x='X', y='Y')"
   ]
  },
  {
   "cell_type": "code",
   "execution_count": null,
   "id": "c09c167b",
   "metadata": {},
   "outputs": [],
   "source": [
    "counts, bins = np.histogram(G4P.Timestamp, bins=range(G4P[\"Timestamp\"].min(), G4P[\"Timestamp\"].max(), 60))\n",
    "bins = bins[1:]\n",
    "px.line(['timestamp', 'count'], x=bins, y=counts, labels={'x':'timestamp', 'y':'count'})"
   ]
  },
  {
   "cell_type": "code",
   "execution_count": null,
   "id": "46a182a5",
   "metadata": {},
   "outputs": [],
   "source": []
  },
  {
   "cell_type": "markdown",
   "id": "c2fef444",
   "metadata": {},
   "source": [
    "#### Group 5"
   ]
  },
  {
   "cell_type": "code",
   "execution_count": null,
   "id": "9db3d592",
   "metadata": {},
   "outputs": [],
   "source": [
    "G5 = list(set(Firday_Crowd)&set(Noon))\n",
    "G5P = Firday.loc[Firday['id'].isin(G5)]\n",
    "len(G5) "
   ]
  },
  {
   "cell_type": "code",
   "execution_count": null,
   "id": "a4d8f6cb",
   "metadata": {},
   "outputs": [],
   "source": [
    "px.density_heatmap(G5P, x='X', y='Y')"
   ]
  },
  {
   "cell_type": "code",
   "execution_count": null,
   "id": "e15aea4b",
   "metadata": {},
   "outputs": [],
   "source": [
    "counts, bins = np.histogram(G5P.Timestamp, bins=range(G5P[\"Timestamp\"].min(), G5P[\"Timestamp\"].max(), 60))\n",
    "bins = bins[1:]\n",
    "px.line(['timestamp', 'count'], x=bins, y=counts, labels={'x':'timestamp', 'y':'count'})"
   ]
  },
  {
   "cell_type": "code",
   "execution_count": null,
   "id": "d8dde1a7",
   "metadata": {},
   "outputs": [],
   "source": []
  },
  {
   "cell_type": "markdown",
   "id": "09c9967b",
   "metadata": {},
   "source": [
    "#### Group 6"
   ]
  },
  {
   "cell_type": "code",
   "execution_count": null,
   "id": "1bb8cd76",
   "metadata": {},
   "outputs": [],
   "source": [
    "G6 = list(set(Firday_Single)&set(LowDuration))\n",
    "G6P = Firday.loc[Firday['id'].isin(G6)]\n",
    "len(G6) "
   ]
  },
  {
   "cell_type": "code",
   "execution_count": null,
   "id": "71b8e3d2",
   "metadata": {},
   "outputs": [],
   "source": [
    "px.density_heatmap(G6P, x='X', y='Y')"
   ]
  },
  {
   "cell_type": "code",
   "execution_count": null,
   "id": "1dd03197",
   "metadata": {},
   "outputs": [],
   "source": [
    "counts, bins = np.histogram(G6P.Timestamp, bins=range(G6P[\"Timestamp\"].min(), G6P[\"Timestamp\"].max(), 60))\n",
    "bins = bins[1:]\n",
    "px.line(['timestamp', 'count'], x=bins, y=counts, labels={'x':'timestamp', 'y':'count'})"
   ]
  },
  {
   "cell_type": "code",
   "execution_count": null,
   "id": "e4642d82",
   "metadata": {},
   "outputs": [],
   "source": []
  },
  {
   "cell_type": "markdown",
   "id": "6dc703d8",
   "metadata": {},
   "source": [
    "#### Group 7 "
   ]
  },
  {
   "cell_type": "code",
   "execution_count": null,
   "id": "a9a0c3d8",
   "metadata": {},
   "outputs": [],
   "source": [
    "G7 = list(set(Firday_Group)&set(LowDuration)&set(Early))\n",
    "G7P = Firday.loc[Firday['id'].isin(G7)]\n",
    "len(G7)"
   ]
  },
  {
   "cell_type": "code",
   "execution_count": null,
   "id": "2f829e2d",
   "metadata": {},
   "outputs": [],
   "source": [
    "px.density_heatmap(G7P, x='X', y='Y')"
   ]
  },
  {
   "cell_type": "code",
   "execution_count": null,
   "id": "62356a0b",
   "metadata": {},
   "outputs": [],
   "source": [
    "counts, bins = np.histogram(G7P.Timestamp, bins=range(G7P[\"Timestamp\"].min(), G7P[\"Timestamp\"].max(), 60))\n",
    "bins = bins[1:]\n",
    "px.line(['timestamp', 'count'], x=bins, y=counts, labels={'x':'timestamp', 'y':'count'})"
   ]
  },
  {
   "cell_type": "code",
   "execution_count": null,
   "id": "0aadace0",
   "metadata": {},
   "outputs": [],
   "source": []
  },
  {
   "cell_type": "markdown",
   "id": "40cc6b74",
   "metadata": {},
   "source": [
    "#### Group 8 "
   ]
  },
  {
   "cell_type": "code",
   "execution_count": null,
   "id": "467478d2",
   "metadata": {},
   "outputs": [],
   "source": [
    "G8 = list(set(Firday_Group)&set(Late))\n",
    "G8P = Firday.loc[Firday['id'].isin(G8)]\n",
    "len(G8)"
   ]
  },
  {
   "cell_type": "code",
   "execution_count": null,
   "id": "eff3da68",
   "metadata": {},
   "outputs": [],
   "source": [
    "px.density_heatmap(G8P, x='X', y='Y')"
   ]
  },
  {
   "cell_type": "code",
   "execution_count": null,
   "id": "032a4f4d",
   "metadata": {},
   "outputs": [],
   "source": [
    "counts, bins = np.histogram(G8P.Timestamp, bins=range(G8P[\"Timestamp\"].min(), G8P[\"Timestamp\"].max(), 60))\n",
    "bins = bins[1:]\n",
    "px.line(['timestamp', 'count'], x=bins, y=counts, labels={'x':'timestamp', 'y':'count'})"
   ]
  },
  {
   "cell_type": "code",
   "execution_count": null,
   "id": "4a4ff8ce",
   "metadata": {},
   "outputs": [],
   "source": []
  },
  {
   "cell_type": "markdown",
   "id": "7f6fed7b",
   "metadata": {},
   "source": [
    "### Criterion Four, the time interval between the activities of each visitor"
   ]
  },
  {
   "cell_type": "code",
   "execution_count": null,
   "id": "b1fa2528",
   "metadata": {},
   "outputs": [],
   "source": [
    "visitors_td = []\n",
    "max_td = []\n",
    "med_td = []\n",
    "for index, ID in enumerate(Firday.id.unique()):\n",
    "    visitors = Firday.loc[Firday['id'] == ID] \n",
    "    l = len(visitors['Timestamp'].values)\n",
    "    diff  = abs(visitors['Timestamp'].values[1:] - Firday['Timestamp'].values[0:l-1])\n",
    "    # Calculate the time difference between the tourist's first action and the next second action\n",
    "    dmax = max(diff)\n",
    "    dmed = np.median(diff)\n",
    "    visitors_td.append(ID)\n",
    "    max_td.append(dmax)\n",
    "    med_td.append(dmed)\n",
    "\n",
    "## max_td is a list that outputs the maximum value of the time difference according to the order in which the visitors_td are recorded. \n",
    "## For example, among all the actions of tourist A, the largest action interval is 100 seconds, then it is recorded as 100, and then tourist B. ....."
   ]
  },
  {
   "cell_type": "code",
   "execution_count": null,
   "id": "16803860",
   "metadata": {},
   "outputs": [],
   "source": [
    "import csv\n",
    "with open(\"FridayGapID\",\"w\") as f:\n",
    "    write = csv.writer(f)\n",
    "    write.writerow(visitors_td)\n",
    "with open(\"FridayGapMax\",\"w\") as f:\n",
    "    write = csv.writer(f)\n",
    "    write.writerow(max_td)\n",
    "with open(\"FridayGapMed\",\"w\") as f:\n",
    "    write = csv.writer(f)\n",
    "    write.writerow(med_td)"
   ]
  },
  {
   "cell_type": "markdown",
   "id": "7f563b8a",
   "metadata": {},
   "source": [
    "##  Visitors with huge gaps between actions (top 150), sorted from largest to smallest"
   ]
  },
  {
   "cell_type": "code",
   "execution_count": null,
   "id": "0b3b8a45",
   "metadata": {},
   "outputs": [],
   "source": [
    "inds1 =  np.argsort(max_td)\n",
    "GapH = np.array(visitors_td)[inds1[-150:]]\n",
    "GapHV = Firday.loc[Firday['id'].isin(GapH)]\n",
    "px.density_heatmap(GapHV, x=GapHV['X'], y=GapHV['Y'])"
   ]
  },
  {
   "cell_type": "code",
   "execution_count": null,
   "id": "cb16acbf",
   "metadata": {},
   "outputs": [],
   "source": [
    "counts, bins = np.histogram(GapHV.Timestamp, bins=range(GapHV[\"Timestamp\"].min(), GapHV[\"Timestamp\"].max(), 60))\n",
    "bins = bins[1:]\n",
    "px.line(['timestamp', 'count'], x=bins, y=counts, labels={'x':'timestamp', 'y':'count'})"
   ]
  },
  {
   "cell_type": "code",
   "execution_count": null,
   "id": "5ffa18e6",
   "metadata": {},
   "outputs": [],
   "source": []
  },
  {
   "cell_type": "markdown",
   "id": "21797fb0",
   "metadata": {},
   "source": [
    "## Fast-moving tourists (low gap between actions)"
   ]
  },
  {
   "cell_type": "code",
   "execution_count": null,
   "id": "5c391a6a",
   "metadata": {},
   "outputs": [],
   "source": [
    "inds2 =  np.argsort(med_td) \n",
    "Faster = np.array(visitors_td)[inds2[0:150]]\n",
    "FasterV = Firday.loc[Firday['id'].isin(Faster)]\n",
    "px.density_heatmap(FasterV, x=FasterV['X'], y=FasterV['Y'])"
   ]
  },
  {
   "cell_type": "code",
   "execution_count": null,
   "id": "4a419a33",
   "metadata": {},
   "outputs": [],
   "source": [
    "counts, bins = np.histogram(FasterV.Timestamp, bins=range(FasterV[\"Timestamp\"].min(), FasterV[\"Timestamp\"].max(), 60))\n",
    "bins = bins[1:]\n",
    "px.line(['timestamp', 'count'], x=bins, y=counts, labels={'x':'timestamp', 'y':'count'})"
   ]
  },
  {
   "cell_type": "code",
   "execution_count": null,
   "id": "f20b372e",
   "metadata": {},
   "outputs": [],
   "source": []
  },
  {
   "cell_type": "markdown",
   "id": "232e8819",
   "metadata": {},
   "source": [
    "## slow-moving tourists (high gap between actions)"
   ]
  },
  {
   "cell_type": "code",
   "execution_count": null,
   "id": "a89c6cc9",
   "metadata": {},
   "outputs": [],
   "source": [
    "inds3 =  np.argsort(med_td)\n",
    "Slower = np.array(visitors_td)[inds3[-150:]]\n",
    "SlowerV = Firday.loc[Firday['id'].isin(Slower)]\n",
    "px.density_heatmap(SlowerV, x=SlowerV['X'], y=SlowerV['Y'])"
   ]
  },
  {
   "cell_type": "code",
   "execution_count": null,
   "id": "9ac07833",
   "metadata": {},
   "outputs": [],
   "source": [
    "counts, bins = np.histogram(SlowerV.Timestamp, bins=range(SlowerV[\"Timestamp\"].min(), SlowerV[\"Timestamp\"].max(), 60))\n",
    "bins = bins[1:]\n",
    "px.line(['timestamp', 'count'], x=bins, y=counts, labels={'x':'timestamp', 'y':'count'})"
   ]
  },
  {
   "cell_type": "code",
   "execution_count": null,
   "id": "b61fc374",
   "metadata": {},
   "outputs": [],
   "source": []
  },
  {
   "cell_type": "markdown",
   "id": "5799237b",
   "metadata": {},
   "source": [
    "### Group EX"
   ]
  },
  {
   "cell_type": "code",
   "execution_count": null,
   "id": "8718614e",
   "metadata": {},
   "outputs": [],
   "source": [
    "ShowTimeS = time.mktime(time.strptime(\"2014-6-06 09:00:00\", \"%Y-%m-%d %H:%M:%S\"))\n",
    "ShowTimeE = time.mktime(time.strptime(\"2014-6-06 12:00:00\", \"%Y-%m-%d %H:%M:%S\"))\n",
    "\n",
    "CheckPointM = Firday.copy()\n",
    "SuspiciousIN = CheckPointM[   (CheckPointM[\"Timestamp\"]>=ShowTimeS) & (CheckPointM[\"Timestamp\"]<=ShowTimeE)                                                       ]\n",
    "SuspiciousIN = SuspiciousIN[  (SuspiciousIN[\"X\"]>=20) &  (SuspiciousIN[\"Y\"]>=30) ]\n",
    "SuspiciousIN = SuspiciousIN[  (SuspiciousIN[\"X\"]<=40) &  (SuspiciousIN[\"Y\"]<=40) ]"
   ]
  },
  {
   "cell_type": "code",
   "execution_count": null,
   "id": "3a4a3fcc",
   "metadata": {},
   "outputs": [],
   "source": [
    "ShowTimeS2 = time.mktime(time.strptime(\"2014-6-06 14:00:00\", \"%Y-%m-%d %H:%M:%S\"))\n",
    "ShowTimeE2 = time.mktime(time.strptime(\"2014-6-06 17:00:00\", \"%Y-%m-%d %H:%M:%S\"))\n",
    "\n",
    "CheckPointA = Firday.copy()\n",
    "SuspiciousIN2 = CheckPointA[   (CheckPointA[\"Timestamp\"]>=ShowTimeS2) & (CheckPointA[\"Timestamp\"]<=ShowTimeE2)                                                       ]\n",
    "SuspiciousIN2 = SuspiciousIN2[  (SuspiciousIN2[\"X\"]>=20) &  (SuspiciousIN2[\"Y\"]>=30) ]\n",
    "SuspiciousIN2 = SuspiciousIN2[  (SuspiciousIN2[\"X\"]<=40) &  (SuspiciousIN2[\"Y\"]<=40) ]"
   ]
  },
  {
   "cell_type": "code",
   "execution_count": null,
   "id": "c5718862",
   "metadata": {},
   "outputs": [],
   "source": [
    "SuspiciousGroup =  list(set( list(SuspiciousIN.id.unique()) ) & set(list(SuspiciousIN2.id.unique()))) \n",
    "GSP = Firday.loc[Firday['id'].isin(SuspiciousGroup)]\n",
    "len(SuspiciousGroup)"
   ]
  },
  {
   "cell_type": "code",
   "execution_count": null,
   "id": "2df452c5",
   "metadata": {},
   "outputs": [],
   "source": [
    "import csv\n",
    "with open(\"FridayAreaCheck\",\"w\") as f:\n",
    "    write = csv.writer(f)\n",
    "    write.writerow(SuspiciousGroup)"
   ]
  },
  {
   "cell_type": "code",
   "execution_count": null,
   "id": "4618250e",
   "metadata": {},
   "outputs": [],
   "source": [
    "px.density_heatmap(GSP, x='X', y='Y')"
   ]
  },
  {
   "cell_type": "code",
   "execution_count": null,
   "id": "03e13ac3",
   "metadata": {},
   "outputs": [],
   "source": [
    "counts, bins = np.histogram(GSP.Timestamp, bins=range(GSP[\"Timestamp\"].min(), GSP[\"Timestamp\"].max(), 60))\n",
    "bins = bins[1:]\n",
    "px.line(['timestamp', 'count'], x=bins, y=counts, labels={'x':'timestamp', 'y':'count'})"
   ]
  },
  {
   "cell_type": "code",
   "execution_count": null,
   "id": "719883cd",
   "metadata": {},
   "outputs": [],
   "source": []
  }
 ],
 "metadata": {
  "kernelspec": {
   "display_name": "Python 3",
   "language": "python",
   "name": "python3"
  },
  "language_info": {
   "codemirror_mode": {
    "name": "ipython",
    "version": 3
   },
   "file_extension": ".py",
   "mimetype": "text/x-python",
   "name": "python",
   "nbconvert_exporter": "python",
   "pygments_lexer": "ipython3",
   "version": "3.8.8"
  }
 },
 "nbformat": 4,
 "nbformat_minor": 5
}
