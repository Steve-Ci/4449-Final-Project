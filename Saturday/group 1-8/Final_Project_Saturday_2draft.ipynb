{
 "cells": [
  {
   "cell_type": "code",
   "execution_count": null,
   "id": "6d627b50",
   "metadata": {},
   "outputs": [],
   "source": [
    "import pandas as pd\n",
    "import numpy as np\n",
    "import matplotlib.pyplot as plt\n",
    "import seaborn as sns\n",
    "import warnings\n",
    "warnings.simplefilter(\"ignore\")\n",
    "from datetime import datetime\n",
    "import plotly.express as px\n",
    "from skimage import io\n",
    "import math\n",
    "import time"
   ]
  },
  {
   "cell_type": "code",
   "execution_count": null,
   "id": "7664d3e7",
   "metadata": {},
   "outputs": [],
   "source": [
    "Saturday = pd.DataFrame(pd.read_csv('park-movement-Sat.csv'))\n",
    "Saturday[\"id\"] = Saturday[\"id\"].astype(str)\n",
    "Saturday = Saturday.replace('check-in', 1).replace('movement', 0)\n",
    "Saturday[\"Timestamp\"] = Saturday[\"Timestamp\"].map(lambda x: int(time.mktime(time.strptime(x, \"%Y-%m-%d %H:%M:%S\"))))\n",
    "Saturday[\"visit_count\"] = Saturday.groupby([\"id\"])[\"id\"].transform(\"count\")\n",
    "T = pd.DataFrame(Saturday.groupby('id')['Timestamp'].agg(np.ptp)).reset_index()\n",
    "T[\"visit_duration\"] = T['Timestamp'].map(lambda x:x//60)\n",
    "Saturday_III = Saturday.merge(T[[\"id\", \"visit_duration\"]])\n",
    "Saturday_III[\"Facility_coordinates\"]= Saturday_III.apply(lambda row: (int(row.X),int(row.Y)), axis=1)\n",
    "Saturday_III[\"X\"] = Saturday_III[\"X\"].map(lambda x:int(x))\n",
    "Saturday_III[\"Y\"] = Saturday_III[\"Y\"].map(lambda x:int(x))"
   ]
  },
  {
   "cell_type": "code",
   "execution_count": null,
   "id": "dfb73081",
   "metadata": {},
   "outputs": [],
   "source": [
    "Saturday_III.to_csv('park-movement-Sat_NewII.csv')"
   ]
  },
  {
   "cell_type": "code",
   "execution_count": null,
   "id": "2894d8e3",
   "metadata": {},
   "outputs": [],
   "source": [
    "Saturday = pd.DataFrame(pd.read_csv('park-movement-Sat_NewII.csv'))\n",
    "Saturday = Saturday.drop([\"Unnamed: 0\"], axis=1)\n",
    "Saturday[\"id\"] = Saturday[\"id\"].astype(str)\n",
    "Saturday[\"Facility_coordinates\"]= Saturday.apply(lambda row: (int(row.X),int(row.Y)), axis=1)\n",
    "Saturday[\"X\"] = Saturday[\"X\"].map(lambda x:int(x))\n",
    "Saturday[\"Y\"] = Saturday[\"Y\"].map(lambda x:int(x))"
   ]
  },
  {
   "cell_type": "code",
   "execution_count": null,
   "id": "41ca8026",
   "metadata": {},
   "outputs": [],
   "source": [
    "Saturday.isna().sum()"
   ]
  },
  {
   "cell_type": "code",
   "execution_count": null,
   "id": "ec2c6352",
   "metadata": {},
   "outputs": [],
   "source": [
    "Saturday.info()"
   ]
  },
  {
   "cell_type": "code",
   "execution_count": null,
   "id": "f52481a1",
   "metadata": {},
   "outputs": [],
   "source": [
    "len(Saturday)"
   ]
  },
  {
   "cell_type": "code",
   "execution_count": null,
   "id": "324b3e1e",
   "metadata": {
    "scrolled": false
   },
   "outputs": [],
   "source": [
    "px.density_heatmap(Saturday, x='X', y='Y')"
   ]
  },
  {
   "cell_type": "code",
   "execution_count": null,
   "id": "53abd01d",
   "metadata": {},
   "outputs": [],
   "source": [
    "counts, bins = np.histogram(Saturday.Timestamp, bins=range(Saturday[\"Timestamp\"].min(), Saturday[\"Timestamp\"].max(), 60))\n",
    "bins = bins[1:]\n",
    "px.line(['timestamp', 'count'], x=bins, y=counts, labels={'x':'timestamp', 'y':'count'})"
   ]
  },
  {
   "cell_type": "markdown",
   "id": "3ee93279",
   "metadata": {},
   "source": [
    "### Criterion One：Relative time difference and relative distance (Euclidean distance)"
   ]
  },
  {
   "cell_type": "code",
   "execution_count": null,
   "id": "a0ccdc47",
   "metadata": {},
   "outputs": [],
   "source": [
    "Group = []\n",
    "# Families, relatives, couples, or any close small group\n",
    "Crowd = []\n",
    "# Groups of people who do not belong to each other in small groups, but have similar behavioral patterns\n",
    "Single = []\n",
    "# Tourists who do not belong to the above two groups\n",
    "\n",
    "for index, ID in enumerate(Saturday.id.unique()):\n",
    "    D = Saturday.loc[Saturday['id'] == ID] \n",
    "    Trajectory_I  = D[['id','Timestamp', 'type', \"Facility_coordinates\"]].sort_values(by=['Timestamp']).to_numpy() \n",
    "\n",
    "    Len1 = len(Trajectory_I)\n",
    "    \n",
    "    for index2, ID2 in enumerate(Saturday.id.unique()[index:]):\n",
    "        if index2 > 10: \n",
    "            break\n",
    "        if ID == ID2: \n",
    "            continue\n",
    "            \n",
    "        D2 = Saturday.loc[Saturday['id'] == ID2] \n",
    "        Trajectory_II = D2[['id','Timestamp', 'type', \"Facility_coordinates\"]].sort_values(by=['Timestamp']).to_numpy()\n",
    "        Len2 = len(Trajectory_II)\n",
    "        \n",
    "        \n",
    "        if Len1 == Len2:\n",
    "            track_1 =  pd.Series(list(Trajectory_I[:,3]))\n",
    "            track_2 =  pd.Series(list(Trajectory_II[:,3]))\n",
    "            distance = list( track_1.combine(track_2, (lambda x1, x2: 1 if np.linalg.norm(np.array(x1) - np.array(x2)) <= 2 else 0 )))\n",
    "            Ddiff = distance.count(1)/len(distance)            \n",
    "            \n",
    "            if Ddiff >= 0.7:\n",
    "        \n",
    "                Tdiff = np.median(np.abs(Trajectory_I[:,1]-Trajectory_II[:,1]))\n",
    "\n",
    "                if Tdiff <= 60:\n",
    "                    Group.append(ID)\n",
    "                    Group.append(ID2)\n",
    "                    \n",
    "                else:\n",
    "                    Crowd.append(ID)\n",
    "                    Crowd.append(ID2)\n",
    "\n",
    "                    \n",
    "        else:\n",
    "            track_1 =  pd.Series(list(Trajectory_I[:,3]))\n",
    "            track_2 =  pd.Series(list(Trajectory_II[:,3]))\n",
    "            distance = list( track_1.combine(track_2, (lambda x1, x2: 1 if np.linalg.norm(np.array(x1) - np.array(x2)) <= 2 else 0 )))\n",
    "            Ddiff = distance.count(1)/len(distance)\n",
    "        \n",
    "            if Ddiff >= 0.7:\n",
    "                Crowd.append(ID)\n",
    "                Crowd.append(ID2)\n",
    "\n",
    "            else:\n",
    "                Single.append(ID)\n",
    "                Single.append(ID2)\n"
   ]
  },
  {
   "cell_type": "code",
   "execution_count": null,
   "id": "f908a2c4",
   "metadata": {},
   "outputs": [],
   "source": [
    "d1 = pd.read_csv('SaturdayGroupCount.csv')\n",
    "d2 = pd.read_csv('SaturdayCrowdCount.csv')\n",
    "d3 = pd.read_csv('SaturdaySingleCount.csv')\n",
    "\n",
    "Group = [  i.split(\".\", 1)[0] for i in d1.columns ]\n",
    "Crowd = [  i.split(\".\", 1)[0] for i in d2.columns ]\n",
    "Single = [  i.split(\".\", 1)[0] for i in d3.columns ]"
   ]
  },
  {
   "cell_type": "code",
   "execution_count": null,
   "id": "b8f10b9c",
   "metadata": {},
   "outputs": [],
   "source": [
    "Saturday_Group = list(set(Group))\n",
    "Saturday_Crowd = list(set(Crowd)-set(Group))\n",
    "Saturday_Single=  list(set(list(set(Single)-set(Group)))-set(Crowd)) "
   ]
  },
  {
   "cell_type": "code",
   "execution_count": null,
   "id": "f7c23338",
   "metadata": {},
   "outputs": [],
   "source": [
    "len(Saturday.id.unique()),len(Saturday_Group), len(Saturday_Crowd), len(Saturday_Single)"
   ]
  },
  {
   "cell_type": "markdown",
   "id": "2a00927e",
   "metadata": {},
   "source": [
    "### Criterion Two：Earliest arrival time grouping"
   ]
  },
  {
   "cell_type": "code",
   "execution_count": null,
   "id": "1e1d952b",
   "metadata": {},
   "outputs": [],
   "source": [
    "TimePointMorning = time.mktime(time.strptime(\"2014-6-07 11:00:00\", \"%Y-%m-%d %H:%M:%S\"))\n",
    "TimePointAfterNoon = time.mktime(time.strptime(\"2014-6-07 16:00:00\", \"%Y-%m-%d %H:%M:%S\"))\n",
    "\n",
    "ArrivalTime = Saturday.copy().drop_duplicates(subset='id')\n",
    "ArrivalTime[\"ArrivalTime\"] = ArrivalTime[\"Timestamp\"].map(lambda x: 1 if x- TimePointMorning >= 0 and x - TimePointAfterNoon <= 0 else ( 2 if x - TimePointAfterNoon >= 0 else 0 ) )\n",
    "Early = list(ArrivalTime[ArrivalTime[\"ArrivalTime\"]==0].id.unique())\n",
    "Noon =  list(ArrivalTime[ArrivalTime[\"ArrivalTime\"]==1].id.unique())\n",
    "Late = list(ArrivalTime[ArrivalTime[\"ArrivalTime\"]==2].id.unique())\n",
    "len(Saturday.id.unique()), len(Early), len(Noon), len(Late)"
   ]
  },
  {
   "cell_type": "markdown",
   "id": "0cdba2dd",
   "metadata": {},
   "source": [
    "### Criterion Three：duration stay time"
   ]
  },
  {
   "cell_type": "code",
   "execution_count": null,
   "id": "43823aeb",
   "metadata": {},
   "outputs": [],
   "source": [
    "np.mean(Saturday[\"visit_duration\"].unique())\n",
    "HighDuration = list(Saturday[Saturday[\"visit_duration\"] >= np.mean(Saturday[\"visit_duration\"].unique())].id.unique())\n",
    "LowDuration = list(Saturday[Saturday[\"visit_duration\"] < np.mean(Saturday[\"visit_duration\"].unique())].id.unique())\n",
    "len(Saturday.id.unique()), len(HighDuration), len(LowDuration)"
   ]
  },
  {
   "cell_type": "markdown",
   "id": "697cdebf",
   "metadata": {},
   "source": [
    "#### Group 1"
   ]
  },
  {
   "cell_type": "code",
   "execution_count": null,
   "id": "e099cd93",
   "metadata": {},
   "outputs": [],
   "source": [
    "G1 = list(set(Saturday_Group)&set(Early)&set( HighDuration))\n",
    "G1P = Saturday.loc[Saturday['id'].isin(G1)]"
   ]
  },
  {
   "cell_type": "code",
   "execution_count": null,
   "id": "fcf4a6c7",
   "metadata": {},
   "outputs": [],
   "source": [
    "len(G1P.id.unique())"
   ]
  },
  {
   "cell_type": "code",
   "execution_count": null,
   "id": "f4f4d850",
   "metadata": {},
   "outputs": [],
   "source": [
    "px.density_heatmap(G1P, x='X', y='Y')"
   ]
  },
  {
   "cell_type": "code",
   "execution_count": null,
   "id": "5b44f005",
   "metadata": {},
   "outputs": [],
   "source": [
    "counts, bins = np.histogram(G1P.Timestamp, bins=range(G1P[\"Timestamp\"].min(), G1P[\"Timestamp\"].max(), 60))\n",
    "bins = bins[1:]\n",
    "px.line(['timestamp', 'count'], x=bins, y=counts, labels={'x':'timestamp', 'y':'count'})"
   ]
  },
  {
   "cell_type": "code",
   "execution_count": null,
   "id": "516a9c1a",
   "metadata": {},
   "outputs": [],
   "source": [
    "Saturday.loc[Saturday['id'].isin(list(set(Saturday_Crowd)&set(Early)&set( LowDuration)))]        "
   ]
  },
  {
   "cell_type": "markdown",
   "id": "be5190dc",
   "metadata": {},
   "source": [
    "#### Group 2"
   ]
  },
  {
   "cell_type": "code",
   "execution_count": null,
   "id": "3d496fda",
   "metadata": {},
   "outputs": [],
   "source": [
    "G2 = list(set(Saturday_Crowd)&set(Early)&set( HighDuration))\n",
    "G2P = Saturday.loc[Saturday['id'].isin(G2)]\n",
    "len(G2)"
   ]
  },
  {
   "cell_type": "code",
   "execution_count": null,
   "id": "fb153dd3",
   "metadata": {},
   "outputs": [],
   "source": [
    "px.density_heatmap(G2P, x='X', y='Y')"
   ]
  },
  {
   "cell_type": "code",
   "execution_count": null,
   "id": "3c353f23",
   "metadata": {},
   "outputs": [],
   "source": [
    "counts, bins = np.histogram(G2P.Timestamp, bins=range(G2P[\"Timestamp\"].min(), G2P[\"Timestamp\"].max(), 60))\n",
    "bins = bins[1:]\n",
    "px.line(['timestamp', 'count'], x=bins, y=counts, labels={'x':'timestamp', 'y':'count'})"
   ]
  },
  {
   "cell_type": "code",
   "execution_count": null,
   "id": "8e66af80",
   "metadata": {},
   "outputs": [],
   "source": []
  },
  {
   "cell_type": "markdown",
   "id": "6e55cbd5",
   "metadata": {},
   "source": [
    "#### Group 3"
   ]
  },
  {
   "cell_type": "code",
   "execution_count": null,
   "id": "e0c28849",
   "metadata": {},
   "outputs": [],
   "source": [
    "G3 = list(set(Saturday_Single)&set(Early)&set(HighDuration))\n",
    "G3P = Saturday.loc[Saturday['id'].isin(G3)]\n",
    "len(G3)"
   ]
  },
  {
   "cell_type": "code",
   "execution_count": null,
   "id": "98131764",
   "metadata": {},
   "outputs": [],
   "source": [
    "px.density_heatmap(G3P, x='X', y='Y')"
   ]
  },
  {
   "cell_type": "code",
   "execution_count": null,
   "id": "0f8e68fd",
   "metadata": {},
   "outputs": [],
   "source": [
    "counts, bins = np.histogram(G3P.Timestamp, bins=range(G3P[\"Timestamp\"].min(), G3P[\"Timestamp\"].max(), 60))\n",
    "bins = bins[1:]\n",
    "px.line(['timestamp', 'count'], x=bins, y=counts, labels={'x':'timestamp', 'y':'count'})"
   ]
  },
  {
   "cell_type": "code",
   "execution_count": null,
   "id": "066e1a07",
   "metadata": {},
   "outputs": [],
   "source": []
  },
  {
   "cell_type": "markdown",
   "id": "b8c6cd36",
   "metadata": {},
   "source": [
    "#### Group 4"
   ]
  },
  {
   "cell_type": "code",
   "execution_count": null,
   "id": "ee544293",
   "metadata": {},
   "outputs": [],
   "source": [
    "G4 = list(set(Saturday_Group)&set(Noon))\n",
    "G4P = Saturday.loc[Saturday['id'].isin(G4)]\n",
    "len(G4) "
   ]
  },
  {
   "cell_type": "code",
   "execution_count": null,
   "id": "781462fb",
   "metadata": {},
   "outputs": [],
   "source": [
    "px.density_heatmap(G4P, x='X', y='Y')"
   ]
  },
  {
   "cell_type": "code",
   "execution_count": null,
   "id": "297beac3",
   "metadata": {},
   "outputs": [],
   "source": [
    "counts, bins = np.histogram(G4P.Timestamp, bins=range(G4P[\"Timestamp\"].min(), G4P[\"Timestamp\"].max(), 60))\n",
    "bins = bins[1:]\n",
    "px.line(['timestamp', 'count'], x=bins, y=counts, labels={'x':'timestamp', 'y':'count'})"
   ]
  },
  {
   "cell_type": "code",
   "execution_count": null,
   "id": "d0912920",
   "metadata": {},
   "outputs": [],
   "source": []
  },
  {
   "cell_type": "markdown",
   "id": "b58c75f9",
   "metadata": {},
   "source": [
    "#### Group 5"
   ]
  },
  {
   "cell_type": "code",
   "execution_count": null,
   "id": "0af0c157",
   "metadata": {},
   "outputs": [],
   "source": [
    "G5 = list(set(Saturday_Crowd)&set(Noon))\n",
    "G5P = Saturday.loc[Saturday['id'].isin(G5)]\n",
    "len(G5) "
   ]
  },
  {
   "cell_type": "code",
   "execution_count": null,
   "id": "00897e31",
   "metadata": {},
   "outputs": [],
   "source": [
    "px.density_heatmap(G5P, x='X', y='Y')"
   ]
  },
  {
   "cell_type": "code",
   "execution_count": null,
   "id": "3716ed97",
   "metadata": {},
   "outputs": [],
   "source": [
    "counts, bins = np.histogram(G5P.Timestamp, bins=range(G5P[\"Timestamp\"].min(), G5P[\"Timestamp\"].max(), 60))\n",
    "bins = bins[1:]\n",
    "px.line(['timestamp', 'count'], x=bins, y=counts, labels={'x':'timestamp', 'y':'count'})"
   ]
  },
  {
   "cell_type": "code",
   "execution_count": null,
   "id": "c08821d4",
   "metadata": {},
   "outputs": [],
   "source": []
  },
  {
   "cell_type": "markdown",
   "id": "5d1c3911",
   "metadata": {},
   "source": [
    "#### Group 6"
   ]
  },
  {
   "cell_type": "code",
   "execution_count": null,
   "id": "7425a398",
   "metadata": {},
   "outputs": [],
   "source": [
    "G6 = list(set(Saturday_Single)&set(LowDuration))\n",
    "G6P = Saturday.loc[Saturday['id'].isin(G6)]\n",
    "len(G6) "
   ]
  },
  {
   "cell_type": "code",
   "execution_count": null,
   "id": "3cbc0e56",
   "metadata": {},
   "outputs": [],
   "source": [
    "px.density_heatmap(G6P, x='X', y='Y')"
   ]
  },
  {
   "cell_type": "code",
   "execution_count": null,
   "id": "17ec2993",
   "metadata": {},
   "outputs": [],
   "source": [
    "counts, bins = np.histogram(G6P.Timestamp, bins=range(G6P[\"Timestamp\"].min(), G6P[\"Timestamp\"].max(), 60))\n",
    "bins = bins[1:]\n",
    "px.line(['timestamp', 'count'], x=bins, y=counts, labels={'x':'timestamp', 'y':'count'})"
   ]
  },
  {
   "cell_type": "markdown",
   "id": "03ca2085",
   "metadata": {},
   "source": [
    "#### Group 7 "
   ]
  },
  {
   "cell_type": "code",
   "execution_count": null,
   "id": "21a8f13e",
   "metadata": {},
   "outputs": [],
   "source": [
    "G7 = list(set(Saturday_Group)&set(LowDuration))\n",
    "G7P = Saturday.loc[Saturday['id'].isin(G7)]\n",
    "len(G7)"
   ]
  },
  {
   "cell_type": "code",
   "execution_count": null,
   "id": "4f22ea42",
   "metadata": {},
   "outputs": [],
   "source": [
    "px.density_heatmap(G7P, x='X', y='Y')"
   ]
  },
  {
   "cell_type": "code",
   "execution_count": null,
   "id": "7b25528e",
   "metadata": {},
   "outputs": [],
   "source": [
    "counts, bins = np.histogram(G7P.Timestamp, bins=range(G7P[\"Timestamp\"].min(), G7P[\"Timestamp\"].max(), 60))\n",
    "bins = bins[1:]\n",
    "px.line(['timestamp', 'count'], x=bins, y=counts, labels={'x':'timestamp', 'y':'count'})"
   ]
  },
  {
   "cell_type": "markdown",
   "id": "234c0725",
   "metadata": {},
   "source": [
    "#### Group 8 "
   ]
  },
  {
   "cell_type": "code",
   "execution_count": null,
   "id": "5e6a491f",
   "metadata": {},
   "outputs": [],
   "source": [
    "G8 = list(set(Saturday_Group)&set(Late))\n",
    "G8P = Saturday.loc[Saturday['id'].isin(G8)]\n",
    "len(G8)"
   ]
  },
  {
   "cell_type": "code",
   "execution_count": null,
   "id": "fcd8b7d2",
   "metadata": {},
   "outputs": [],
   "source": [
    "px.density_heatmap(G8P, x='X', y='Y')"
   ]
  },
  {
   "cell_type": "code",
   "execution_count": null,
   "id": "65f527dc",
   "metadata": {},
   "outputs": [],
   "source": [
    "counts, bins = np.histogram(G8P.Timestamp, bins=range(G8P[\"Timestamp\"].min(), G8P[\"Timestamp\"].max(), 60))\n",
    "bins = bins[1:]\n",
    "px.line(['timestamp', 'count'], x=bins, y=counts, labels={'x':'timestamp', 'y':'count'})"
   ]
  },
  {
   "cell_type": "code",
   "execution_count": null,
   "id": "65926faa",
   "metadata": {},
   "outputs": [],
   "source": []
  },
  {
   "cell_type": "markdown",
   "id": "6bde5520",
   "metadata": {},
   "source": [
    "#### Criterion Four, the time interval between the activities of each visitor"
   ]
  },
  {
   "cell_type": "code",
   "execution_count": null,
   "id": "64ee416e",
   "metadata": {},
   "outputs": [],
   "source": [
    "visitors_td = []\n",
    "max_td = []\n",
    "med_td = []\n",
    "for index, ID in enumerate(Saturday.id.unique()):\n",
    "    visitors = Saturday.loc[Saturday['id'] == ID] \n",
    "    l = len(visitors['Timestamp'].values)\n",
    "    diff  = abs(visitors['Timestamp'].values[1:] - Saturday['Timestamp'].values[0:l-1])\n",
    "    # Calculate the time difference between the tourist's first action and the next second action\n",
    "    dmax = max(diff)\n",
    "    dmed = np.median(diff)\n",
    "    visitors_td.append(ID)\n",
    "    max_td.append(dmax)\n",
    "    med_td.append(dmed)"
   ]
  },
  {
   "cell_type": "markdown",
   "id": "1f61d17a",
   "metadata": {},
   "source": [
    "####  Visitors with huge gaps between actions (top 150), sorted from largest to smallest"
   ]
  },
  {
   "cell_type": "code",
   "execution_count": null,
   "id": "4781b396",
   "metadata": {},
   "outputs": [],
   "source": [
    "inds1 =  np.argsort(max_td)\n",
    "GapH = np.array(visitors_td)[inds1[-150:]]\n",
    "GapHV = Saturday.loc[Saturday['id'].isin(GapH)]\n",
    "px.density_heatmap(GapHV, x=GapHV['X'], y=GapHV['Y'])"
   ]
  },
  {
   "cell_type": "code",
   "execution_count": null,
   "id": "87f99c14",
   "metadata": {},
   "outputs": [],
   "source": [
    "counts, bins = np.histogram(GapHV.Timestamp, bins=range(GapHV[\"Timestamp\"].min(), GapHV[\"Timestamp\"].max(), 60))\n",
    "bins = bins[1:]\n",
    "px.line(['timestamp', 'count'], x=bins, y=counts, labels={'x':'timestamp', 'y':'count'})"
   ]
  },
  {
   "cell_type": "markdown",
   "id": "3ad93b78",
   "metadata": {},
   "source": [
    "#### Fast-moving tourists (low gap between actions)"
   ]
  },
  {
   "cell_type": "code",
   "execution_count": null,
   "id": "c9d88e1e",
   "metadata": {},
   "outputs": [],
   "source": [
    "inds2 =  np.argsort(med_td) \n",
    "Faster = np.array(visitors_td)[inds2[0:150]]\n",
    "FasterV = Saturday.loc[Saturday['id'].isin(Faster)]\n",
    "px.density_heatmap(FasterV, x=FasterV['X'], y=FasterV['Y'])"
   ]
  },
  {
   "cell_type": "code",
   "execution_count": null,
   "id": "315367ba",
   "metadata": {},
   "outputs": [],
   "source": [
    "counts, bins = np.histogram(FasterV.Timestamp, bins=range(FasterV[\"Timestamp\"].min(), FasterV[\"Timestamp\"].max(), 60))\n",
    "bins = bins[1:]\n",
    "px.line(['timestamp', 'count'], x=bins, y=counts, labels={'x':'timestamp', 'y':'count'})"
   ]
  },
  {
   "cell_type": "markdown",
   "id": "5db10f4b",
   "metadata": {},
   "source": [
    "#### Slow-moving tourists (high gap between actions)"
   ]
  },
  {
   "cell_type": "code",
   "execution_count": null,
   "id": "c0a2386b",
   "metadata": {},
   "outputs": [],
   "source": [
    "inds3 =  np.argsort(med_td)\n",
    "Slower = np.array(visitors_td)[inds3[-150:]]\n",
    "SlowerV = Saturday.loc[Saturday['id'].isin(Slower)]\n",
    "px.density_heatmap(SlowerV, x=SlowerV['X'], y=SlowerV['Y'])"
   ]
  },
  {
   "cell_type": "code",
   "execution_count": null,
   "id": "8e8138ea",
   "metadata": {},
   "outputs": [],
   "source": [
    "counts, bins = np.histogram(SlowerV.Timestamp, bins=range(SlowerV[\"Timestamp\"].min(), SlowerV[\"Timestamp\"].max(), 60))\n",
    "bins = bins[1:]\n",
    "px.line(['timestamp', 'count'], x=bins, y=counts, labels={'x':'timestamp', 'y':'count'})"
   ]
  },
  {
   "cell_type": "code",
   "execution_count": null,
   "id": "78d5d75d",
   "metadata": {},
   "outputs": [],
   "source": []
  },
  {
   "cell_type": "markdown",
   "id": "7dcf4646",
   "metadata": {},
   "source": [
    "### Group EX"
   ]
  },
  {
   "cell_type": "code",
   "execution_count": null,
   "id": "5e79f1c9",
   "metadata": {},
   "outputs": [],
   "source": [
    "ShowTimeS = time.mktime(time.strptime(\"2014-6-07 09:00:00\", \"%Y-%m-%d %H:%M:%S\"))\n",
    "ShowTimeE = time.mktime(time.strptime(\"2014-6-07 11:00:00\", \"%Y-%m-%d %H:%M:%S\"))\n",
    "\n",
    "CheckPointM = Saturday.copy()\n",
    "SuspiciousIN = CheckPointM[   (CheckPointM[\"Timestamp\"]>=ShowTimeS) & (CheckPointM[\"Timestamp\"]<=ShowTimeE)                                                       ]\n",
    "SuspiciousIN = SuspiciousIN[  (SuspiciousIN[\"X\"]>=20) &  (SuspiciousIN[\"Y\"]>=30) ]\n",
    "SuspiciousIN = SuspiciousIN[  (SuspiciousIN[\"X\"]<=40) &  (SuspiciousIN[\"Y\"]<=40) ]"
   ]
  },
  {
   "cell_type": "code",
   "execution_count": null,
   "id": "fb0f13b3",
   "metadata": {},
   "outputs": [],
   "source": [
    "ShowTimeS2 = time.mktime(time.strptime(\"2014-6-07 14:00:00\", \"%Y-%m-%d %H:%M:%S\"))\n",
    "ShowTimeE2 = time.mktime(time.strptime(\"2014-6-07 16:00:00\", \"%Y-%m-%d %H:%M:%S\"))\n",
    "\n",
    "CheckPointA = Saturday.copy()\n",
    "SuspiciousIN2 = CheckPointA[   (CheckPointA[\"Timestamp\"]>=ShowTimeS2) & (CheckPointA[\"Timestamp\"]<=ShowTimeE2)                                                       ]\n",
    "SuspiciousIN2 = SuspiciousIN2[  (SuspiciousIN2[\"X\"]>=20) &  (SuspiciousIN2[\"Y\"]>=30) ]\n",
    "SuspiciousIN2 = SuspiciousIN2[  (SuspiciousIN2[\"X\"]<=40) &  (SuspiciousIN2[\"Y\"]<=40) ]"
   ]
  },
  {
   "cell_type": "code",
   "execution_count": null,
   "id": "c314e070",
   "metadata": {},
   "outputs": [],
   "source": [
    "SuspiciousGroup =  list(set( list(SuspiciousIN.id.unique()) ) & set(list(SuspiciousIN2.id.unique()))) \n",
    "GSP = Saturday.loc[Saturday['id'].isin(SuspiciousGroup)]\n",
    "len(SuspiciousGroup)"
   ]
  },
  {
   "cell_type": "code",
   "execution_count": null,
   "id": "f3a8732c",
   "metadata": {},
   "outputs": [],
   "source": [
    "px.density_heatmap(GSP, x='X', y='Y')"
   ]
  },
  {
   "cell_type": "code",
   "execution_count": null,
   "id": "c0fd7af8",
   "metadata": {},
   "outputs": [],
   "source": [
    "counts, bins = np.histogram(GSP.Timestamp, bins=range(GSP[\"Timestamp\"].min(), GSP[\"Timestamp\"].max(), 60))\n",
    "bins = bins[1:]\n",
    "px.line(['timestamp', 'count'], x=bins, y=counts, labels={'x':'timestamp', 'y':'count'})"
   ]
  },
  {
   "cell_type": "code",
   "execution_count": null,
   "id": "b303142b",
   "metadata": {},
   "outputs": [],
   "source": []
  },
  {
   "cell_type": "code",
   "execution_count": null,
   "id": "56ba89a6",
   "metadata": {},
   "outputs": [],
   "source": []
  },
  {
   "cell_type": "code",
   "execution_count": null,
   "id": "8460959b",
   "metadata": {},
   "outputs": [],
   "source": [
    "time.strftime(\"%Y-%m-%d %H:%M:%S\", time.localtime( 1402178400))"
   ]
  },
  {
   "cell_type": "code",
   "execution_count": null,
   "id": "94cbec74",
   "metadata": {},
   "outputs": [],
   "source": [
    "Area = []\n",
    "for index, ID in enumerate(EarlyPart.id.unique()):\n",
    "    visitors = EarlyPart.loc[EarlyPart['id'] == ID] \n",
    "    is_selected = False\n",
    "    diff = len(visitors.loc[visitors['X'] < 50].loc[visitors['Y'] < 50])/len(visitors)\n",
    "    Area_1.append(diff)\n",
    "    \n",
    "    diff = len(visitors.loc[visitors['X'] > 50].loc[visitors['Y'] < 50])/len(visitors)\n",
    "    Area_2.append(diff)\n",
    "    \n",
    "    diff = len(visitors.loc[visitors['X'] < 50].loc[visitors['Y'] > 50])/len(visitors)\n",
    "    Area_3.append(diff)\n",
    "    \n",
    "    diff = len(visitors.loc[visitors['X'] > 50].loc[visitors['Y'] > 50])/len(visitors)\n",
    "    Area_4.append(diff)\n",
    "    \n",
    "for i in [Area_1,Area_2,Area_3,Area_4]:\n",
    "    area = px.histogram(i, nbins=20)\n",
    "    area.show()"
   ]
  },
  {
   "cell_type": "code",
   "execution_count": null,
   "id": "57516bfc",
   "metadata": {},
   "outputs": [],
   "source": []
  },
  {
   "cell_type": "code",
   "execution_count": null,
   "id": "1d58d875",
   "metadata": {},
   "outputs": [],
   "source": []
  },
  {
   "cell_type": "code",
   "execution_count": null,
   "id": "21582dff",
   "metadata": {},
   "outputs": [],
   "source": []
  },
  {
   "cell_type": "code",
   "execution_count": null,
   "id": "fe62af31",
   "metadata": {},
   "outputs": [],
   "source": []
  },
  {
   "cell_type": "code",
   "execution_count": null,
   "id": "e655b5d3",
   "metadata": {},
   "outputs": [],
   "source": []
  },
  {
   "cell_type": "code",
   "execution_count": null,
   "id": "796a2909",
   "metadata": {},
   "outputs": [],
   "source": []
  }
 ],
 "metadata": {
  "kernelspec": {
   "display_name": "Python 3",
   "language": "python",
   "name": "python3"
  },
  "language_info": {
   "codemirror_mode": {
    "name": "ipython",
    "version": 3
   },
   "file_extension": ".py",
   "mimetype": "text/x-python",
   "name": "python",
   "nbconvert_exporter": "python",
   "pygments_lexer": "ipython3",
   "version": "3.8.8"
  }
 },
 "nbformat": 4,
 "nbformat_minor": 5
}
