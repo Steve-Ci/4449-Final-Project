{
 "cells": [
  {
   "cell_type": "code",
   "execution_count": null,
   "id": "7102cc17",
   "metadata": {},
   "outputs": [],
   "source": [
    "import pandas as pd\n",
    "import numpy as np\n",
    "import matplotlib.pyplot as plt\n",
    "import seaborn as sns\n",
    "import warnings\n",
    "warnings.simplefilter(\"ignore\")\n",
    "from datetime import datetime\n",
    "import plotly.express as px\n",
    "from skimage import io\n",
    "import math\n",
    "import time"
   ]
  },
  {
   "cell_type": "code",
   "execution_count": null,
   "id": "ea713fb7",
   "metadata": {},
   "outputs": [],
   "source": [
    "Sunday = pd.DataFrame(pd.read_csv('park-movement-Sun.csv'))\n",
    "Sunday = Sunday[:-1]\n",
    "Sunday = Sunday.dropna()\n",
    "Sunday[\"id\"] = Sunday[\"id\"].astype(str)\n",
    "Sunday = Sunday.replace('check-in', 1).replace('movement', 0)\n",
    "Sunday[\"Timestamp\"] = Sunday[\"Timestamp\"].map(lambda x: int(time.mktime(time.strptime(x, \"%Y-%m-%d %H:%M:%S\"))))\n",
    "Sunday[\"visit_count\"] = Sunday.groupby([\"id\"])[\"id\"].transform(\"count\")\n",
    "T = pd.DataFrame(Sunday.groupby('id')['Timestamp'].agg(np.ptp)).reset_index()\n",
    "T[\"visit_duration\"] = T['Timestamp'].map(lambda x:x//60)\n",
    "Sunday_II = Sunday.merge(T[[\"id\", \"visit_duration\"]])\n",
    "Sunday_II[\"Facility_coordinates\"]= Sunday_II.apply(lambda row: (int(row.X),int(row.Y)), axis=1)\n",
    "Sunday_II[\"X\"] = Sunday_II[\"X\"].map(lambda x:int(x))\n",
    "Sunday_II[\"Y\"] = Sunday_II[\"Y\"].map(lambda x:int(x))\n",
    "# #Sunday_II.to_csv('park-movement-Sun_New.csv')"
   ]
  },
  {
   "cell_type": "code",
   "execution_count": null,
   "id": "dccf711b",
   "metadata": {},
   "outputs": [],
   "source": [
    "Sunday_II = pd.DataFrame(pd.read_csv('park-movement-Sun_New.csv'))\n",
    "Sunday_II = Sunday_II.drop([\"Unnamed: 0\"], axis=1)\n",
    "Sunday_II[\"id\"] = Sunday_II[\"id\"].astype(str)\n",
    "Sunday_II[\"Facility_coordinates\"]= Sunday_II.apply(lambda row: (int(row.X),int(row.Y)), axis=1)\n",
    "Sunday_II[\"X\"] = Sunday_II[\"X\"].map(lambda x:int(x))\n",
    "Sunday_II[\"Y\"] = Sunday_II[\"Y\"].map(lambda x:int(x))"
   ]
  },
  {
   "cell_type": "code",
   "execution_count": null,
   "id": "6b1a56c0",
   "metadata": {},
   "outputs": [],
   "source": [
    "Sunday_II"
   ]
  },
  {
   "cell_type": "code",
   "execution_count": null,
   "id": "9b37dc0a",
   "metadata": {},
   "outputs": [],
   "source": [
    "Sunday_II.isna().sum()"
   ]
  },
  {
   "cell_type": "code",
   "execution_count": null,
   "id": "6dd08a3d",
   "metadata": {},
   "outputs": [],
   "source": [
    "Sunday_II.info()"
   ]
  },
  {
   "cell_type": "code",
   "execution_count": null,
   "id": "70b47286",
   "metadata": {
    "scrolled": true
   },
   "outputs": [],
   "source": [
    "px.density_heatmap(Sunday_II, x='X', y='Y')"
   ]
  },
  {
   "cell_type": "code",
   "execution_count": null,
   "id": "59e83298",
   "metadata": {},
   "outputs": [],
   "source": [
    "counts, bins = np.histogram(Sunday_II.Timestamp, bins=range(Sunday_II[\"Timestamp\"].min(), Sunday_II[\"Timestamp\"].max(), 60))\n",
    "bins = bins[1:]\n",
    "px.line(['timestamp', 'count'], x=bins, y=counts, labels={'x':'timestamp', 'y':'count'})"
   ]
  },
  {
   "cell_type": "code",
   "execution_count": null,
   "id": "988e767b",
   "metadata": {},
   "outputs": [],
   "source": []
  },
  {
   "cell_type": "markdown",
   "id": "6cce2b4d",
   "metadata": {},
   "source": [
    "### Criterion One：Relative time difference and relative distance (Euclidean distance)"
   ]
  },
  {
   "cell_type": "code",
   "execution_count": null,
   "id": "b8751eee",
   "metadata": {},
   "outputs": [],
   "source": [
    "Group = []\n",
    "# Families, relatives, couples, or any close small group\n",
    "Crowd = []\n",
    "# Groups of people who do not belong to each other in small groups, but have similar behavioral patterns\n",
    "Single = []\n",
    "# Tourists who do not belong to the above two groups\n",
    "\n",
    "for index, ID in enumerate(Sunday_II.id.unique()):\n",
    "    D = Sunday_II.loc[Sunday_II['id'] == ID] \n",
    "    Trajectory_I  = D[['id','Timestamp', 'type', \"Facility_coordinates\"]].sort_values(by=['Timestamp']).to_numpy() \n",
    "\n",
    "    Len1 = len(Trajectory_I)\n",
    "    \n",
    "    for index2, ID2 in enumerate(Sunday_II.id.unique()[index:]):\n",
    "        if index2 > 10: \n",
    "            break\n",
    "        if ID == ID2: \n",
    "            continue\n",
    "            \n",
    "        D2 = Sunday_II.loc[Sunday_II['id'] == ID2] \n",
    "        Trajectory_II = D2[['id','Timestamp', 'type', \"Facility_coordinates\"]].sort_values(by=['Timestamp']).to_numpy()\n",
    "        Len2 = len(Trajectory_II)\n",
    "        \n",
    "        \n",
    "        if Len1 == Len2:\n",
    "            track_1 =  pd.Series(list(Trajectory_I[:,3]))\n",
    "            track_2 =  pd.Series(list(Trajectory_II[:,3]))\n",
    "            distance = list( track_1.combine(track_2, (lambda x1, x2: 1 if np.linalg.norm(np.array(x1) - np.array(x2)) <= 2 else 0 )))\n",
    "            Ddiff = distance.count(1)/len(distance)            \n",
    "            \n",
    "            if Ddiff >= 0.7:\n",
    "        \n",
    "                Tdiff = np.median(np.abs(Trajectory_I[:,1]-Trajectory_II[:,1]))\n",
    "\n",
    "                if Tdiff <= 60:\n",
    "                    Group.append(ID)\n",
    "                    Group.append(ID2)\n",
    "                    \n",
    "                else:\n",
    "                    Crowd.append(ID)\n",
    "                    Crowd.append(ID2)\n",
    "\n",
    "                    \n",
    "        else:\n",
    "            track_1 =  pd.Series(list(Trajectory_I[:,3]))\n",
    "            track_2 =  pd.Series(list(Trajectory_II[:,3]))\n",
    "            distance = list( track_1.combine(track_2, (lambda x1, x2: 1 if np.linalg.norm(np.array(x1) - np.array(x2)) <= 2 else 0 )))\n",
    "            Ddiff = distance.count(1)/len(distance)\n",
    "        \n",
    "            if Ddiff >= 0.7:\n",
    "                Crowd.append(ID)\n",
    "                Crowd.append(ID2)\n",
    "\n",
    "            else:\n",
    "                Single.append(ID)\n",
    "                Single.append(ID2)\n"
   ]
  },
  {
   "cell_type": "code",
   "execution_count": null,
   "id": "e5a68e8c",
   "metadata": {},
   "outputs": [],
   "source": [
    "d1 = pd.read_csv('SundayGroupCount.csv')\n",
    "d2 = pd.read_csv('SundayCrowdCount.csv')\n",
    "d3 = pd.read_csv('SundaySingleCount.csv')\n",
    "\n",
    "Group = [  i.split(\".\", 1)[0] for i in d1.columns ]\n",
    "Crowd = [  i.split(\".\", 1)[0] for i in d2.columns ]\n",
    "Single = [  i.split(\".\", 1)[0] for i in d3.columns ]"
   ]
  },
  {
   "cell_type": "code",
   "execution_count": null,
   "id": "dd86b4ae",
   "metadata": {},
   "outputs": [],
   "source": [
    "Sunday_Group = list(set(Group))\n",
    "Sunday_Crowd = list(set(Crowd)-set(Group))\n",
    "Sunday_Single=  list(set(list(set(Single)-set(Group)))-set(Crowd)) "
   ]
  },
  {
   "cell_type": "code",
   "execution_count": null,
   "id": "6fb453bb",
   "metadata": {},
   "outputs": [],
   "source": [
    "len(Sunday_II.id.unique()),len(Sunday_Group), len(Sunday_Crowd), len(Sunday_Single)"
   ]
  },
  {
   "cell_type": "code",
   "execution_count": null,
   "id": "cd7abed1",
   "metadata": {},
   "outputs": [],
   "source": []
  },
  {
   "cell_type": "markdown",
   "id": "c4847341",
   "metadata": {},
   "source": [
    "### Criterion Two：Earliest arrival time grouping"
   ]
  },
  {
   "cell_type": "code",
   "execution_count": null,
   "id": "db116c6f",
   "metadata": {},
   "outputs": [],
   "source": [
    "TimePointMorning = time.mktime(time.strptime(\"2014-6-08 11:00:00\", \"%Y-%m-%d %H:%M:%S\"))\n",
    "TimePointAfterNoon = time.mktime(time.strptime(\"2014-6-08 16:00:00\", \"%Y-%m-%d %H:%M:%S\"))\n",
    "\n",
    "ArrivalTime = Sunday_II.copy().drop_duplicates(subset='id')\n",
    "ArrivalTime[\"ArrivalTime\"] = ArrivalTime[\"Timestamp\"].map(lambda x: 1 if x- TimePointMorning >= 0 and x - TimePointAfterNoon <= 0 else ( 2 if x - TimePointAfterNoon >= 0 else 0 ) )\n",
    "Early = list(ArrivalTime[ArrivalTime[\"ArrivalTime\"]==0].id.unique())\n",
    "Early = [  i.split(\".\", 1)[0] for i in Early ]\n",
    "\n",
    "Noon =  list(ArrivalTime[ArrivalTime[\"ArrivalTime\"]==1].id.unique())\n",
    "Noon = [  i.split(\".\", 1)[0] for i in Noon ]\n",
    "\n",
    "Late = list(ArrivalTime[ArrivalTime[\"ArrivalTime\"]==2].id.unique())\n",
    "Late = [  i.split(\".\", 1)[0] for i in Late ]\n",
    "\n",
    "len(Sunday_II.id.unique()), len(Early), len(Noon), len(Late)"
   ]
  },
  {
   "cell_type": "code",
   "execution_count": null,
   "id": "3f66bb63",
   "metadata": {},
   "outputs": [],
   "source": []
  },
  {
   "cell_type": "markdown",
   "id": "8fc4a40f",
   "metadata": {},
   "source": [
    "### Criterion Three：duration stay time"
   ]
  },
  {
   "cell_type": "code",
   "execution_count": null,
   "id": "a2b402de",
   "metadata": {},
   "outputs": [],
   "source": [
    "m = np.mean(Sunday_II[\"visit_duration\"].unique())\n",
    "print(m)"
   ]
  },
  {
   "cell_type": "code",
   "execution_count": null,
   "id": "516d39e4",
   "metadata": {},
   "outputs": [],
   "source": [
    "Sunday_IITime = Sunday_II.copy().drop_duplicates(subset='id')\n",
    "HighDuration = list(Sunday_IITime[Sunday_IITime[\"visit_duration\"] >= m ].id)\n",
    "HighDuration = [  i.split(\".\", 1)[0] for i in HighDuration ]\n",
    "\n",
    "LowDuration = list(Sunday_IITime[Sunday_IITime[\"visit_duration\"] < m ].id)\n",
    "LowDuration = [  i.split(\".\", 1)[0] for i in LowDuration ]\n",
    "\n",
    "len(Sunday_II.id.unique()), len(HighDuration), len(LowDuration)"
   ]
  },
  {
   "cell_type": "code",
   "execution_count": null,
   "id": "44c05d69",
   "metadata": {},
   "outputs": [],
   "source": [
    "Sunday_II['id'] = Sunday_II['id'].map(lambda x:x[:-2])"
   ]
  },
  {
   "cell_type": "markdown",
   "id": "56f41b9d",
   "metadata": {},
   "source": [
    "#### Group 1"
   ]
  },
  {
   "cell_type": "code",
   "execution_count": null,
   "id": "2e1822e8",
   "metadata": {},
   "outputs": [],
   "source": [
    "G1 = list(set(Sunday_Group)&set(Early)&set( HighDuration))\n",
    "G1P = Sunday_II.loc[Sunday_II['id'].isin(G1)]\n",
    "len(G1)"
   ]
  },
  {
   "cell_type": "code",
   "execution_count": null,
   "id": "1e167e4c",
   "metadata": {},
   "outputs": [],
   "source": [
    "px.density_heatmap(G1P, x='X', y='Y')"
   ]
  },
  {
   "cell_type": "code",
   "execution_count": null,
   "id": "d77298ce",
   "metadata": {},
   "outputs": [],
   "source": [
    "counts, bins = np.histogram(G1P.Timestamp, bins=range(G1P[\"Timestamp\"].min(), G1P[\"Timestamp\"].max(), 60))\n",
    "bins = bins[1:]\n",
    "px.line(['timestamp', 'count'], x=bins, y=counts, labels={'x':'timestamp', 'y':'count'})"
   ]
  },
  {
   "cell_type": "code",
   "execution_count": null,
   "id": "156bd71a",
   "metadata": {},
   "outputs": [],
   "source": []
  },
  {
   "cell_type": "markdown",
   "id": "2f869392",
   "metadata": {},
   "source": [
    "#### Group 2"
   ]
  },
  {
   "cell_type": "code",
   "execution_count": null,
   "id": "27ec7f46",
   "metadata": {},
   "outputs": [],
   "source": [
    "G2 = list(set(Sunday_Crowd)&set(Early)&set( HighDuration))\n",
    "G2P = Sunday_II.loc[Sunday_II['id'].isin(G2)]\n",
    "len(G2)"
   ]
  },
  {
   "cell_type": "code",
   "execution_count": null,
   "id": "6b59bfbd",
   "metadata": {},
   "outputs": [],
   "source": [
    "px.density_heatmap(G2P, x='X', y='Y')"
   ]
  },
  {
   "cell_type": "code",
   "execution_count": null,
   "id": "8ba54de7",
   "metadata": {},
   "outputs": [],
   "source": [
    "counts, bins = np.histogram(G2P.Timestamp, bins=range(G2P[\"Timestamp\"].min(), G2P[\"Timestamp\"].max(), 60))\n",
    "bins = bins[1:]\n",
    "px.line(['timestamp', 'count'], x=bins, y=counts, labels={'x':'timestamp', 'y':'count'})"
   ]
  },
  {
   "cell_type": "code",
   "execution_count": null,
   "id": "2a143bac",
   "metadata": {},
   "outputs": [],
   "source": []
  },
  {
   "cell_type": "markdown",
   "id": "e4f1aea3",
   "metadata": {},
   "source": [
    "#### Group 3"
   ]
  },
  {
   "cell_type": "code",
   "execution_count": null,
   "id": "b62d68b4",
   "metadata": {},
   "outputs": [],
   "source": [
    "G3 = list(set(Sunday_Single)&set(Early)&set(HighDuration))\n",
    "G3P = Sunday_II.loc[Sunday_II['id'].isin(G3)]\n",
    "len(G3)"
   ]
  },
  {
   "cell_type": "code",
   "execution_count": null,
   "id": "b0c9b0c9",
   "metadata": {},
   "outputs": [],
   "source": [
    "px.density_heatmap(G3P, x='X', y='Y')"
   ]
  },
  {
   "cell_type": "code",
   "execution_count": null,
   "id": "b3d9f5f2",
   "metadata": {},
   "outputs": [],
   "source": [
    "counts, bins = np.histogram(G3P.Timestamp, bins=range(G3P[\"Timestamp\"].min(), G3P[\"Timestamp\"].max(), 60))\n",
    "bins = bins[1:]\n",
    "px.line(['timestamp', 'count'], x=bins, y=counts, labels={'x':'timestamp', 'y':'count'})"
   ]
  },
  {
   "cell_type": "code",
   "execution_count": null,
   "id": "9383e280",
   "metadata": {},
   "outputs": [],
   "source": []
  },
  {
   "cell_type": "markdown",
   "id": "21bcc2d2",
   "metadata": {},
   "source": [
    "#### Group 4"
   ]
  },
  {
   "cell_type": "code",
   "execution_count": null,
   "id": "86d9ce0c",
   "metadata": {},
   "outputs": [],
   "source": [
    "G4 = list(set(Sunday_Group)&set(Noon))\n",
    "G4P = Sunday_II.loc[Sunday_II['id'].isin(G4)]\n",
    "len(G4) "
   ]
  },
  {
   "cell_type": "code",
   "execution_count": null,
   "id": "bd82a956",
   "metadata": {},
   "outputs": [],
   "source": [
    "px.density_heatmap(G4P, x='X', y='Y')"
   ]
  },
  {
   "cell_type": "code",
   "execution_count": null,
   "id": "898de3c8",
   "metadata": {},
   "outputs": [],
   "source": [
    "counts, bins = np.histogram(G4P.Timestamp, bins=range(G4P[\"Timestamp\"].min(), G4P[\"Timestamp\"].max(), 60))\n",
    "bins = bins[1:]\n",
    "px.line(['timestamp', 'count'], x=bins, y=counts, labels={'x':'timestamp', 'y':'count'})"
   ]
  },
  {
   "cell_type": "code",
   "execution_count": null,
   "id": "ead0b7cd",
   "metadata": {},
   "outputs": [],
   "source": []
  },
  {
   "cell_type": "markdown",
   "id": "ecf567ca",
   "metadata": {},
   "source": [
    "#### Group 5"
   ]
  },
  {
   "cell_type": "code",
   "execution_count": null,
   "id": "61e5e9cb",
   "metadata": {},
   "outputs": [],
   "source": [
    "G5 = list(set(Sunday_Crowd)&set(Noon))\n",
    "G5P = Sunday_II.loc[Sunday_II['id'].isin(G5)]\n",
    "len(G5) "
   ]
  },
  {
   "cell_type": "code",
   "execution_count": null,
   "id": "be16d023",
   "metadata": {},
   "outputs": [],
   "source": [
    "px.density_heatmap(G5P, x='X', y='Y')"
   ]
  },
  {
   "cell_type": "code",
   "execution_count": null,
   "id": "0b6e555e",
   "metadata": {},
   "outputs": [],
   "source": [
    "counts, bins = np.histogram(G5P.Timestamp, bins=range(G5P[\"Timestamp\"].min(), G5P[\"Timestamp\"].max(), 60))\n",
    "bins = bins[1:]\n",
    "px.line(['timestamp', 'count'], x=bins, y=counts, labels={'x':'timestamp', 'y':'count'})"
   ]
  },
  {
   "cell_type": "code",
   "execution_count": null,
   "id": "5bbb45d8",
   "metadata": {},
   "outputs": [],
   "source": []
  },
  {
   "cell_type": "markdown",
   "id": "da20d78a",
   "metadata": {},
   "source": [
    "#### Group 6 "
   ]
  },
  {
   "cell_type": "code",
   "execution_count": null,
   "id": "990c79e8",
   "metadata": {},
   "outputs": [],
   "source": [
    "G6 = list(set(Sunday_Single)&set(LowDuration))\n",
    "G6P = Sunday_II.loc[Sunday_II['id'].isin(G6)]\n",
    "len(G6) "
   ]
  },
  {
   "cell_type": "code",
   "execution_count": null,
   "id": "c2527d49",
   "metadata": {},
   "outputs": [],
   "source": [
    "px.density_heatmap(G6P, x='X', y='Y')"
   ]
  },
  {
   "cell_type": "code",
   "execution_count": null,
   "id": "10f9f4ca",
   "metadata": {},
   "outputs": [],
   "source": [
    "counts, bins = np.histogram(G6P.Timestamp, bins=range(G6P[\"Timestamp\"].min(), G6P[\"Timestamp\"].max(), 60))\n",
    "bins = bins[1:]\n",
    "px.line(['timestamp', 'count'], x=bins, y=counts, labels={'x':'timestamp', 'y':'count'})"
   ]
  },
  {
   "cell_type": "code",
   "execution_count": null,
   "id": "f07d492e",
   "metadata": {},
   "outputs": [],
   "source": []
  },
  {
   "cell_type": "markdown",
   "id": "c74cba4e",
   "metadata": {},
   "source": [
    "#### Group 7 "
   ]
  },
  {
   "cell_type": "code",
   "execution_count": null,
   "id": "69ccbc86",
   "metadata": {},
   "outputs": [],
   "source": [
    "G7 = list(set(Sunday_Group)&set(LowDuration)&set(Early))\n",
    "G7P = Sunday_II.loc[Sunday_II['id'].isin(G7)]\n",
    "len(G7)"
   ]
  },
  {
   "cell_type": "code",
   "execution_count": null,
   "id": "79f93ec7",
   "metadata": {},
   "outputs": [],
   "source": [
    "px.density_heatmap(G7P, x='X', y='Y')"
   ]
  },
  {
   "cell_type": "code",
   "execution_count": null,
   "id": "00e65a61",
   "metadata": {},
   "outputs": [],
   "source": [
    "counts, bins = np.histogram(G7P.Timestamp, bins=range(G7P[\"Timestamp\"].min(), G7P[\"Timestamp\"].max(), 60))\n",
    "bins = bins[1:]\n",
    "px.line(['timestamp', 'count'], x=bins, y=counts, labels={'x':'timestamp', 'y':'count'})"
   ]
  },
  {
   "cell_type": "code",
   "execution_count": null,
   "id": "761f3d8b",
   "metadata": {},
   "outputs": [],
   "source": []
  },
  {
   "cell_type": "markdown",
   "id": "c1b1defd",
   "metadata": {},
   "source": [
    "#### Group 8"
   ]
  },
  {
   "cell_type": "code",
   "execution_count": null,
   "id": "81fdbb67",
   "metadata": {},
   "outputs": [],
   "source": [
    "G8 = list(set(Sunday_Group)&set(Late))\n",
    "G8P = Sunday_II.loc[Sunday_II['id'].isin(G8)]\n",
    "len(G8)"
   ]
  },
  {
   "cell_type": "code",
   "execution_count": null,
   "id": "64eef44f",
   "metadata": {},
   "outputs": [],
   "source": [
    "px.density_heatmap(G8P, x='X', y='Y')"
   ]
  },
  {
   "cell_type": "code",
   "execution_count": null,
   "id": "8a6d246a",
   "metadata": {},
   "outputs": [],
   "source": [
    "counts, bins = np.histogram(G8P.Timestamp, bins=range(G8P[\"Timestamp\"].min(), G8P[\"Timestamp\"].max(), 60))\n",
    "bins = bins[1:]\n",
    "px.line(['timestamp', 'count'], x=bins, y=counts, labels={'x':'timestamp', 'y':'count'})"
   ]
  },
  {
   "cell_type": "code",
   "execution_count": null,
   "id": "34432d45",
   "metadata": {},
   "outputs": [],
   "source": []
  },
  {
   "cell_type": "markdown",
   "id": "43c67780",
   "metadata": {},
   "source": [
    "### Criterion Four, the time interval between the activities of each visitor"
   ]
  },
  {
   "cell_type": "code",
   "execution_count": null,
   "id": "2990b077",
   "metadata": {},
   "outputs": [],
   "source": [
    "visitors_td = []\n",
    "max_td = []\n",
    "med_td = []\n",
    "for index, ID in enumerate(Sunday_II.id.unique()):\n",
    "    visitors = Sunday_II.loc[Sunday_II['id'] == ID] \n",
    "    l = len(visitors['Timestamp'].values)\n",
    "    diff  = abs(visitors['Timestamp'].values[1:] - Sunday_II['Timestamp'].values[0:l-1])\n",
    "    # Calculate the time difference between the tourist's first action and the next second action\n",
    "    dmax = max(diff)\n",
    "    dmed = np.median(diff)\n",
    "    visitors_td.append(ID)\n",
    "    max_td.append(dmax)\n",
    "    med_td.append(dmed)"
   ]
  },
  {
   "cell_type": "code",
   "execution_count": null,
   "id": "36d31271",
   "metadata": {},
   "outputs": [],
   "source": []
  },
  {
   "cell_type": "markdown",
   "id": "58b6f744",
   "metadata": {},
   "source": [
    "###  Visitors with huge gaps between actions (top 150), sorted from largest to smallest"
   ]
  },
  {
   "cell_type": "code",
   "execution_count": null,
   "id": "129708c7",
   "metadata": {},
   "outputs": [],
   "source": [
    "inds1 =  np.argsort(max_td)\n",
    "GapH = np.array(visitors_td)[inds1[-150:]]\n",
    "GapHV = Sunday_II.loc[Sunday_II['id'].isin(GapH)]\n",
    "px.density_heatmap(GapHV, x=GapHV['X'], y=GapHV['Y'])"
   ]
  },
  {
   "cell_type": "code",
   "execution_count": null,
   "id": "112036e5",
   "metadata": {},
   "outputs": [],
   "source": [
    "counts, bins = np.histogram(GapHV.Timestamp, bins=range(GapHV[\"Timestamp\"].min(), GapHV[\"Timestamp\"].max(), 60))\n",
    "bins = bins[1:]\n",
    "px.line(['timestamp', 'count'], x=bins, y=counts, labels={'x':'timestamp', 'y':'count'})"
   ]
  },
  {
   "cell_type": "code",
   "execution_count": null,
   "id": "dd3c747c",
   "metadata": {},
   "outputs": [],
   "source": []
  },
  {
   "cell_type": "markdown",
   "id": "e97a20c9",
   "metadata": {},
   "source": [
    "### Fast-moving tourists (low gap between actions)"
   ]
  },
  {
   "cell_type": "code",
   "execution_count": null,
   "id": "478e27df",
   "metadata": {},
   "outputs": [],
   "source": [
    "inds2 =  np.argsort(med_td) \n",
    "Faster = np.array(visitors_td)[inds2[0:150]]\n",
    "FasterV = Sunday_II.loc[Sunday_II['id'].isin(Faster)]\n",
    "px.density_heatmap(FasterV, x=FasterV['X'], y=FasterV['Y'])"
   ]
  },
  {
   "cell_type": "code",
   "execution_count": null,
   "id": "cc08f40e",
   "metadata": {},
   "outputs": [],
   "source": [
    "counts, bins = np.histogram(FasterV.Timestamp, bins=range(FasterV[\"Timestamp\"].min(), FasterV[\"Timestamp\"].max(), 60))\n",
    "bins = bins[1:]\n",
    "px.line(['timestamp', 'count'], x=bins, y=counts, labels={'x':'timestamp', 'y':'count'})"
   ]
  },
  {
   "cell_type": "code",
   "execution_count": null,
   "id": "2848022a",
   "metadata": {},
   "outputs": [],
   "source": []
  },
  {
   "cell_type": "markdown",
   "id": "e789e670",
   "metadata": {},
   "source": [
    "### Slow-moving tourists (high gap between actions)"
   ]
  },
  {
   "cell_type": "code",
   "execution_count": null,
   "id": "cdb5dbe7",
   "metadata": {},
   "outputs": [],
   "source": [
    "inds3 =  np.argsort(med_td)\n",
    "Slower = np.array(visitors_td)[inds3[-150:]]\n",
    "SlowerV = Sunday_II.loc[Sunday_II['id'].isin(Slower)]\n",
    "px.density_heatmap(SlowerV, x=SlowerV['X'], y=SlowerV['Y'])"
   ]
  },
  {
   "cell_type": "code",
   "execution_count": null,
   "id": "67fb66ba",
   "metadata": {},
   "outputs": [],
   "source": [
    "counts, bins = np.histogram(SlowerV.Timestamp, bins=range(SlowerV[\"Timestamp\"].min(), SlowerV[\"Timestamp\"].max(), 60))\n",
    "bins = bins[1:]\n",
    "px.line(['timestamp', 'count'], x=bins, y=counts, labels={'x':'timestamp', 'y':'count'})"
   ]
  },
  {
   "cell_type": "code",
   "execution_count": null,
   "id": "17b3a402",
   "metadata": {},
   "outputs": [],
   "source": []
  },
  {
   "cell_type": "code",
   "execution_count": null,
   "id": "a072a0d8",
   "metadata": {},
   "outputs": [],
   "source": [
    "ShowTimeS = time.mktime(time.strptime(\"2014-6-08 09:00:00\", \"%Y-%m-%d %H:%M:%S\"))\n",
    "ShowTimeE = time.mktime(time.strptime(\"2014-6-08 12:00:00\", \"%Y-%m-%d %H:%M:%S\"))\n",
    "\n",
    "CheckPointM = Sunday_II.copy()\n",
    "SuspiciousIN = CheckPointM[   (CheckPointM[\"Timestamp\"]>=ShowTimeS) & (CheckPointM[\"Timestamp\"]<=ShowTimeE)                                                       ]\n",
    "SuspiciousIN = SuspiciousIN[  (SuspiciousIN[\"X\"]>=20) &  (SuspiciousIN[\"Y\"]>=30) ]\n",
    "SuspiciousIN = SuspiciousIN[  (SuspiciousIN[\"X\"]<=40) &  (SuspiciousIN[\"Y\"]<=40) ]\n",
    "len(SuspiciousIN.id.unique())"
   ]
  },
  {
   "cell_type": "code",
   "execution_count": null,
   "id": "f78e2a9f",
   "metadata": {},
   "outputs": [],
   "source": [
    "ShowTimeS2 = time.mktime(time.strptime(\"2014-6-08 14:00:00\", \"%Y-%m-%d %H:%M:%S\"))\n",
    "ShowTimeE2 = time.mktime(time.strptime(\"2014-6-08 17:00:00\", \"%Y-%m-%d %H:%M:%S\"))\n",
    "\n",
    "CheckPointA = Sunday_II.copy()\n",
    "SuspiciousIN2 = CheckPointA[   (CheckPointA[\"Timestamp\"]>=ShowTimeS2) & (CheckPointA[\"Timestamp\"]<=ShowTimeE2)                                                       ]\n",
    "SuspiciousIN2 = SuspiciousIN2[  (SuspiciousIN2[\"X\"]>=20) &  (SuspiciousIN2[\"Y\"]>=30) ]\n",
    "SuspiciousIN2 = SuspiciousIN2[  (SuspiciousIN2[\"X\"]<=40) &  (SuspiciousIN2[\"Y\"]<=40) ]\n",
    "len(SuspiciousIN2.id.unique())"
   ]
  },
  {
   "cell_type": "code",
   "execution_count": null,
   "id": "513ed04e",
   "metadata": {},
   "outputs": [],
   "source": [
    "SuspiciousGroup =  list(set( list(SuspiciousIN.id.unique()) ) & set(list(SuspiciousIN2.id.unique()))) \n",
    "GSP = Sunday_II.loc[Sunday_II['id'].isin(SuspiciousGroup)]\n",
    "len(SuspiciousGroup)"
   ]
  },
  {
   "cell_type": "code",
   "execution_count": null,
   "id": "ed38b1a3",
   "metadata": {},
   "outputs": [],
   "source": [
    "import csv\n",
    "with open(\"SundayAreaCheck\",\"w\") as f:\n",
    "    write = csv.writer(f)\n",
    "    write.writerow(SuspiciousGroup)"
   ]
  },
  {
   "cell_type": "code",
   "execution_count": null,
   "id": "a6a9a887",
   "metadata": {},
   "outputs": [],
   "source": [
    "px.density_heatmap(GSP, x='X', y='Y')"
   ]
  },
  {
   "cell_type": "code",
   "execution_count": null,
   "id": "7d65a275",
   "metadata": {},
   "outputs": [],
   "source": [
    "counts, bins = np.histogram(GSP.Timestamp, bins=range(GSP[\"Timestamp\"].min(), GSP[\"Timestamp\"].max(), 60))\n",
    "bins = bins[1:]\n",
    "px.line(['timestamp', 'count'], x=bins, y=counts, labels={'x':'timestamp', 'y':'count'})"
   ]
  },
  {
   "cell_type": "code",
   "execution_count": null,
   "id": "990b7c95",
   "metadata": {},
   "outputs": [],
   "source": []
  },
  {
   "cell_type": "code",
   "execution_count": null,
   "id": "d4644a3b",
   "metadata": {},
   "outputs": [],
   "source": []
  },
  {
   "cell_type": "code",
   "execution_count": null,
   "id": "0207df3f",
   "metadata": {},
   "outputs": [],
   "source": []
  },
  {
   "cell_type": "code",
   "execution_count": null,
   "id": "8f8385a0",
   "metadata": {},
   "outputs": [],
   "source": []
  },
  {
   "cell_type": "code",
   "execution_count": null,
   "id": "5619875d",
   "metadata": {},
   "outputs": [],
   "source": []
  },
  {
   "cell_type": "code",
   "execution_count": null,
   "id": "8e778c3e",
   "metadata": {},
   "outputs": [],
   "source": []
  },
  {
   "cell_type": "code",
   "execution_count": null,
   "id": "02bb3705",
   "metadata": {},
   "outputs": [],
   "source": []
  },
  {
   "cell_type": "code",
   "execution_count": null,
   "id": "02747585",
   "metadata": {},
   "outputs": [],
   "source": []
  }
 ],
 "metadata": {
  "kernelspec": {
   "display_name": "Python 3",
   "language": "python",
   "name": "python3"
  },
  "language_info": {
   "codemirror_mode": {
    "name": "ipython",
    "version": 3
   },
   "file_extension": ".py",
   "mimetype": "text/x-python",
   "name": "python",
   "nbconvert_exporter": "python",
   "pygments_lexer": "ipython3",
   "version": "3.8.8"
  }
 },
 "nbformat": 4,
 "nbformat_minor": 5
}
