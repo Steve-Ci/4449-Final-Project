{
 "cells": [
  {
   "cell_type": "code",
   "execution_count": null,
   "id": "0b695501",
   "metadata": {},
   "outputs": [],
   "source": [
    "import pandas as pd\n",
    "import numpy as np\n",
    "import matplotlib.pyplot as plt\n",
    "import seaborn as sns\n",
    "import warnings\n",
    "warnings.simplefilter(\"ignore\")\n",
    "from datetime import datetime\n",
    "import plotly.graph_objects as go\n",
    "from skimage import io\n",
    "import plotly.express as px\n",
    "import time"
   ]
  },
  {
   "cell_type": "code",
   "execution_count": null,
   "id": "2e15a981",
   "metadata": {},
   "outputs": [],
   "source": [
    "Firday = pd.DataFrame(pd.read_csv('park-movement-Fri_New.csv'))\n",
    "Firday = Firday.drop([\"Unnamed: 0\"], axis=1)\n",
    "Firday[\"id\"] = Firday[\"id\"].astype(str)"
   ]
  },
  {
   "cell_type": "code",
   "execution_count": null,
   "id": "638c4786",
   "metadata": {},
   "outputs": [],
   "source": [
    "Saturday = pd.DataFrame(pd.read_csv('park-movement-Sat_NewII.csv'))\n",
    "Saturday = Saturday.drop([\"Unnamed: 0\"], axis=1)\n",
    "Saturday[\"id\"] = Saturday[\"id\"].astype(str)"
   ]
  },
  {
   "cell_type": "code",
   "execution_count": null,
   "id": "64eff462",
   "metadata": {},
   "outputs": [],
   "source": [
    "Sunday = pd.DataFrame(pd.read_csv('park-movement-Sun_New.csv'))\n",
    "Sunday = Sunday.drop([\"Unnamed: 0\"], axis=1)\n",
    "Sunday[\"id\"] = Sunday[\"id\"].astype(str)\n",
    "Sunday[\"Facility_coordinates\"]= Sunday.apply(lambda row: (int(row.X),int(row.Y)), axis=1)\n",
    "Sunday[\"X\"] = Sunday[\"X\"].map(lambda x:int(x))\n",
    "Sunday[\"Y\"] = Sunday[\"Y\"].map(lambda x:int(x))"
   ]
  },
  {
   "cell_type": "code",
   "execution_count": null,
   "id": "e65b7da8",
   "metadata": {},
   "outputs": [],
   "source": []
  },
  {
   "cell_type": "code",
   "execution_count": null,
   "id": "8506acf1",
   "metadata": {},
   "outputs": [],
   "source": [
    "FLC = pd.DataFrame(Firday[Firday.type == 1].groupby([\"X\",\"Y\"])[\"id\"].count())\n",
    "FLC = FLC.reset_index()\n",
    "FLC.columns = [\"X\",\"Y\",\"count\"]\n",
    "\n",
    "STLC = pd.DataFrame(Saturday[Saturday.type == 1].groupby([\"X\",\"Y\"])[\"id\"].count())\n",
    "STLC = STLC.reset_index()\n",
    "STLC.columns = [\"X\",\"Y\",\"count\"]\n",
    "\n",
    "SULC = pd.DataFrame(Sunday[Sunday.type == 1].groupby([\"X\",\"Y\"])[\"id\"].count())\n",
    "SULC = SULC.reset_index()\n",
    "SULC.columns = [\"X\",\"Y\",\"count\"]"
   ]
  },
  {
   "cell_type": "code",
   "execution_count": null,
   "id": "bd2dab0f",
   "metadata": {},
   "outputs": [],
   "source": []
  },
  {
   "cell_type": "code",
   "execution_count": null,
   "id": "a2fc0e75",
   "metadata": {
    "scrolled": false
   },
   "outputs": [],
   "source": [
    "plt.figure(figsize = (10,10))\n",
    "Facility = FLC[[\"X\",'Y']]\n",
    "Facility = Facility.to_numpy()\n",
    "x, y = Facility.T\n",
    "parkmap = plt.imread(\"ParkMap.jpg\")\n",
    "plt.imshow(parkmap,extent=[0,100,0,100],zorder=1)\n",
    "plt.scatter(x, y, zorder=2, c=\"black\", marker= \"^\", edgecolor =\"yellow\",linewidths = 1,  s = 100)\n",
    "plt.show()"
   ]
  },
  {
   "cell_type": "markdown",
   "id": "6e6d7935",
   "metadata": {},
   "source": [
    "#### The markers on this map are all the locations that were recorded as check-ins."
   ]
  },
  {
   "cell_type": "code",
   "execution_count": null,
   "id": "9fe2d0a0",
   "metadata": {
    "scrolled": false
   },
   "outputs": [],
   "source": [
    "FLC[\"X\"], FLC[\"Y\"] =  FLC[\"X\"]*40, FLC[\"Y\"]*40\n",
    "parkmap = io.imread(\"ParkMap2.jpg\")\n",
    "fig = px.imshow(parkmap, origin= 'lower')\n",
    "Fig = fig.add_trace(go.Scatter(x=FLC.X,y=FLC.Y, mode='markers', marker=dict(color=['blue'],size=FLC[\"count\"]/200)))\n",
    "Fig"
   ]
  },
  {
   "cell_type": "code",
   "execution_count": null,
   "id": "7c293f31",
   "metadata": {
    "scrolled": false
   },
   "outputs": [],
   "source": [
    "STLC[\"X\"], STLC[\"Y\"] =  STLC[\"X\"]*40, STLC[\"Y\"]*40\n",
    "parkmap = io.imread(\"ParkMap2.jpg\")\n",
    "fig = px.imshow(parkmap, origin= 'lower')\n",
    "Fig = fig.add_trace(go.Scatter(x=STLC.X,y=STLC.Y, mode='markers', marker=dict(color=['blue'],size=STLC[\"count\"]/200)))\n",
    "Fig"
   ]
  },
  {
   "cell_type": "code",
   "execution_count": null,
   "id": "f4b6e6b1",
   "metadata": {},
   "outputs": [],
   "source": [
    "SULC[\"X\"], SULC[\"Y\"] =  SULC[\"X\"]*40, SULC[\"Y\"]*40\n",
    "parkmap = io.imread(\"ParkMap2.jpg\")\n",
    "fig = px.imshow(parkmap, origin= 'lower')\n",
    "Fig = fig.add_trace(go.Scatter(x=SULC.X,y=SULC.Y, mode='markers', marker=dict(color=['blue'],size=SULC[\"count\"]/200)))\n",
    "Fig"
   ]
  },
  {
   "cell_type": "code",
   "execution_count": null,
   "id": "d94cdca8",
   "metadata": {},
   "outputs": [],
   "source": []
  },
  {
   "cell_type": "code",
   "execution_count": null,
   "id": "bc6e155a",
   "metadata": {},
   "outputs": [],
   "source": [
    "FirdayTimeTrend = Firday.copy()\n",
    "FirdayTimeTrend = FirdayTimeTrend[FirdayTimeTrend.type == 1]\n",
    "FirdayTimeTrend[\"Timestamp\"] = FirdayTimeTrend[\"Timestamp\"].map(lambda x: time.strftime(\"%Y-%m-%d %H:%M:%S\", time.localtime(x)) ) \n",
    "FirdayTimeTrend[\"Timestamp\"] = FirdayTimeTrend[\"Timestamp\"].map(lambda x:x[11:13])\n",
    "FirdayTimeTrend[\"Timestamp\"] = FirdayTimeTrend[\"Timestamp\"].map(lambda x:int(x))\n",
    "FirdayTimeTrend = FirdayTimeTrend.sort_values(by=['Timestamp'])"
   ]
  },
  {
   "cell_type": "code",
   "execution_count": null,
   "id": "e8f7e92c",
   "metadata": {},
   "outputs": [],
   "source": [
    "SaturdayTimeTrend = Saturday.copy()\n",
    "SaturdayTimeTrend = SaturdayTimeTrend[SaturdayTimeTrend.type == 1]\n",
    "SaturdayTimeTrend[\"Timestamp\"] = SaturdayTimeTrend[\"Timestamp\"].map(lambda x: time.strftime(\"%Y-%m-%d %H:%M:%S\", time.localtime(x)) ) \n",
    "SaturdayTimeTrend[\"Timestamp\"] = SaturdayTimeTrend[\"Timestamp\"].map(lambda x:x[11:13])\n",
    "SaturdayTimeTrend[\"Timestamp\"] = SaturdayTimeTrend[\"Timestamp\"].map(lambda x:int(x))\n",
    "SaturdayTimeTrend = SaturdayTimeTrend.sort_values(by=['Timestamp'])"
   ]
  },
  {
   "cell_type": "code",
   "execution_count": null,
   "id": "3f45d2d8",
   "metadata": {},
   "outputs": [],
   "source": [
    "SundayTimeTrend = Sunday.copy()\n",
    "SundayTimeTrend = SundayTimeTrend[SundayTimeTrend.type == 1]\n",
    "SundayTimeTrend[\"Timestamp\"] = SundayTimeTrend[\"Timestamp\"].map(lambda x: time.strftime(\"%Y-%m-%d %H:%M:%S\", time.localtime(x)) ) \n",
    "SundayTimeTrend[\"Timestamp\"] = SundayTimeTrend[\"Timestamp\"].map(lambda x:x[11:13])\n",
    "SundayTimeTrend[\"Timestamp\"] = SundayTimeTrend[\"Timestamp\"].map(lambda x:int(x))\n",
    "SundayTimeTrend = SundayTimeTrend.sort_values(by=['Timestamp'])"
   ]
  },
  {
   "cell_type": "code",
   "execution_count": null,
   "id": "22b57be9",
   "metadata": {},
   "outputs": [],
   "source": []
  },
  {
   "cell_type": "code",
   "execution_count": null,
   "id": "917fabc6",
   "metadata": {},
   "outputs": [],
   "source": [
    "FTT = pd.DataFrame()\n",
    "for i in list(FirdayTimeTrend[\"Timestamp\"].unique()):\n",
    "    T = FirdayTimeTrend[ FirdayTimeTrend.Timestamp == i]\n",
    "    d = pd.DataFrame(T.groupby([\"X\",\"Y\"])[\"id\"].count())\n",
    "    d = d.reset_index()\n",
    "    d[\"time\"] = i\n",
    "    FTT = pd.concat([FTT, d])\n",
    "FTT.columns = [\"X\",\"Y\",\"count\",\"time\"]"
   ]
  },
  {
   "cell_type": "code",
   "execution_count": null,
   "id": "1b6f7f17",
   "metadata": {
    "scrolled": false
   },
   "outputs": [],
   "source": [
    "px.scatter(FTT, x=\"X\", y=\"Y\", animation_frame=\"time\",\n",
    "           size=\"count\", size_max=40, range_x=[0,100], range_y=[0,100])"
   ]
  },
  {
   "cell_type": "code",
   "execution_count": null,
   "id": "1060de51",
   "metadata": {},
   "outputs": [],
   "source": [
    "SATT = pd.DataFrame()\n",
    "for i in list(SaturdayTimeTrend[\"Timestamp\"].unique()):\n",
    "    T = SaturdayTimeTrend[ SaturdayTimeTrend.Timestamp == i]\n",
    "    d = pd.DataFrame(T.groupby([\"X\",\"Y\"])[\"id\"].count())\n",
    "    d = d.reset_index()\n",
    "    d[\"time\"] = i\n",
    "    SATT = pd.concat([SATT, d])\n",
    "SATT.columns = [\"X\",\"Y\",\"count\",\"time\"]"
   ]
  },
  {
   "cell_type": "code",
   "execution_count": null,
   "id": "91d3b249",
   "metadata": {},
   "outputs": [],
   "source": [
    "px.scatter(SATT, x=\"X\", y=\"Y\", animation_frame=\"time\",\n",
    "           size=\"count\", size_max=40,  range_x=[0,100], range_y=[0,100])"
   ]
  },
  {
   "cell_type": "code",
   "execution_count": null,
   "id": "140d7372",
   "metadata": {},
   "outputs": [],
   "source": [
    "SUTT = pd.DataFrame()\n",
    "for i in list(SundayTimeTrend[\"Timestamp\"].unique()):\n",
    "    T = SundayTimeTrend[ SundayTimeTrend.Timestamp == i]\n",
    "    d = pd.DataFrame(T.groupby([\"X\",\"Y\"])[\"id\"].count())\n",
    "    d = d.reset_index()\n",
    "    d[\"time\"] = i\n",
    "    SUTT = pd.concat([SUTT, d])\n",
    "SUTT.columns = [\"X\",\"Y\",\"count\",\"time\"]"
   ]
  },
  {
   "cell_type": "code",
   "execution_count": null,
   "id": "5a7506ae",
   "metadata": {},
   "outputs": [],
   "source": [
    "px.scatter(SUTT, x=\"X\", y=\"Y\", animation_frame=\"time\",\n",
    "           size=\"count\", size_max=40,  range_x=[0,100], range_y=[0,100])"
   ]
  },
  {
   "cell_type": "markdown",
   "id": "59e67279",
   "metadata": {},
   "source": [
    "## The following are the opening and closing times of Creighton Pavilion for three days."
   ]
  },
  {
   "cell_type": "code",
   "execution_count": null,
   "id": "23c2c616",
   "metadata": {},
   "outputs": [],
   "source": [
    "CPF = Firday[(Firday[\"X\"]==32) &  (Firday[\"Y\"]==33) & (Firday[\"type\"]==1)]\n",
    "counts, bins = np.histogram(CPF.Timestamp, bins=range(CPF[\"Timestamp\"].min(), CPF[\"Timestamp\"].max(), 60))\n",
    "bins = bins[1:]\n",
    "px.line(['timestamp', 'count'], x=bins, y=counts, labels={'x':'timestamp', 'y':'count'})"
   ]
  },
  {
   "cell_type": "code",
   "execution_count": null,
   "id": "5b8b9f92",
   "metadata": {},
   "outputs": [],
   "source": [
    "SAPF = Saturday[(Saturday[\"X\"]==32) &  (Saturday[\"Y\"]==33) & (Saturday[\"type\"]==1)]\n",
    "counts, bins = np.histogram(SAPF.Timestamp, bins=range(SAPF[\"Timestamp\"].min(), SAPF[\"Timestamp\"].max(), 60))\n",
    "bins = bins[1:]\n",
    "px.line(['timestamp', 'count'], x=bins, y=counts, labels={'x':'timestamp', 'y':'count'})"
   ]
  },
  {
   "cell_type": "code",
   "execution_count": null,
   "id": "0037ee54",
   "metadata": {},
   "outputs": [],
   "source": [
    "SUPF = Sunday[(Sunday[\"X\"]==32) &  (Sunday[\"Y\"]==33) & (Sunday[\"type\"]==1)]\n",
    "counts, bins = np.histogram(SUPF.Timestamp, bins=range(SUPF[\"Timestamp\"].min(), SUPF[\"Timestamp\"].max(), 60))\n",
    "bins = bins[1:]\n",
    "px.line(['timestamp', 'count'], x=bins, y=counts, labels={'x':'timestamp', 'y':'count'})"
   ]
  },
  {
   "cell_type": "markdown",
   "id": "919c81d3",
   "metadata": {},
   "source": [
    "## The following are the opening and closing times of the Grinosaurus Stage for three days."
   ]
  },
  {
   "cell_type": "code",
   "execution_count": null,
   "id": "4e42ca87",
   "metadata": {},
   "outputs": [],
   "source": [
    "CPF2 = Firday[(Firday[\"X\"]==76) &  (Firday[\"Y\"]==22) & (Firday[\"type\"]==1)]\n",
    "counts, bins = np.histogram(CPF2.Timestamp, bins=range(CPF2[\"Timestamp\"].min(), CPF2[\"Timestamp\"].max(), 60))\n",
    "bins = bins[1:]\n",
    "px.line(['timestamp', 'count'], x=bins, y=counts, labels={'x':'timestamp', 'y':'count'})"
   ]
  },
  {
   "cell_type": "code",
   "execution_count": null,
   "id": "e86e8c0d",
   "metadata": {},
   "outputs": [],
   "source": []
  },
  {
   "cell_type": "code",
   "execution_count": null,
   "id": "f7150d65",
   "metadata": {},
   "outputs": [],
   "source": [
    "SAPF2 = Saturday[(Saturday[\"X\"]==76) &  (Saturday[\"Y\"]==22) & (Saturday[\"type\"]==1)]\n",
    "counts, bins = np.histogram(SAPF2.Timestamp, bins=range(SAPF2[\"Timestamp\"].min(), SAPF2[\"Timestamp\"].max(), 60))\n",
    "bins = bins[1:]\n",
    "px.line(['timestamp', 'count'], x=bins, y=counts, labels={'x':'timestamp', 'y':'count'})"
   ]
  },
  {
   "cell_type": "code",
   "execution_count": null,
   "id": "83ce31cd",
   "metadata": {},
   "outputs": [],
   "source": [
    "SUPF2 = Sunday[(Sunday[\"X\"]==76) &  (Sunday[\"Y\"]==22) & (Sunday[\"type\"]==1)]\n",
    "counts, bins = np.histogram(SUPF2.Timestamp, bins=range(SUPF2[\"Timestamp\"].min(), SUPF2[\"Timestamp\"].max(), 60))\n",
    "bins = bins[1:]\n",
    "px.line(['timestamp', 'count'], x=bins, y=counts, labels={'x':'timestamp', 'y':'count'})"
   ]
  },
  {
   "cell_type": "markdown",
   "id": "ba161d20",
   "metadata": {},
   "source": [
    "## Suspicious group analysis, intersection of three data."
   ]
  },
  {
   "cell_type": "code",
   "execution_count": null,
   "id": "77e70e09",
   "metadata": {},
   "outputs": [],
   "source": [
    "A1 = pd.read_csv('FridayAreaCheck.csv')\n",
    "A2 = pd.read_csv('SaturdayAreaCheck.csv')\n",
    "A3 = pd.read_csv('SundayAreaCheck.csv')"
   ]
  },
  {
   "cell_type": "code",
   "execution_count": null,
   "id": "dad90fad",
   "metadata": {},
   "outputs": [],
   "source": [
    "FridayAreaCheck = [  i for i in A1.columns ]\n",
    "SaturdayAreaCheck = [  i for i in A2.columns ]\n",
    "SundayAreaCheck = [  i for i in A3.columns ]"
   ]
  },
  {
   "cell_type": "code",
   "execution_count": null,
   "id": "d71ebe32",
   "metadata": {},
   "outputs": [],
   "source": [
    "Cross  = list(set(FridayAreaCheck)&set(SaturdayAreaCheck)&set(SundayAreaCheck))"
   ]
  },
  {
   "cell_type": "code",
   "execution_count": null,
   "id": "d4c7b172",
   "metadata": {},
   "outputs": [],
   "source": [
    "#Sunday[\"id\"] = Sunday['id'].map(lambda x:x[:-2])"
   ]
  },
  {
   "cell_type": "code",
   "execution_count": null,
   "id": "069f17a4",
   "metadata": {},
   "outputs": [],
   "source": [
    "SU = Sunday.loc[Sunday['id'].isin(Cross)]"
   ]
  },
  {
   "cell_type": "code",
   "execution_count": null,
   "id": "dbda51e6",
   "metadata": {},
   "outputs": [],
   "source": [
    "strange = list(SU[SU[\"visit_count\"]<=100].id.unique())"
   ]
  },
  {
   "cell_type": "code",
   "execution_count": null,
   "id": "4c75d8eb",
   "metadata": {},
   "outputs": [],
   "source": [
    "len(Cross),len(strange), len(list(set(Cross)-set(strange)))"
   ]
  },
  {
   "cell_type": "code",
   "execution_count": null,
   "id": "9f6fa47a",
   "metadata": {},
   "outputs": [],
   "source": [
    "Time = []\n",
    "for i in list(set(Cross)-set(strange)):\n",
    "    t = SU[SU[\"id\"]==i][\"Timestamp\"].max()\n",
    "    Time.append([t,i])\n",
    "Time.sort(key = lambda x: x[0])"
   ]
  },
  {
   "cell_type": "code",
   "execution_count": null,
   "id": "31fe744b",
   "metadata": {},
   "outputs": [],
   "source": [
    "for i in strange:\n",
    "    print(  [i,time.strftime(\"%Y-%m-%d %H:%M:%S\", time.localtime(Sunday[Sunday[\"id\"]== i].iloc[0].Timestamp)), time.strftime(\"%Y-%m-%d %H:%M:%S\", time.localtime( Sunday[Sunday[\"id\"]== i][\"Timestamp\"].max() ))      ] )"
   ]
  },
  {
   "cell_type": "code",
   "execution_count": null,
   "id": "bd9c2de8",
   "metadata": {},
   "outputs": [],
   "source": []
  },
  {
   "cell_type": "code",
   "execution_count": null,
   "id": "de8f3e75",
   "metadata": {},
   "outputs": [],
   "source": [
    "ShowTimeS = time.mktime(time.strptime(\"2014-6-08 09:30:00\", \"%Y-%m-%d %H:%M:%S\"))\n",
    "ShowTimeE = time.mktime(time.strptime(\"2014-6-08 11:30:00\", \"%Y-%m-%d %H:%M:%S\"))\n",
    "Find = Sunday.loc[Sunday[\"id\"].isin(strange)].copy()\n",
    "FindII = Find[   (Find[\"Timestamp\"]>=ShowTimeS) & (Find[\"Timestamp\"]<=ShowTimeE)     ]\n",
    "FindII = FindII[  (FindII[\"X\"]==32) &  (FindII[\"Y\"]==33) ]\n",
    "#FindIII = FindII[FindII[\"type\"]==1]\n",
    "len(FindII.id.unique())"
   ]
  },
  {
   "cell_type": "code",
   "execution_count": null,
   "id": "49cfc526",
   "metadata": {},
   "outputs": [],
   "source": [
    "for i in list(FindII.id.unique()):\n",
    "    print(  [i,time.strftime(\"%Y-%m-%d %H:%M:%S\", time.localtime(Sunday[Sunday[\"id\"]== i].iloc[0].Timestamp)), time.strftime(\"%Y-%m-%d %H:%M:%S\", time.localtime( Sunday[Sunday[\"id\"]== i][\"Timestamp\"].max() ))      ] )"
   ]
  },
  {
   "cell_type": "code",
   "execution_count": null,
   "id": "582a6c9a",
   "metadata": {},
   "outputs": [],
   "source": [
    "counts, bins = np.histogram(FindII.Timestamp, bins=range(FindII[\"Timestamp\"].min(), FindII[\"Timestamp\"].max(), 60))\n",
    "bins = bins[1:]\n",
    "px.line(['timestamp', 'count'], x=bins, y=counts, labels={'x':'timestamp', 'y':'count'})"
   ]
  },
  {
   "cell_type": "code",
   "execution_count": null,
   "id": "813eff92",
   "metadata": {},
   "outputs": [],
   "source": [
    "time.strftime(\"%Y-%m-%d %H:%M:%S\", time.localtime(1402246000)), time.strftime(\"%Y-%m-%d %H:%M:%S\", time.localtime(1402247000))"
   ]
  },
  {
   "cell_type": "code",
   "execution_count": null,
   "id": "52069eda",
   "metadata": {},
   "outputs": [],
   "source": [
    "Find3 = Sunday.loc[Sunday[\"id\"].isin( list( set(Cross) - set(strange) ) )].copy()\n",
    "FindIIII = Find3[   (Find3[\"Timestamp\"]>=ShowTimeS) & (Find3[\"Timestamp\"]<=ShowTimeE)     ]\n",
    "FindIIII = FindIIII[  (FindIIII[\"X\"]==32) &  (FindIIII[\"Y\"]==33) ]\n",
    "#FindIIIII = FindIIII[FindIIII[\"type\"]==1]\n",
    "len(FindIIII.id.unique())"
   ]
  },
  {
   "cell_type": "code",
   "execution_count": null,
   "id": "6a0d63bb",
   "metadata": {},
   "outputs": [],
   "source": [
    "counts, bins = np.histogram(FindIIII.Timestamp, bins=range(FindIIII[\"Timestamp\"].min(), FindIIII[\"Timestamp\"].max(), 60))\n",
    "bins = bins[1:]             \n",
    "px.line(['timestamp', 'count'], x=bins, y=counts, labels={'x':'timestamp', 'y':'count'})"
   ]
  },
  {
   "cell_type": "code",
   "execution_count": null,
   "id": "ce8089d1",
   "metadata": {},
   "outputs": [],
   "source": [
    "time.strftime(\"%Y-%m-%d %H:%M:%S\", time.localtime(1402246000))"
   ]
  },
  {
   "cell_type": "code",
   "execution_count": null,
   "id": "ff50e2d7",
   "metadata": {},
   "outputs": [],
   "source": [
    "for i in list(set(Cross)-set(strange)):\n",
    "    print(  [i,time.strftime(\"%Y-%m-%d %H:%M:%S\", time.localtime(Sunday[Sunday[\"id\"]== i].iloc[0].Timestamp)), time.strftime(\"%Y-%m-%d %H:%M:%S\", time.localtime( Sunday[Sunday[\"id\"]== i][\"Timestamp\"].max() ))      ] )"
   ]
  },
  {
   "cell_type": "code",
   "execution_count": null,
   "id": "bfbd363e",
   "metadata": {},
   "outputs": [],
   "source": [
    "for i in [ \"1122884\",  \"1288884\" , \"395694\"   ]:\n",
    "    t = []\n",
    "    for j in [ Firday, Saturday , Sunday ]:\n",
    "        arrive =  time.strftime(\"%Y-%m-%d %H:%M:%S\", time.localtime( j[ j[\"id\"]==i][\"Timestamp\"].min()))\n",
    "        left =  time.strftime(\"%Y-%m-%d %H:%M:%S\", time.localtime( j[ j[\"id\"]==i][\"Timestamp\"].max()))\n",
    "        print(   f\" ID: {i},  arrive at {arrive}, left at {left}\"                   )"
   ]
  },
  {
   "cell_type": "markdown",
   "id": "6d08698b",
   "metadata": {},
   "source": [
    "## The specific action trajectories of the three tourists"
   ]
  },
  {
   "cell_type": "code",
   "execution_count": null,
   "id": "a4ced0b6",
   "metadata": {},
   "outputs": [],
   "source": [
    "Z = Sunday[(Sunday[\"id\"]==\"1122884\")]\n",
    "ST = time.mktime(time.strptime(\"2014-6-08 09:30:00\", \"%Y-%m-%d %H:%M:%S\"))\n",
    "NT = time.mktime(time.strptime(\"2014-6-08 13:30:00\", \"%Y-%m-%d %H:%M:%S\"))\n",
    "Z = Z[(Z[\"Timestamp\"]>=ST) & (Z[\"Timestamp\"]<=NT)]\n",
    "Z = Z.sort_values(by=['Timestamp'])"
   ]
  },
  {
   "cell_type": "code",
   "execution_count": null,
   "id": "28bc7048",
   "metadata": {
    "scrolled": false
   },
   "outputs": [],
   "source": [
    "px.scatter(Z, x=\"X\", y=\"Y\", animation_frame=\"Timestamp\", hover_name=\"id\",size_max=40,  range_x=[0,100], range_y=[0,100])"
   ]
  },
  {
   "cell_type": "code",
   "execution_count": null,
   "id": "eef6daa5",
   "metadata": {},
   "outputs": [],
   "source": [
    "time.strftime(\"%Y-%m-%d %H:%M:%S\", time.localtime(1402250631)), time.strftime(\"%Y-%m-%d %H:%M:%S\", time.localtime(1402255263))"
   ]
  },
  {
   "cell_type": "code",
   "execution_count": null,
   "id": "4008c18c",
   "metadata": {},
   "outputs": [],
   "source": [
    "T = Sunday[(Sunday[\"id\"]==\"1288884\")]\n",
    "T = T[(T[\"Timestamp\"]>=ST) & (T[\"Timestamp\"]<=NT)]\n",
    "T = T.sort_values(by=['Timestamp'])"
   ]
  },
  {
   "cell_type": "code",
   "execution_count": null,
   "id": "50fb97b1",
   "metadata": {
    "scrolled": false
   },
   "outputs": [],
   "source": [
    "px.scatter(T, x=\"X\", y=\"Y\", animation_frame=\"Timestamp\", hover_name=\"id\",size_max=40,  range_x=[0,100], range_y=[0,100])"
   ]
  },
  {
   "cell_type": "code",
   "execution_count": null,
   "id": "c8aaa928",
   "metadata": {},
   "outputs": [],
   "source": []
  },
  {
   "cell_type": "code",
   "execution_count": null,
   "id": "a9d633cc",
   "metadata": {},
   "outputs": [],
   "source": [
    "T2 = Sunday[(Sunday[\"id\"]==\"395694\")]\n",
    "T2 = T2[(T2[\"Timestamp\"]>=ST) & (T2[\"Timestamp\"]<=NT)]\n",
    "T2 = T2.sort_values(by=['Timestamp'])"
   ]
  },
  {
   "cell_type": "code",
   "execution_count": null,
   "id": "a254c8ed",
   "metadata": {},
   "outputs": [],
   "source": [
    "px.scatter(T2, x=\"X\", y=\"Y\", animation_frame=\"Timestamp\", hover_name=\"id\",size_max=40,  range_x=[0,100], range_y=[0,100])"
   ]
  },
  {
   "cell_type": "code",
   "execution_count": null,
   "id": "2434755c",
   "metadata": {},
   "outputs": [],
   "source": []
  },
  {
   "cell_type": "code",
   "execution_count": null,
   "id": "2443377b",
   "metadata": {},
   "outputs": [],
   "source": []
  },
  {
   "cell_type": "code",
   "execution_count": null,
   "id": "eb805b07",
   "metadata": {},
   "outputs": [],
   "source": []
  },
  {
   "cell_type": "code",
   "execution_count": null,
   "id": "cb634fa8",
   "metadata": {},
   "outputs": [],
   "source": []
  },
  {
   "cell_type": "code",
   "execution_count": null,
   "id": "d97ac43e",
   "metadata": {},
   "outputs": [],
   "source": []
  },
  {
   "cell_type": "code",
   "execution_count": null,
   "id": "99d0733f",
   "metadata": {},
   "outputs": [],
   "source": []
  }
 ],
 "metadata": {
  "kernelspec": {
   "display_name": "Python 3",
   "language": "python",
   "name": "python3"
  },
  "language_info": {
   "codemirror_mode": {
    "name": "ipython",
    "version": 3
   },
   "file_extension": ".py",
   "mimetype": "text/x-python",
   "name": "python",
   "nbconvert_exporter": "python",
   "pygments_lexer": "ipython3",
   "version": "3.8.8"
  }
 },
 "nbformat": 4,
 "nbformat_minor": 5
}
