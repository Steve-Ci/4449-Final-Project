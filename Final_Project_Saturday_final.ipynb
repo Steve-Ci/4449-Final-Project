{
 "cells": [
  {
   "cell_type": "code",
   "execution_count": 1,
   "id": "6d627b50",
   "metadata": {},
   "outputs": [],
   "source": [
    "import pandas as pd\n",
    "import numpy as np\n",
    "import matplotlib.pyplot as plt\n",
    "import seaborn as sns\n",
    "import warnings\n",
    "warnings.simplefilter(\"ignore\")\n",
    "from datetime import datetime\n",
    "import plotly.express as px\n",
    "from skimage import io\n",
    "import math\n",
    "import time"
   ]
  },
  {
   "cell_type": "code",
   "execution_count": null,
   "id": "7664d3e7",
   "metadata": {},
   "outputs": [],
   "source": [
    "Saturday = pd.DataFrame(pd.read_csv('park-movement-Sat.csv'))\n",
    "Saturday[\"id\"] = Saturday[\"id\"].astype(str)\n",
    "Saturday = Saturday.replace('check-in', 1).replace('movement', 0)\n",
    "Saturday[\"Timestamp\"] = Saturday[\"Timestamp\"].map(lambda x: int(time.mktime(time.strptime(x, \"%Y-%m-%d %H:%M:%S\"))))\n",
    "Saturday[\"visit_count\"] = Saturday.groupby([\"id\"])[\"id\"].transform(\"count\")\n",
    "T = pd.DataFrame(Saturday.groupby('id')['Timestamp'].agg(np.ptp)).reset_index()\n",
    "T[\"visit_duration\"] = T['Timestamp'].map(lambda x:x//60)\n",
    "Saturday_III = Saturday.merge(T[[\"id\", \"visit_duration\"]])\n",
    "Saturday_III[\"Facility_coordinates\"]= Saturday_III.apply(lambda row: (int(row.X),int(row.Y)), axis=1)\n",
    "Saturday_III[\"X\"] = Saturday_III[\"X\"].map(lambda x:int(x))\n",
    "Saturday_III[\"Y\"] = Saturday_III[\"Y\"].map(lambda x:int(x))"
   ]
  },
  {
   "cell_type": "code",
   "execution_count": null,
   "id": "dfb73081",
   "metadata": {},
   "outputs": [],
   "source": [
    "Saturday_III.to_csv('park-movement-Sat_NewII.csv')"
   ]
  },
  {
   "cell_type": "code",
   "execution_count": 2,
   "id": "2894d8e3",
   "metadata": {},
   "outputs": [],
   "source": [
    "Saturday = pd.DataFrame(pd.read_csv('park-movement-Sat_NewII.csv'))\n",
    "Saturday = Saturday.drop([\"Unnamed: 0\"], axis=1)\n",
    "Saturday[\"id\"] = Saturday[\"id\"].astype(str)\n",
    "Saturday[\"Facility_coordinates\"]= Saturday.apply(lambda row: (int(row.X),int(row.Y)), axis=1)\n",
    "Saturday[\"X\"] = Saturday[\"X\"].map(lambda x:int(x))\n",
    "Saturday[\"Y\"] = Saturday[\"Y\"].map(lambda x:int(x))"
   ]
  },
  {
   "cell_type": "code",
   "execution_count": 3,
   "id": "41ca8026",
   "metadata": {},
   "outputs": [
    {
     "data": {
      "text/plain": [
       "Timestamp               0\n",
       "id                      0\n",
       "type                    0\n",
       "X                       0\n",
       "Y                       0\n",
       "visit_count             0\n",
       "visit_duration          0\n",
       "Facility_coordinates    0\n",
       "dtype: int64"
      ]
     },
     "execution_count": 3,
     "metadata": {},
     "output_type": "execute_result"
    }
   ],
   "source": [
    "Saturday.isna().sum()"
   ]
  },
  {
   "cell_type": "code",
   "execution_count": 4,
   "id": "ec2c6352",
   "metadata": {},
   "outputs": [
    {
     "name": "stdout",
     "output_type": "stream",
     "text": [
      "<class 'pandas.core.frame.DataFrame'>\n",
      "RangeIndex: 9078623 entries, 0 to 9078622\n",
      "Data columns (total 8 columns):\n",
      " #   Column                Dtype \n",
      "---  ------                ----- \n",
      " 0   Timestamp             int64 \n",
      " 1   id                    object\n",
      " 2   type                  int64 \n",
      " 3   X                     int64 \n",
      " 4   Y                     int64 \n",
      " 5   visit_count           int64 \n",
      " 6   visit_duration        int64 \n",
      " 7   Facility_coordinates  object\n",
      "dtypes: int64(6), object(2)\n",
      "memory usage: 554.1+ MB\n"
     ]
    }
   ],
   "source": [
    "Saturday.info()"
   ]
  },
  {
   "cell_type": "code",
   "execution_count": 5,
   "id": "f52481a1",
   "metadata": {},
   "outputs": [
    {
     "data": {
      "text/plain": [
       "9078623"
      ]
     },
     "execution_count": 5,
     "metadata": {},
     "output_type": "execute_result"
    }
   ],
   "source": [
    "len(Saturday)"
   ]
  },
  {
   "cell_type": "code",
   "execution_count": null,
   "id": "1adec8bd",
   "metadata": {
    "scrolled": false
   },
   "outputs": [],
   "source": [
    "px.density_heatmap(Saturday, x='X', y='Y')"
   ]
  },
  {
   "cell_type": "code",
   "execution_count": null,
   "id": "d7feefe3",
   "metadata": {},
   "outputs": [],
   "source": [
    "counts, bins = np.histogram(Saturday.Timestamp, bins=range(Saturday[\"Timestamp\"].min(), Saturday[\"Timestamp\"].max(), 60))\n",
    "bins = bins[1:]\n",
    "px.line(['timestamp', 'count'], x=bins, y=counts, labels={'x':'timestamp', 'y':'count'})"
   ]
  },
  {
   "cell_type": "markdown",
   "id": "3ee93279",
   "metadata": {},
   "source": [
    "### Criterion One：Relative time difference and relative distance (Euclidean distance)"
   ]
  },
  {
   "cell_type": "code",
   "execution_count": null,
   "id": "a0ccdc47",
   "metadata": {},
   "outputs": [],
   "source": [
    "Group = []\n",
    "# Families, relatives, couples, or any close small group\n",
    "Crowd = []\n",
    "# Groups of people who do not belong to each other in small groups, but have similar behavioral patterns\n",
    "Single = []\n",
    "# Tourists who do not belong to the above two groups\n",
    "\n",
    "for index, ID in enumerate(Saturday.id.unique()):\n",
    "    D = Saturday.loc[Saturday['id'] == ID] \n",
    "    Trajectory_I  = D[['id','Timestamp', 'type', \"Facility_coordinates\"]].sort_values(by=['Timestamp']).to_numpy() \n",
    "\n",
    "    Len1 = len(Trajectory_I)\n",
    "    \n",
    "    for index2, ID2 in enumerate(Saturday.id.unique()[index:]):\n",
    "        if index2 > 10: \n",
    "            break\n",
    "        if ID == ID2: \n",
    "            continue\n",
    "            \n",
    "        D2 = Saturday.loc[Saturday['id'] == ID2] \n",
    "        Trajectory_II = D2[['id','Timestamp', 'type', \"Facility_coordinates\"]].sort_values(by=['Timestamp']).to_numpy()\n",
    "        Len2 = len(Trajectory_II)\n",
    "        \n",
    "        \n",
    "        if Len1 == Len2:\n",
    "            track_1 =  pd.Series(list(Trajectory_I[:,3]))\n",
    "            track_2 =  pd.Series(list(Trajectory_II[:,3]))\n",
    "            distance = list( track_1.combine(track_2, (lambda x1, x2: 1 if np.linalg.norm(np.array(x1) - np.array(x2)) <= 2 else 0 )))\n",
    "            Ddiff = distance.count(1)/len(distance)            \n",
    "            \n",
    "            if Ddiff >= 0.7:\n",
    "        \n",
    "                Tdiff = np.median(np.abs(Trajectory_I[:,1]-Trajectory_II[:,1]))\n",
    "\n",
    "                if Tdiff <= 60:\n",
    "                    Group.append(ID)\n",
    "                    Group.append(ID2)\n",
    "                    \n",
    "                else:\n",
    "                    Crowd.append(ID)\n",
    "                    Crowd.append(ID2)\n",
    "\n",
    "                    \n",
    "        else:\n",
    "            track_1 =  pd.Series(list(Trajectory_I[:,3]))\n",
    "            track_2 =  pd.Series(list(Trajectory_II[:,3]))\n",
    "            distance = list( track_1.combine(track_2, (lambda x1, x2: 1 if np.linalg.norm(np.array(x1) - np.array(x2)) <= 2 else 0 )))\n",
    "            Ddiff = distance.count(1)/len(distance)\n",
    "        \n",
    "            if Ddiff >= 0.7:\n",
    "                Crowd.append(ID)\n",
    "                Crowd.append(ID2)\n",
    "\n",
    "            else:\n",
    "                Single.append(ID)\n",
    "                Single.append(ID2)\n"
   ]
  },
  {
   "cell_type": "code",
   "execution_count": null,
   "id": "f908a2c4",
   "metadata": {},
   "outputs": [],
   "source": [
    "d1 = pd.read_csv('SaturdayGroupCount.csv')\n",
    "d2 = pd.read_csv('SaturdayCrowdCount.csv')\n",
    "d3 = pd.read_csv('SaturdaySingleCount.csv')\n",
    "\n",
    "Group = [  i.split(\".\", 1)[0] for i in d1.columns ]\n",
    "Crowd = [  i.split(\".\", 1)[0] for i in d2.columns ]\n",
    "Single = [  i.split(\".\", 1)[0] for i in d3.columns ]"
   ]
  },
  {
   "cell_type": "code",
   "execution_count": null,
   "id": "b8f10b9c",
   "metadata": {},
   "outputs": [],
   "source": [
    "Saturday_Group = list(set(Group))\n",
    "Saturday_Crowd = list(set(Crowd)-set(Group))\n",
    "Saturday_Single=  list(set(list(set(Single)-set(Group)))-set(Crowd)) "
   ]
  },
  {
   "cell_type": "code",
   "execution_count": null,
   "id": "f7c23338",
   "metadata": {},
   "outputs": [],
   "source": [
    "len(Saturday.id.unique()),len(Saturday_Group), len(Saturday_Crowd), len(Saturday_Single)"
   ]
  },
  {
   "cell_type": "markdown",
   "id": "7676b925",
   "metadata": {},
   "source": [
    "### Criterion Two：Earliest arrival time grouping"
   ]
  },
  {
   "cell_type": "code",
   "execution_count": null,
   "id": "22d70dd6",
   "metadata": {},
   "outputs": [],
   "source": [
    "TimePointMorning = time.mktime(time.strptime(\"2014-6-07 11:00:00\", \"%Y-%m-%d %H:%M:%S\"))\n",
    "TimePointAfterNoon = time.mktime(time.strptime(\"2014-6-07 16:00:00\", \"%Y-%m-%d %H:%M:%S\"))\n",
    "\n",
    "ArrivalTime = Saturday.copy().drop_duplicates(subset='id')\n",
    "ArrivalTime[\"ArrivalTime\"] = ArrivalTime[\"Timestamp\"].map(lambda x: 1 if x- TimePointMorning >= 0 and x - TimePointAfterNoon <= 0 else ( 2 if x - TimePointAfterNoon >= 0 else 0 ) )\n",
    "Early = list(ArrivalTime[ArrivalTime[\"ArrivalTime\"]==0].id.unique())\n",
    "Noon =  list(ArrivalTime[ArrivalTime[\"ArrivalTime\"]==1].id.unique())\n",
    "Late = list(ArrivalTime[ArrivalTime[\"ArrivalTime\"]==2].id.unique())\n",
    "len(Saturday.id.unique()), len(Early), len(Noon), len(Late)"
   ]
  },
  {
   "cell_type": "markdown",
   "id": "01a2e7e1",
   "metadata": {},
   "source": [
    "### Criterion Three：duration stay time"
   ]
  },
  {
   "cell_type": "code",
   "execution_count": null,
   "id": "8025689d",
   "metadata": {},
   "outputs": [],
   "source": [
    "np.mean(Saturday[\"visit_duration\"].unique())\n",
    "HighDuration = list(Saturday[Saturday[\"visit_duration\"] >= np.mean(Saturday[\"visit_duration\"].unique())].id.unique())\n",
    "LowDuration = list(Saturday[Saturday[\"visit_duration\"] < np.mean(Saturday[\"visit_duration\"].unique())].id.unique())\n",
    "len(Saturday.id.unique()), len(HighDuration), len(LowDuration)"
   ]
  },
  {
   "cell_type": "markdown",
   "id": "5f066202",
   "metadata": {},
   "source": [
    "#### Group 1"
   ]
  },
  {
   "cell_type": "code",
   "execution_count": null,
   "id": "00f5fec8",
   "metadata": {},
   "outputs": [],
   "source": [
    "G1 = list(set(Saturday_Group)&set(Early)&set( HighDuration))\n",
    "G1P = Saturday.loc[Saturday['id'].isin(G1)]"
   ]
  },
  {
   "cell_type": "code",
   "execution_count": null,
   "id": "68d4e0c1",
   "metadata": {},
   "outputs": [],
   "source": [
    "len(G1P.id.unique())"
   ]
  },
  {
   "cell_type": "code",
   "execution_count": null,
   "id": "db95209d",
   "metadata": {},
   "outputs": [],
   "source": [
    "px.density_heatmap(G1P, x='X', y='Y')"
   ]
  },
  {
   "cell_type": "code",
   "execution_count": null,
   "id": "5489bf0a",
   "metadata": {},
   "outputs": [],
   "source": [
    "counts, bins = np.histogram(G1P.Timestamp, bins=range(G1P[\"Timestamp\"].min(), G1P[\"Timestamp\"].max(), 60))\n",
    "bins = bins[1:]\n",
    "px.line(['timestamp', 'count'], x=bins, y=counts, labels={'x':'timestamp', 'y':'count'})"
   ]
  },
  {
   "cell_type": "code",
   "execution_count": null,
   "id": "fbc3f9f7",
   "metadata": {},
   "outputs": [],
   "source": []
  },
  {
   "cell_type": "markdown",
   "id": "40114136",
   "metadata": {},
   "source": [
    "#### Group 2"
   ]
  },
  {
   "cell_type": "code",
   "execution_count": null,
   "id": "866797c7",
   "metadata": {},
   "outputs": [],
   "source": [
    "G2 = list(set(Saturday_Crowd)&set(Early)&set( HighDuration))\n",
    "G2P = Saturday.loc[Saturday['id'].isin(G2)]\n",
    "len(G2)"
   ]
  },
  {
   "cell_type": "code",
   "execution_count": null,
   "id": "1112da22",
   "metadata": {},
   "outputs": [],
   "source": [
    "px.density_heatmap(G2P, x='X', y='Y')"
   ]
  },
  {
   "cell_type": "code",
   "execution_count": null,
   "id": "34588196",
   "metadata": {},
   "outputs": [],
   "source": [
    "counts, bins = np.histogram(G2P.Timestamp, bins=range(G2P[\"Timestamp\"].min(), G2P[\"Timestamp\"].max(), 60))\n",
    "bins = bins[1:]\n",
    "px.line(['timestamp', 'count'], x=bins, y=counts, labels={'x':'timestamp', 'y':'count'})"
   ]
  },
  {
   "cell_type": "code",
   "execution_count": null,
   "id": "b82bc91d",
   "metadata": {},
   "outputs": [],
   "source": []
  },
  {
   "cell_type": "markdown",
   "id": "8ba07997",
   "metadata": {},
   "source": [
    "#### Group 3"
   ]
  },
  {
   "cell_type": "code",
   "execution_count": null,
   "id": "8d43b5ea",
   "metadata": {},
   "outputs": [],
   "source": [
    "G3 = list(set(Saturday_Single)&set(Early)&set(HighDuration))\n",
    "G3P = Saturday.loc[Saturday['id'].isin(G3)]\n",
    "len(G3)"
   ]
  },
  {
   "cell_type": "code",
   "execution_count": null,
   "id": "509e4934",
   "metadata": {},
   "outputs": [],
   "source": [
    "px.density_heatmap(G3P, x='X', y='Y')"
   ]
  },
  {
   "cell_type": "code",
   "execution_count": null,
   "id": "5b650fec",
   "metadata": {},
   "outputs": [],
   "source": [
    "counts, bins = np.histogram(G3P.Timestamp, bins=range(G3P[\"Timestamp\"].min(), G3P[\"Timestamp\"].max(), 60))\n",
    "bins = bins[1:]\n",
    "px.line(['timestamp', 'count'], x=bins, y=counts, labels={'x':'timestamp', 'y':'count'})"
   ]
  },
  {
   "cell_type": "code",
   "execution_count": null,
   "id": "9d007e79",
   "metadata": {},
   "outputs": [],
   "source": []
  },
  {
   "cell_type": "markdown",
   "id": "754dc512",
   "metadata": {},
   "source": [
    "#### Group 4"
   ]
  },
  {
   "cell_type": "code",
   "execution_count": null,
   "id": "666e3778",
   "metadata": {},
   "outputs": [],
   "source": [
    "G4 = list(set(Saturday_Group)&set(Noon))\n",
    "G4P = Saturday.loc[Saturday['id'].isin(G4)]\n",
    "len(G4) "
   ]
  },
  {
   "cell_type": "code",
   "execution_count": null,
   "id": "2f3a2200",
   "metadata": {},
   "outputs": [],
   "source": [
    "px.density_heatmap(G4P, x='X', y='Y')"
   ]
  },
  {
   "cell_type": "code",
   "execution_count": null,
   "id": "6faba9dd",
   "metadata": {},
   "outputs": [],
   "source": [
    "counts, bins = np.histogram(G4P.Timestamp, bins=range(G4P[\"Timestamp\"].min(), G4P[\"Timestamp\"].max(), 60))\n",
    "bins = bins[1:]\n",
    "px.line(['timestamp', 'count'], x=bins, y=counts, labels={'x':'timestamp', 'y':'count'})"
   ]
  },
  {
   "cell_type": "code",
   "execution_count": null,
   "id": "deaca6d4",
   "metadata": {},
   "outputs": [],
   "source": []
  },
  {
   "cell_type": "markdown",
   "id": "4c659274",
   "metadata": {},
   "source": [
    "#### Group 5"
   ]
  },
  {
   "cell_type": "code",
   "execution_count": null,
   "id": "31e6156e",
   "metadata": {},
   "outputs": [],
   "source": [
    "G5 = list(set(Saturday_Crowd)&set(Noon))\n",
    "G5P = Saturday.loc[Saturday['id'].isin(G5)]\n",
    "len(G5) "
   ]
  },
  {
   "cell_type": "code",
   "execution_count": null,
   "id": "87379a9f",
   "metadata": {},
   "outputs": [],
   "source": [
    "px.density_heatmap(G5P, x='X', y='Y')"
   ]
  },
  {
   "cell_type": "code",
   "execution_count": null,
   "id": "351efd27",
   "metadata": {},
   "outputs": [],
   "source": [
    "counts, bins = np.histogram(G5P.Timestamp, bins=range(G5P[\"Timestamp\"].min(), G5P[\"Timestamp\"].max(), 60))\n",
    "bins = bins[1:]\n",
    "px.line(['timestamp', 'count'], x=bins, y=counts, labels={'x':'timestamp', 'y':'count'})"
   ]
  },
  {
   "cell_type": "code",
   "execution_count": null,
   "id": "ea3c0a00",
   "metadata": {},
   "outputs": [],
   "source": []
  },
  {
   "cell_type": "markdown",
   "id": "92d9061e",
   "metadata": {},
   "source": [
    "#### Group 6"
   ]
  },
  {
   "cell_type": "code",
   "execution_count": null,
   "id": "ee42dfa3",
   "metadata": {},
   "outputs": [],
   "source": [
    "G6 = list(set(Saturday_Single)&set(LowDuration))\n",
    "G6P = Saturday.loc[Saturday['id'].isin(G6)]\n",
    "len(G6) "
   ]
  },
  {
   "cell_type": "code",
   "execution_count": null,
   "id": "b537b4a0",
   "metadata": {},
   "outputs": [],
   "source": [
    "px.density_heatmap(G6P, x='X', y='Y')"
   ]
  },
  {
   "cell_type": "code",
   "execution_count": null,
   "id": "b8f26075",
   "metadata": {},
   "outputs": [],
   "source": [
    "counts, bins = np.histogram(G6P.Timestamp, bins=range(G6P[\"Timestamp\"].min(), G6P[\"Timestamp\"].max(), 60))\n",
    "bins = bins[1:]\n",
    "px.line(['timestamp', 'count'], x=bins, y=counts, labels={'x':'timestamp', 'y':'count'})"
   ]
  },
  {
   "cell_type": "markdown",
   "id": "e2243ab5",
   "metadata": {},
   "source": [
    "#### Group 7 "
   ]
  },
  {
   "cell_type": "code",
   "execution_count": null,
   "id": "bf39b3ca",
   "metadata": {},
   "outputs": [],
   "source": [
    "G7 = list(set(Saturday_Group)&set(LowDuration)&set(Early))\n",
    "G7P = Saturday.loc[Saturday['id'].isin(G7)]\n",
    "len(G7)"
   ]
  },
  {
   "cell_type": "code",
   "execution_count": null,
   "id": "49dcc95b",
   "metadata": {},
   "outputs": [],
   "source": [
    "px.density_heatmap(G7P, x='X', y='Y')"
   ]
  },
  {
   "cell_type": "code",
   "execution_count": null,
   "id": "7e07ed24",
   "metadata": {},
   "outputs": [],
   "source": [
    "counts, bins = np.histogram(G7P.Timestamp, bins=range(G7P[\"Timestamp\"].min(), G7P[\"Timestamp\"].max(), 60))\n",
    "bins = bins[1:]\n",
    "px.line(['timestamp', 'count'], x=bins, y=counts, labels={'x':'timestamp', 'y':'count'})"
   ]
  },
  {
   "cell_type": "markdown",
   "id": "a25dd362",
   "metadata": {},
   "source": [
    "#### Group 8 "
   ]
  },
  {
   "cell_type": "code",
   "execution_count": null,
   "id": "398e7492",
   "metadata": {},
   "outputs": [],
   "source": [
    "G8 = list(set(Saturday_Group)&set(Late))\n",
    "G8P = Saturday.loc[Saturday['id'].isin(G8)]\n",
    "len(G8)"
   ]
  },
  {
   "cell_type": "code",
   "execution_count": null,
   "id": "49ac0486",
   "metadata": {},
   "outputs": [],
   "source": [
    "px.density_heatmap(G8P, x='X', y='Y')"
   ]
  },
  {
   "cell_type": "code",
   "execution_count": null,
   "id": "f1b5b4cf",
   "metadata": {},
   "outputs": [],
   "source": [
    "counts, bins = np.histogram(G8P.Timestamp, bins=range(G8P[\"Timestamp\"].min(), G8P[\"Timestamp\"].max(), 60))\n",
    "bins = bins[1:]\n",
    "px.line(['timestamp', 'count'], x=bins, y=counts, labels={'x':'timestamp', 'y':'count'})"
   ]
  },
  {
   "cell_type": "code",
   "execution_count": null,
   "id": "ff384e43",
   "metadata": {},
   "outputs": [],
   "source": []
  },
  {
   "cell_type": "markdown",
   "id": "ae3d8b80",
   "metadata": {},
   "source": [
    "#### Criterion Four, the time interval between the activities of each visitor"
   ]
  },
  {
   "cell_type": "code",
   "execution_count": null,
   "id": "bd2d0203",
   "metadata": {},
   "outputs": [],
   "source": [
    "visitors_td = []\n",
    "max_td = []\n",
    "med_td = []\n",
    "for index, ID in enumerate(Saturday.id.unique()):\n",
    "    visitors = Saturday.loc[Saturday['id'] == ID] \n",
    "    l = len(visitors['Timestamp'].values)\n",
    "    diff  = abs(visitors['Timestamp'].values[1:] - Saturday['Timestamp'].values[0:l-1])\n",
    "    # Calculate the time difference between the tourist's first action and the next second action\n",
    "    dmax = max(diff)\n",
    "    dmed = np.median(diff)\n",
    "    visitors_td.append(ID)\n",
    "    max_td.append(dmax)\n",
    "    med_td.append(dmed)"
   ]
  },
  {
   "cell_type": "markdown",
   "id": "07a4b71c",
   "metadata": {},
   "source": [
    "####  Visitors with huge gaps between actions (top 150), sorted from largest to smallest"
   ]
  },
  {
   "cell_type": "code",
   "execution_count": null,
   "id": "cc9ba8b1",
   "metadata": {},
   "outputs": [],
   "source": [
    "inds1 =  np.argsort(max_td)\n",
    "GapH = np.array(visitors_td)[inds1[-150:]]\n",
    "GapHV = Saturday.loc[Saturday['id'].isin(GapH)]\n",
    "px.density_heatmap(GapHV, x=GapHV['X'], y=GapHV['Y'])"
   ]
  },
  {
   "cell_type": "code",
   "execution_count": null,
   "id": "93f7bf50",
   "metadata": {},
   "outputs": [],
   "source": [
    "counts, bins = np.histogram(GapHV.Timestamp, bins=range(GapHV[\"Timestamp\"].min(), GapHV[\"Timestamp\"].max(), 60))\n",
    "bins = bins[1:]\n",
    "px.line(['timestamp', 'count'], x=bins, y=counts, labels={'x':'timestamp', 'y':'count'})"
   ]
  },
  {
   "cell_type": "markdown",
   "id": "3ad93b78",
   "metadata": {},
   "source": [
    "#### Fast-moving tourists (low gap between actions)"
   ]
  },
  {
   "cell_type": "code",
   "execution_count": null,
   "id": "1f357bb4",
   "metadata": {},
   "outputs": [],
   "source": [
    "inds2 =  np.argsort(med_td) \n",
    "Faster = np.array(visitors_td)[inds2[0:150]]\n",
    "FasterV = Saturday.loc[Saturday['id'].isin(Faster)]\n",
    "px.density_heatmap(FasterV, x=FasterV['X'], y=FasterV['Y'])"
   ]
  },
  {
   "cell_type": "code",
   "execution_count": null,
   "id": "39ed550b",
   "metadata": {},
   "outputs": [],
   "source": [
    "counts, bins = np.histogram(FasterV.Timestamp, bins=range(FasterV[\"Timestamp\"].min(), FasterV[\"Timestamp\"].max(), 60))\n",
    "bins = bins[1:]\n",
    "px.line(['timestamp', 'count'], x=bins, y=counts, labels={'x':'timestamp', 'y':'count'})"
   ]
  },
  {
   "cell_type": "markdown",
   "id": "6769dbdb",
   "metadata": {},
   "source": [
    "#### Slow-moving tourists (high gap between actions)"
   ]
  },
  {
   "cell_type": "code",
   "execution_count": null,
   "id": "156ff4ef",
   "metadata": {},
   "outputs": [],
   "source": [
    "inds3 =  np.argsort(med_td)\n",
    "Slower = np.array(visitors_td)[inds3[-150:]]\n",
    "SlowerV = Saturday.loc[Saturday['id'].isin(Slower)]\n",
    "px.density_heatmap(SlowerV, x=SlowerV['X'], y=SlowerV['Y'])"
   ]
  },
  {
   "cell_type": "code",
   "execution_count": null,
   "id": "cd13f0d2",
   "metadata": {},
   "outputs": [],
   "source": [
    "counts, bins = np.histogram(SlowerV.Timestamp, bins=range(SlowerV[\"Timestamp\"].min(), SlowerV[\"Timestamp\"].max(), 60))\n",
    "bins = bins[1:]\n",
    "px.line(['timestamp', 'count'], x=bins, y=counts, labels={'x':'timestamp', 'y':'count'})"
   ]
  },
  {
   "cell_type": "code",
   "execution_count": null,
   "id": "5860bd9f",
   "metadata": {},
   "outputs": [],
   "source": []
  },
  {
   "cell_type": "markdown",
   "id": "66856f50",
   "metadata": {},
   "source": [
    "### Group EX"
   ]
  },
  {
   "cell_type": "code",
   "execution_count": 10,
   "id": "5e79f1c9",
   "metadata": {},
   "outputs": [],
   "source": [
    "ShowTimeS = time.mktime(time.strptime(\"2014-6-07 09:00:00\", \"%Y-%m-%d %H:%M:%S\"))\n",
    "ShowTimeE = time.mktime(time.strptime(\"2014-6-07 12:00:00\", \"%Y-%m-%d %H:%M:%S\"))\n",
    "\n",
    "CheckPointM = Saturday.copy()\n",
    "SuspiciousIN = CheckPointM[   (CheckPointM[\"Timestamp\"]>=ShowTimeS) & (CheckPointM[\"Timestamp\"]<=ShowTimeE)                                                       ]\n",
    "SuspiciousIN = SuspiciousIN[  (SuspiciousIN[\"X\"]>=20) &  (SuspiciousIN[\"Y\"]>=30) ]\n",
    "SuspiciousIN = SuspiciousIN[  (SuspiciousIN[\"X\"]<=40) &  (SuspiciousIN[\"Y\"]<=40) ]"
   ]
  },
  {
   "cell_type": "code",
   "execution_count": 11,
   "id": "fb0f13b3",
   "metadata": {},
   "outputs": [],
   "source": [
    "ShowTimeS2 = time.mktime(time.strptime(\"2014-6-07 14:00:00\", \"%Y-%m-%d %H:%M:%S\"))\n",
    "ShowTimeE2 = time.mktime(time.strptime(\"2014-6-07 17:00:00\", \"%Y-%m-%d %H:%M:%S\"))\n",
    "\n",
    "CheckPointA = Saturday.copy()\n",
    "SuspiciousIN2 = CheckPointA[   (CheckPointA[\"Timestamp\"]>=ShowTimeS2) & (CheckPointA[\"Timestamp\"]<=ShowTimeE2)                                                       ]\n",
    "SuspiciousIN2 = SuspiciousIN2[  (SuspiciousIN2[\"X\"]>=20) &  (SuspiciousIN2[\"Y\"]>=30) ]\n",
    "SuspiciousIN2 = SuspiciousIN2[  (SuspiciousIN2[\"X\"]<=40) &  (SuspiciousIN2[\"Y\"]<=40) ]"
   ]
  },
  {
   "cell_type": "code",
   "execution_count": 12,
   "id": "c314e070",
   "metadata": {},
   "outputs": [
    {
     "data": {
      "text/plain": [
       "2935"
      ]
     },
     "execution_count": 12,
     "metadata": {},
     "output_type": "execute_result"
    }
   ],
   "source": [
    "SuspiciousGroup =  list(set( list(SuspiciousIN.id.unique()) ) & set(list(SuspiciousIN2.id.unique()))) \n",
    "GSP = Saturday.loc[Saturday['id'].isin(SuspiciousGroup)]\n",
    "len(SuspiciousGroup)"
   ]
  },
  {
   "cell_type": "code",
   "execution_count": 13,
   "id": "c22f5694",
   "metadata": {},
   "outputs": [],
   "source": [
    "import csv\n",
    "with open(\"SaturdayAreaCheck\",\"w\") as f:\n",
    "    write = csv.writer(f)\n",
    "    write.writerow(SuspiciousGroup)"
   ]
  },
  {
   "cell_type": "code",
   "execution_count": null,
   "id": "98dd244c",
   "metadata": {},
   "outputs": [],
   "source": [
    "px.density_heatmap(GSP, x='X', y='Y')"
   ]
  },
  {
   "cell_type": "code",
   "execution_count": null,
   "id": "cd2dc487",
   "metadata": {},
   "outputs": [],
   "source": [
    "counts, bins = np.histogram(GSP.Timestamp, bins=range(GSP[\"Timestamp\"].min(), GSP[\"Timestamp\"].max(), 60))\n",
    "bins = bins[1:]\n",
    "px.line(['timestamp', 'count'], x=bins, y=counts, labels={'x':'timestamp', 'y':'count'})"
   ]
  },
  {
   "cell_type": "code",
   "execution_count": null,
   "id": "fc534b1f",
   "metadata": {},
   "outputs": [],
   "source": []
  },
  {
   "cell_type": "code",
   "execution_count": null,
   "id": "ff4aea49",
   "metadata": {},
   "outputs": [],
   "source": []
  },
  {
   "cell_type": "code",
   "execution_count": null,
   "id": "8460959b",
   "metadata": {},
   "outputs": [],
   "source": []
  },
  {
   "cell_type": "code",
   "execution_count": null,
   "id": "94cbec74",
   "metadata": {},
   "outputs": [],
   "source": []
  },
  {
   "cell_type": "code",
   "execution_count": null,
   "id": "57516bfc",
   "metadata": {},
   "outputs": [],
   "source": []
  },
  {
   "cell_type": "code",
   "execution_count": null,
   "id": "1d58d875",
   "metadata": {},
   "outputs": [],
   "source": []
  },
  {
   "cell_type": "code",
   "execution_count": null,
   "id": "21582dff",
   "metadata": {},
   "outputs": [],
   "source": []
  },
  {
   "cell_type": "code",
   "execution_count": null,
   "id": "fe62af31",
   "metadata": {},
   "outputs": [],
   "source": []
  },
  {
   "cell_type": "code",
   "execution_count": null,
   "id": "e655b5d3",
   "metadata": {},
   "outputs": [],
   "source": []
  },
  {
   "cell_type": "code",
   "execution_count": null,
   "id": "796a2909",
   "metadata": {},
   "outputs": [],
   "source": []
  }
 ],
 "metadata": {
  "kernelspec": {
   "display_name": "Python 3",
   "language": "python",
   "name": "python3"
  },
  "language_info": {
   "codemirror_mode": {
    "name": "ipython",
    "version": 3
   },
   "file_extension": ".py",
   "mimetype": "text/x-python",
   "name": "python",
   "nbconvert_exporter": "python",
   "pygments_lexer": "ipython3",
   "version": "3.8.8"
  }
 },
 "nbformat": 4,
 "nbformat_minor": 5
}
