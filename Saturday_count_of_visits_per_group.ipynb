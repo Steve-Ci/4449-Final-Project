{
 "cells": [
  {
   "cell_type": "code",
   "execution_count": 1,
   "id": "baf7e651",
   "metadata": {},
   "outputs": [],
   "source": [
    "import pandas as pd\n",
    "import numpy as np\n",
    "import matplotlib.pyplot as plt\n",
    "import seaborn as sns\n",
    "import warnings\n",
    "warnings.simplefilter(\"ignore\")\n",
    "from datetime import datetime\n",
    "import plotly.graph_objects as go\n",
    "from skimage import io\n",
    "import plotly.express as px\n",
    "import time"
   ]
  },
  {
   "cell_type": "code",
   "execution_count": 2,
   "id": "34c11677",
   "metadata": {},
   "outputs": [],
   "source": [
    "Saturday = pd.DataFrame(pd.read_csv('park-movement-Sat_NewII.csv'))\n",
    "Saturday = Saturday.drop([\"Unnamed: 0\"], axis=1)\n",
    "Saturday[\"id\"] = Saturday[\"id\"].astype(str)"
   ]
  },
  {
   "cell_type": "code",
   "execution_count": 3,
   "id": "73754488",
   "metadata": {},
   "outputs": [
    {
     "data": {
      "text/html": [
       "<div>\n",
       "<style scoped>\n",
       "    .dataframe tbody tr th:only-of-type {\n",
       "        vertical-align: middle;\n",
       "    }\n",
       "\n",
       "    .dataframe tbody tr th {\n",
       "        vertical-align: top;\n",
       "    }\n",
       "\n",
       "    .dataframe thead th {\n",
       "        text-align: right;\n",
       "    }\n",
       "</style>\n",
       "<table border=\"1\" class=\"dataframe\">\n",
       "  <thead>\n",
       "    <tr style=\"text-align: right;\">\n",
       "      <th></th>\n",
       "      <th>Timestamp</th>\n",
       "      <th>id</th>\n",
       "      <th>type</th>\n",
       "      <th>X</th>\n",
       "      <th>Y</th>\n",
       "      <th>visit_count</th>\n",
       "      <th>visit_duration</th>\n",
       "      <th>Facility_coordinates</th>\n",
       "    </tr>\n",
       "  </thead>\n",
       "  <tbody>\n",
       "    <tr>\n",
       "      <th>0</th>\n",
       "      <td>1402149608</td>\n",
       "      <td>1102394</td>\n",
       "      <td>1</td>\n",
       "      <td>99</td>\n",
       "      <td>77</td>\n",
       "      <td>1472</td>\n",
       "      <td>883</td>\n",
       "      <td>(99, 77)</td>\n",
       "    </tr>\n",
       "    <tr>\n",
       "      <th>1</th>\n",
       "      <td>1402149648</td>\n",
       "      <td>1102394</td>\n",
       "      <td>0</td>\n",
       "      <td>98</td>\n",
       "      <td>77</td>\n",
       "      <td>1472</td>\n",
       "      <td>883</td>\n",
       "      <td>(98, 77)</td>\n",
       "    </tr>\n",
       "    <tr>\n",
       "      <th>2</th>\n",
       "      <td>1402149655</td>\n",
       "      <td>1102394</td>\n",
       "      <td>0</td>\n",
       "      <td>97</td>\n",
       "      <td>77</td>\n",
       "      <td>1472</td>\n",
       "      <td>883</td>\n",
       "      <td>(97, 77)</td>\n",
       "    </tr>\n",
       "    <tr>\n",
       "      <th>3</th>\n",
       "      <td>1402149662</td>\n",
       "      <td>1102394</td>\n",
       "      <td>0</td>\n",
       "      <td>96</td>\n",
       "      <td>77</td>\n",
       "      <td>1472</td>\n",
       "      <td>883</td>\n",
       "      <td>(96, 77)</td>\n",
       "    </tr>\n",
       "    <tr>\n",
       "      <th>4</th>\n",
       "      <td>1402149669</td>\n",
       "      <td>1102394</td>\n",
       "      <td>0</td>\n",
       "      <td>95</td>\n",
       "      <td>76</td>\n",
       "      <td>1472</td>\n",
       "      <td>883</td>\n",
       "      <td>(95, 76)</td>\n",
       "    </tr>\n",
       "    <tr>\n",
       "      <th>...</th>\n",
       "      <td>...</td>\n",
       "      <td>...</td>\n",
       "      <td>...</td>\n",
       "      <td>...</td>\n",
       "      <td>...</td>\n",
       "      <td>...</td>\n",
       "      <td>...</td>\n",
       "      <td>...</td>\n",
       "    </tr>\n",
       "    <tr>\n",
       "      <th>9078618</th>\n",
       "      <td>1402204680</td>\n",
       "      <td>413545</td>\n",
       "      <td>0</td>\n",
       "      <td>4</td>\n",
       "      <td>67</td>\n",
       "      <td>737</td>\n",
       "      <td>323</td>\n",
       "      <td>(4, 67)</td>\n",
       "    </tr>\n",
       "    <tr>\n",
       "      <th>9078619</th>\n",
       "      <td>1402204685</td>\n",
       "      <td>413545</td>\n",
       "      <td>0</td>\n",
       "      <td>3</td>\n",
       "      <td>66</td>\n",
       "      <td>737</td>\n",
       "      <td>323</td>\n",
       "      <td>(3, 66)</td>\n",
       "    </tr>\n",
       "    <tr>\n",
       "      <th>9078620</th>\n",
       "      <td>1402204690</td>\n",
       "      <td>413545</td>\n",
       "      <td>0</td>\n",
       "      <td>2</td>\n",
       "      <td>67</td>\n",
       "      <td>737</td>\n",
       "      <td>323</td>\n",
       "      <td>(2, 67)</td>\n",
       "    </tr>\n",
       "    <tr>\n",
       "      <th>9078621</th>\n",
       "      <td>1402204695</td>\n",
       "      <td>413545</td>\n",
       "      <td>0</td>\n",
       "      <td>1</td>\n",
       "      <td>66</td>\n",
       "      <td>737</td>\n",
       "      <td>323</td>\n",
       "      <td>(1, 66)</td>\n",
       "    </tr>\n",
       "    <tr>\n",
       "      <th>9078622</th>\n",
       "      <td>1402204700</td>\n",
       "      <td>413545</td>\n",
       "      <td>0</td>\n",
       "      <td>0</td>\n",
       "      <td>67</td>\n",
       "      <td>737</td>\n",
       "      <td>323</td>\n",
       "      <td>(0, 67)</td>\n",
       "    </tr>\n",
       "  </tbody>\n",
       "</table>\n",
       "<p>9078623 rows × 8 columns</p>\n",
       "</div>"
      ],
      "text/plain": [
       "          Timestamp       id  type   X   Y  visit_count  visit_duration  \\\n",
       "0        1402149608  1102394     1  99  77         1472             883   \n",
       "1        1402149648  1102394     0  98  77         1472             883   \n",
       "2        1402149655  1102394     0  97  77         1472             883   \n",
       "3        1402149662  1102394     0  96  77         1472             883   \n",
       "4        1402149669  1102394     0  95  76         1472             883   \n",
       "...             ...      ...   ...  ..  ..          ...             ...   \n",
       "9078618  1402204680   413545     0   4  67          737             323   \n",
       "9078619  1402204685   413545     0   3  66          737             323   \n",
       "9078620  1402204690   413545     0   2  67          737             323   \n",
       "9078621  1402204695   413545     0   1  66          737             323   \n",
       "9078622  1402204700   413545     0   0  67          737             323   \n",
       "\n",
       "        Facility_coordinates  \n",
       "0                   (99, 77)  \n",
       "1                   (98, 77)  \n",
       "2                   (97, 77)  \n",
       "3                   (96, 77)  \n",
       "4                   (95, 76)  \n",
       "...                      ...  \n",
       "9078618              (4, 67)  \n",
       "9078619              (3, 66)  \n",
       "9078620              (2, 67)  \n",
       "9078621              (1, 66)  \n",
       "9078622              (0, 67)  \n",
       "\n",
       "[9078623 rows x 8 columns]"
      ]
     },
     "execution_count": 3,
     "metadata": {},
     "output_type": "execute_result"
    }
   ],
   "source": [
    "Saturday"
   ]
  },
  {
   "cell_type": "code",
   "execution_count": 4,
   "id": "9d529c6c",
   "metadata": {},
   "outputs": [],
   "source": [
    "d1 = pd.read_csv('SaturdayGroupCount.csv')\n",
    "d2 = pd.read_csv('SaturdayCrowdCount.csv')\n",
    "d3 = pd.read_csv('SaturdaySingleCount.csv')\n",
    "\n",
    "Group = [  i.split(\".\", 1)[0] for i in d1.columns ]\n",
    "Crowd = [  i.split(\".\", 1)[0] for i in d2.columns ]\n",
    "Single = [  i.split(\".\", 1)[0] for i in d3.columns ]\n",
    "\n",
    "Saturday_Group = list(set(Group))\n",
    "Saturday_Crowd = list(set(Crowd)-set(Group))\n",
    "Saturday_Single=  list(set(list(set(Single)-set(Group)))-set(Crowd)) "
   ]
  },
  {
   "cell_type": "code",
   "execution_count": 5,
   "id": "311098c3",
   "metadata": {},
   "outputs": [
    {
     "data": {
      "text/plain": [
       "(6411, 6246, 116, 49)"
      ]
     },
     "execution_count": 5,
     "metadata": {},
     "output_type": "execute_result"
    }
   ],
   "source": [
    "TimePointMorning = time.mktime(time.strptime(\"2014-6-07 11:00:00\", \"%Y-%m-%d %H:%M:%S\"))\n",
    "TimePointAfterNoon = time.mktime(time.strptime(\"2014-6-07 16:00:00\", \"%Y-%m-%d %H:%M:%S\"))\n",
    "\n",
    "ArrivalTime = Saturday.copy().drop_duplicates(subset='id')\n",
    "ArrivalTime[\"ArrivalTime\"] = ArrivalTime[\"Timestamp\"].map(lambda x: 1 if x- TimePointMorning >= 0 and x - TimePointAfterNoon <= 0 else ( 2 if x - TimePointAfterNoon >= 0 else 0 ) )\n",
    "Early = list(ArrivalTime[ArrivalTime[\"ArrivalTime\"]==0].id.unique())\n",
    "Noon =  list(ArrivalTime[ArrivalTime[\"ArrivalTime\"]==1].id.unique())\n",
    "Late = list(ArrivalTime[ArrivalTime[\"ArrivalTime\"]==2].id.unique())\n",
    "len(Saturday.id.unique()), len(Early), len(Noon), len(Late)"
   ]
  },
  {
   "cell_type": "code",
   "execution_count": 6,
   "id": "c6248d04",
   "metadata": {},
   "outputs": [
    {
     "data": {
      "text/plain": [
       "(6411, 5933, 478)"
      ]
     },
     "execution_count": 6,
     "metadata": {},
     "output_type": "execute_result"
    }
   ],
   "source": [
    "np.mean(Saturday[\"visit_duration\"].unique())\n",
    "HighDuration = list(Saturday[Saturday[\"visit_duration\"] >= np.mean(Saturday[\"visit_duration\"].unique())].id.unique())\n",
    "LowDuration = list(Saturday[Saturday[\"visit_duration\"] < np.mean(Saturday[\"visit_duration\"].unique())].id.unique())\n",
    "len(Saturday.id.unique()), len(HighDuration), len(LowDuration)"
   ]
  },
  {
   "cell_type": "code",
   "execution_count": 33,
   "id": "9779b8d4",
   "metadata": {},
   "outputs": [
    {
     "data": {
      "text/plain": [
       "629.9705882352941"
      ]
     },
     "execution_count": 33,
     "metadata": {},
     "output_type": "execute_result"
    }
   ],
   "source": [
    "np.mean(Saturday[\"visit_duration\"].unique())\n"
   ]
  },
  {
   "cell_type": "markdown",
   "id": "f5750467",
   "metadata": {},
   "source": [
    "### Group 1"
   ]
  },
  {
   "cell_type": "code",
   "execution_count": 7,
   "id": "06a6c53e",
   "metadata": {},
   "outputs": [
    {
     "data": {
      "text/plain": [
       "(4400, 0.686)"
      ]
     },
     "execution_count": 7,
     "metadata": {},
     "output_type": "execute_result"
    }
   ],
   "source": [
    "G1 = list(set(Saturday_Group)&set(Early)&set( HighDuration))\n",
    "G1P = Saturday.loc[Saturday['id'].isin(G1)]\n",
    "len(G1), round(len(G1)/len(Saturday.id.unique()),3)"
   ]
  },
  {
   "cell_type": "code",
   "execution_count": 8,
   "id": "62a1c640",
   "metadata": {},
   "outputs": [
    {
     "data": {
      "text/html": [
       "<div>\n",
       "<style scoped>\n",
       "    .dataframe tbody tr th:only-of-type {\n",
       "        vertical-align: middle;\n",
       "    }\n",
       "\n",
       "    .dataframe tbody tr th {\n",
       "        vertical-align: top;\n",
       "    }\n",
       "\n",
       "    .dataframe thead th {\n",
       "        text-align: right;\n",
       "    }\n",
       "</style>\n",
       "<table border=\"1\" class=\"dataframe\">\n",
       "  <thead>\n",
       "    <tr style=\"text-align: right;\">\n",
       "      <th></th>\n",
       "      <th>X</th>\n",
       "      <th>Y</th>\n",
       "      <th>count</th>\n",
       "    </tr>\n",
       "  </thead>\n",
       "  <tbody>\n",
       "    <tr>\n",
       "      <th>8</th>\n",
       "      <td>27</td>\n",
       "      <td>15</td>\n",
       "      <td>4468</td>\n",
       "    </tr>\n",
       "    <tr>\n",
       "      <th>17</th>\n",
       "      <td>47</td>\n",
       "      <td>11</td>\n",
       "      <td>4329</td>\n",
       "    </tr>\n",
       "    <tr>\n",
       "      <th>36</th>\n",
       "      <td>86</td>\n",
       "      <td>44</td>\n",
       "      <td>4270</td>\n",
       "    </tr>\n",
       "    <tr>\n",
       "      <th>16</th>\n",
       "      <td>45</td>\n",
       "      <td>24</td>\n",
       "      <td>4136</td>\n",
       "    </tr>\n",
       "    <tr>\n",
       "      <th>12</th>\n",
       "      <td>38</td>\n",
       "      <td>90</td>\n",
       "      <td>4109</td>\n",
       "    </tr>\n",
       "  </tbody>\n",
       "</table>\n",
       "</div>"
      ],
      "text/plain": [
       "     X   Y  count\n",
       "8   27  15   4468\n",
       "17  47  11   4329\n",
       "36  86  44   4270\n",
       "16  45  24   4136\n",
       "12  38  90   4109"
      ]
     },
     "execution_count": 8,
     "metadata": {},
     "output_type": "execute_result"
    }
   ],
   "source": [
    "GroupV = pd.DataFrame(G1P[G1P.type == 1].groupby([\"X\",\"Y\"])[\"id\"].count())\n",
    "GroupV = GroupV.reset_index()\n",
    "GroupV.columns = [\"X\",\"Y\",\"count\"]\n",
    "GroupV.sort_values(by=['count'],ascending=False)[0:5]"
   ]
  },
  {
   "cell_type": "markdown",
   "id": "7c54c80a",
   "metadata": {},
   "source": [
    "### Group 2"
   ]
  },
  {
   "cell_type": "code",
   "execution_count": 9,
   "id": "5e1762f6",
   "metadata": {},
   "outputs": [
    {
     "data": {
      "text/plain": [
       "(986, 0.154)"
      ]
     },
     "execution_count": 9,
     "metadata": {},
     "output_type": "execute_result"
    }
   ],
   "source": [
    "G2 = list(set(Saturday_Crowd)&set(Early)&set( HighDuration))\n",
    "G2P = Saturday.loc[Saturday['id'].isin(G2)]\n",
    "len(G2), round(len(G2)/len(Saturday.id.unique()),3)"
   ]
  },
  {
   "cell_type": "code",
   "execution_count": 10,
   "id": "e8e269bc",
   "metadata": {},
   "outputs": [
    {
     "data": {
      "text/html": [
       "<div>\n",
       "<style scoped>\n",
       "    .dataframe tbody tr th:only-of-type {\n",
       "        vertical-align: middle;\n",
       "    }\n",
       "\n",
       "    .dataframe tbody tr th {\n",
       "        vertical-align: top;\n",
       "    }\n",
       "\n",
       "    .dataframe thead th {\n",
       "        text-align: right;\n",
       "    }\n",
       "</style>\n",
       "<table border=\"1\" class=\"dataframe\">\n",
       "  <thead>\n",
       "    <tr style=\"text-align: right;\">\n",
       "      <th></th>\n",
       "      <th>X</th>\n",
       "      <th>Y</th>\n",
       "      <th>count</th>\n",
       "    </tr>\n",
       "  </thead>\n",
       "  <tbody>\n",
       "    <tr>\n",
       "      <th>8</th>\n",
       "      <td>27</td>\n",
       "      <td>15</td>\n",
       "      <td>1181</td>\n",
       "    </tr>\n",
       "    <tr>\n",
       "      <th>16</th>\n",
       "      <td>45</td>\n",
       "      <td>24</td>\n",
       "      <td>1088</td>\n",
       "    </tr>\n",
       "    <tr>\n",
       "      <th>12</th>\n",
       "      <td>38</td>\n",
       "      <td>90</td>\n",
       "      <td>1083</td>\n",
       "    </tr>\n",
       "    <tr>\n",
       "      <th>17</th>\n",
       "      <td>47</td>\n",
       "      <td>11</td>\n",
       "      <td>1081</td>\n",
       "    </tr>\n",
       "    <tr>\n",
       "      <th>36</th>\n",
       "      <td>86</td>\n",
       "      <td>44</td>\n",
       "      <td>1054</td>\n",
       "    </tr>\n",
       "  </tbody>\n",
       "</table>\n",
       "</div>"
      ],
      "text/plain": [
       "     X   Y  count\n",
       "8   27  15   1181\n",
       "16  45  24   1088\n",
       "12  38  90   1083\n",
       "17  47  11   1081\n",
       "36  86  44   1054"
      ]
     },
     "execution_count": 10,
     "metadata": {},
     "output_type": "execute_result"
    }
   ],
   "source": [
    "GroupV = pd.DataFrame(G2P[G2P.type == 1].groupby([\"X\",\"Y\"])[\"id\"].count())\n",
    "GroupV = GroupV.reset_index()\n",
    "GroupV.columns = [\"X\",\"Y\",\"count\"]\n",
    "GroupV.sort_values(by=['count'],ascending=False)[0:5]"
   ]
  },
  {
   "cell_type": "markdown",
   "id": "e2acb9f9",
   "metadata": {},
   "source": [
    "### Group 3"
   ]
  },
  {
   "cell_type": "code",
   "execution_count": 11,
   "id": "d4d15cb5",
   "metadata": {},
   "outputs": [
    {
     "data": {
      "text/plain": [
       "(547, 0.085)"
      ]
     },
     "execution_count": 11,
     "metadata": {},
     "output_type": "execute_result"
    }
   ],
   "source": [
    "G3 = list(set(Saturday_Single)&set(Early)&set(HighDuration))\n",
    "G3P = Saturday.loc[Saturday['id'].isin(G3)]\n",
    "len(G3), round(len(G3)/len(Saturday.id.unique()),3)"
   ]
  },
  {
   "cell_type": "code",
   "execution_count": 12,
   "id": "d7cbbaab",
   "metadata": {},
   "outputs": [
    {
     "data": {
      "text/html": [
       "<div>\n",
       "<style scoped>\n",
       "    .dataframe tbody tr th:only-of-type {\n",
       "        vertical-align: middle;\n",
       "    }\n",
       "\n",
       "    .dataframe tbody tr th {\n",
       "        vertical-align: top;\n",
       "    }\n",
       "\n",
       "    .dataframe thead th {\n",
       "        text-align: right;\n",
       "    }\n",
       "</style>\n",
       "<table border=\"1\" class=\"dataframe\">\n",
       "  <thead>\n",
       "    <tr style=\"text-align: right;\">\n",
       "      <th></th>\n",
       "      <th>X</th>\n",
       "      <th>Y</th>\n",
       "      <th>count</th>\n",
       "    </tr>\n",
       "  </thead>\n",
       "  <tbody>\n",
       "    <tr>\n",
       "      <th>16</th>\n",
       "      <td>45</td>\n",
       "      <td>24</td>\n",
       "      <td>716</td>\n",
       "    </tr>\n",
       "    <tr>\n",
       "      <th>8</th>\n",
       "      <td>27</td>\n",
       "      <td>15</td>\n",
       "      <td>694</td>\n",
       "    </tr>\n",
       "    <tr>\n",
       "      <th>12</th>\n",
       "      <td>38</td>\n",
       "      <td>90</td>\n",
       "      <td>679</td>\n",
       "    </tr>\n",
       "    <tr>\n",
       "      <th>17</th>\n",
       "      <td>47</td>\n",
       "      <td>11</td>\n",
       "      <td>635</td>\n",
       "    </tr>\n",
       "    <tr>\n",
       "      <th>36</th>\n",
       "      <td>86</td>\n",
       "      <td>44</td>\n",
       "      <td>617</td>\n",
       "    </tr>\n",
       "  </tbody>\n",
       "</table>\n",
       "</div>"
      ],
      "text/plain": [
       "     X   Y  count\n",
       "16  45  24    716\n",
       "8   27  15    694\n",
       "12  38  90    679\n",
       "17  47  11    635\n",
       "36  86  44    617"
      ]
     },
     "execution_count": 12,
     "metadata": {},
     "output_type": "execute_result"
    }
   ],
   "source": [
    "GroupV = pd.DataFrame(G3P[G3P.type == 1].groupby([\"X\",\"Y\"])[\"id\"].count())\n",
    "GroupV = GroupV.reset_index()\n",
    "GroupV.columns = [\"X\",\"Y\",\"count\"]\n",
    "GroupV.sort_values(by=['count'],ascending=False)[0:5]"
   ]
  },
  {
   "cell_type": "markdown",
   "id": "af4a1b55",
   "metadata": {},
   "source": [
    "### Group 4"
   ]
  },
  {
   "cell_type": "code",
   "execution_count": 13,
   "id": "709c57db",
   "metadata": {},
   "outputs": [
    {
     "data": {
      "text/plain": [
       "(99, 0.015)"
      ]
     },
     "execution_count": 13,
     "metadata": {},
     "output_type": "execute_result"
    }
   ],
   "source": [
    "G4 = list(set(Saturday_Group)&set(Noon))\n",
    "G4P = Saturday.loc[Saturday['id'].isin(G4)]\n",
    "len(G4), round(len(G4)/len(Saturday.id.unique()),3) "
   ]
  },
  {
   "cell_type": "code",
   "execution_count": 14,
   "id": "c8887798",
   "metadata": {},
   "outputs": [
    {
     "data": {
      "text/html": [
       "<div>\n",
       "<style scoped>\n",
       "    .dataframe tbody tr th:only-of-type {\n",
       "        vertical-align: middle;\n",
       "    }\n",
       "\n",
       "    .dataframe tbody tr th {\n",
       "        vertical-align: top;\n",
       "    }\n",
       "\n",
       "    .dataframe thead th {\n",
       "        text-align: right;\n",
       "    }\n",
       "</style>\n",
       "<table border=\"1\" class=\"dataframe\">\n",
       "  <thead>\n",
       "    <tr style=\"text-align: right;\">\n",
       "      <th></th>\n",
       "      <th>X</th>\n",
       "      <th>Y</th>\n",
       "      <th>count</th>\n",
       "    </tr>\n",
       "  </thead>\n",
       "  <tbody>\n",
       "    <tr>\n",
       "      <th>9</th>\n",
       "      <td>32</td>\n",
       "      <td>33</td>\n",
       "      <td>110</td>\n",
       "    </tr>\n",
       "    <tr>\n",
       "      <th>19</th>\n",
       "      <td>63</td>\n",
       "      <td>99</td>\n",
       "      <td>95</td>\n",
       "    </tr>\n",
       "    <tr>\n",
       "      <th>15</th>\n",
       "      <td>45</td>\n",
       "      <td>24</td>\n",
       "      <td>83</td>\n",
       "    </tr>\n",
       "    <tr>\n",
       "      <th>16</th>\n",
       "      <td>47</td>\n",
       "      <td>11</td>\n",
       "      <td>73</td>\n",
       "    </tr>\n",
       "    <tr>\n",
       "      <th>2</th>\n",
       "      <td>16</td>\n",
       "      <td>66</td>\n",
       "      <td>69</td>\n",
       "    </tr>\n",
       "  </tbody>\n",
       "</table>\n",
       "</div>"
      ],
      "text/plain": [
       "     X   Y  count\n",
       "9   32  33    110\n",
       "19  63  99     95\n",
       "15  45  24     83\n",
       "16  47  11     73\n",
       "2   16  66     69"
      ]
     },
     "execution_count": 14,
     "metadata": {},
     "output_type": "execute_result"
    }
   ],
   "source": [
    "GroupV = pd.DataFrame(G4P[G4P.type == 1].groupby([\"X\",\"Y\"])[\"id\"].count())\n",
    "GroupV = GroupV.reset_index()\n",
    "GroupV.columns = [\"X\",\"Y\",\"count\"]\n",
    "GroupV.sort_values(by=['count'],ascending=False)[0:5]"
   ]
  },
  {
   "cell_type": "markdown",
   "id": "b48fa30c",
   "metadata": {},
   "source": [
    "### Group 5"
   ]
  },
  {
   "cell_type": "code",
   "execution_count": 15,
   "id": "534b5436",
   "metadata": {},
   "outputs": [
    {
     "data": {
      "text/plain": [
       "(17, 0.003)"
      ]
     },
     "execution_count": 15,
     "metadata": {},
     "output_type": "execute_result"
    }
   ],
   "source": [
    "G5 = list(set(Saturday_Crowd)&set(Noon))\n",
    "G5P = Saturday.loc[Saturday['id'].isin(G5)]\n",
    "len(G5) , round(len(G5)/len(Saturday.id.unique()),3)"
   ]
  },
  {
   "cell_type": "code",
   "execution_count": 16,
   "id": "ef56963b",
   "metadata": {},
   "outputs": [
    {
     "data": {
      "text/html": [
       "<div>\n",
       "<style scoped>\n",
       "    .dataframe tbody tr th:only-of-type {\n",
       "        vertical-align: middle;\n",
       "    }\n",
       "\n",
       "    .dataframe tbody tr th {\n",
       "        vertical-align: top;\n",
       "    }\n",
       "\n",
       "    .dataframe thead th {\n",
       "        text-align: right;\n",
       "    }\n",
       "</style>\n",
       "<table border=\"1\" class=\"dataframe\">\n",
       "  <thead>\n",
       "    <tr style=\"text-align: right;\">\n",
       "      <th></th>\n",
       "      <th>X</th>\n",
       "      <th>Y</th>\n",
       "      <th>count</th>\n",
       "    </tr>\n",
       "  </thead>\n",
       "  <tbody>\n",
       "    <tr>\n",
       "      <th>9</th>\n",
       "      <td>32</td>\n",
       "      <td>33</td>\n",
       "      <td>17</td>\n",
       "    </tr>\n",
       "    <tr>\n",
       "      <th>19</th>\n",
       "      <td>63</td>\n",
       "      <td>99</td>\n",
       "      <td>15</td>\n",
       "    </tr>\n",
       "    <tr>\n",
       "      <th>26</th>\n",
       "      <td>78</td>\n",
       "      <td>48</td>\n",
       "      <td>13</td>\n",
       "    </tr>\n",
       "    <tr>\n",
       "      <th>16</th>\n",
       "      <td>47</td>\n",
       "      <td>11</td>\n",
       "      <td>11</td>\n",
       "    </tr>\n",
       "    <tr>\n",
       "      <th>2</th>\n",
       "      <td>16</td>\n",
       "      <td>66</td>\n",
       "      <td>10</td>\n",
       "    </tr>\n",
       "  </tbody>\n",
       "</table>\n",
       "</div>"
      ],
      "text/plain": [
       "     X   Y  count\n",
       "9   32  33     17\n",
       "19  63  99     15\n",
       "26  78  48     13\n",
       "16  47  11     11\n",
       "2   16  66     10"
      ]
     },
     "execution_count": 16,
     "metadata": {},
     "output_type": "execute_result"
    }
   ],
   "source": [
    "GroupV = pd.DataFrame(G5P[G5P.type == 1].groupby([\"X\",\"Y\"])[\"id\"].count())\n",
    "GroupV = GroupV.reset_index()\n",
    "GroupV.columns = [\"X\",\"Y\",\"count\"]\n",
    "GroupV.sort_values(by=['count'],ascending=False)[0:5]"
   ]
  },
  {
   "cell_type": "markdown",
   "id": "0c591a92",
   "metadata": {},
   "source": [
    "### Group 6"
   ]
  },
  {
   "cell_type": "code",
   "execution_count": 17,
   "id": "d867dbd0",
   "metadata": {},
   "outputs": [
    {
     "data": {
      "text/plain": [
       "(89, 0.014)"
      ]
     },
     "execution_count": 17,
     "metadata": {},
     "output_type": "execute_result"
    }
   ],
   "source": [
    "G6 = list(set(Saturday_Single)&set(LowDuration))\n",
    "G6P = Saturday.loc[Saturday['id'].isin(G6)]\n",
    "len(G6) , round(len(G6)/len(Saturday.id.unique()),3)"
   ]
  },
  {
   "cell_type": "code",
   "execution_count": 18,
   "id": "ecc80a00",
   "metadata": {},
   "outputs": [
    {
     "data": {
      "text/html": [
       "<div>\n",
       "<style scoped>\n",
       "    .dataframe tbody tr th:only-of-type {\n",
       "        vertical-align: middle;\n",
       "    }\n",
       "\n",
       "    .dataframe tbody tr th {\n",
       "        vertical-align: top;\n",
       "    }\n",
       "\n",
       "    .dataframe thead th {\n",
       "        text-align: right;\n",
       "    }\n",
       "</style>\n",
       "<table border=\"1\" class=\"dataframe\">\n",
       "  <thead>\n",
       "    <tr style=\"text-align: right;\">\n",
       "      <th></th>\n",
       "      <th>X</th>\n",
       "      <th>Y</th>\n",
       "      <th>count</th>\n",
       "    </tr>\n",
       "  </thead>\n",
       "  <tbody>\n",
       "    <tr>\n",
       "      <th>31</th>\n",
       "      <td>86</td>\n",
       "      <td>44</td>\n",
       "      <td>100</td>\n",
       "    </tr>\n",
       "    <tr>\n",
       "      <th>17</th>\n",
       "      <td>47</td>\n",
       "      <td>11</td>\n",
       "      <td>97</td>\n",
       "    </tr>\n",
       "    <tr>\n",
       "      <th>16</th>\n",
       "      <td>45</td>\n",
       "      <td>24</td>\n",
       "      <td>92</td>\n",
       "    </tr>\n",
       "    <tr>\n",
       "      <th>8</th>\n",
       "      <td>27</td>\n",
       "      <td>15</td>\n",
       "      <td>81</td>\n",
       "    </tr>\n",
       "    <tr>\n",
       "      <th>23</th>\n",
       "      <td>69</td>\n",
       "      <td>44</td>\n",
       "      <td>79</td>\n",
       "    </tr>\n",
       "  </tbody>\n",
       "</table>\n",
       "</div>"
      ],
      "text/plain": [
       "     X   Y  count\n",
       "31  86  44    100\n",
       "17  47  11     97\n",
       "16  45  24     92\n",
       "8   27  15     81\n",
       "23  69  44     79"
      ]
     },
     "execution_count": 18,
     "metadata": {},
     "output_type": "execute_result"
    }
   ],
   "source": [
    "GroupV = pd.DataFrame(G6P[G6P.type == 1].groupby([\"X\",\"Y\"])[\"id\"].count())\n",
    "GroupV = GroupV.reset_index()\n",
    "GroupV.columns = [\"X\",\"Y\",\"count\"]\n",
    "GroupV.sort_values(by=['count'],ascending=False)[0:5]"
   ]
  },
  {
   "cell_type": "markdown",
   "id": "8cba6b43",
   "metadata": {},
   "source": [
    "### Group 7"
   ]
  },
  {
   "cell_type": "code",
   "execution_count": 23,
   "id": "0a3100ec",
   "metadata": {},
   "outputs": [
    {
     "data": {
      "text/plain": [
       "(203, 0.032)"
      ]
     },
     "execution_count": 23,
     "metadata": {},
     "output_type": "execute_result"
    }
   ],
   "source": [
    "G7 = list(set(Saturday_Group)&set(LowDuration)&set(Early))\n",
    "G7P = Saturday.loc[Saturday['id'].isin(G7)]\n",
    "len(G7), round(len(G7)/len(Saturday.id.unique()),3)"
   ]
  },
  {
   "cell_type": "code",
   "execution_count": 24,
   "id": "01caf354",
   "metadata": {},
   "outputs": [
    {
     "data": {
      "text/html": [
       "<div>\n",
       "<style scoped>\n",
       "    .dataframe tbody tr th:only-of-type {\n",
       "        vertical-align: middle;\n",
       "    }\n",
       "\n",
       "    .dataframe tbody tr th {\n",
       "        vertical-align: top;\n",
       "    }\n",
       "\n",
       "    .dataframe thead th {\n",
       "        text-align: right;\n",
       "    }\n",
       "</style>\n",
       "<table border=\"1\" class=\"dataframe\">\n",
       "  <thead>\n",
       "    <tr style=\"text-align: right;\">\n",
       "      <th></th>\n",
       "      <th>X</th>\n",
       "      <th>Y</th>\n",
       "      <th>count</th>\n",
       "    </tr>\n",
       "  </thead>\n",
       "  <tbody>\n",
       "    <tr>\n",
       "      <th>20</th>\n",
       "      <td>63</td>\n",
       "      <td>99</td>\n",
       "      <td>150</td>\n",
       "    </tr>\n",
       "    <tr>\n",
       "      <th>35</th>\n",
       "      <td>86</td>\n",
       "      <td>44</td>\n",
       "      <td>110</td>\n",
       "    </tr>\n",
       "    <tr>\n",
       "      <th>4</th>\n",
       "      <td>17</td>\n",
       "      <td>43</td>\n",
       "      <td>103</td>\n",
       "    </tr>\n",
       "    <tr>\n",
       "      <th>12</th>\n",
       "      <td>38</td>\n",
       "      <td>90</td>\n",
       "      <td>93</td>\n",
       "    </tr>\n",
       "    <tr>\n",
       "      <th>17</th>\n",
       "      <td>47</td>\n",
       "      <td>11</td>\n",
       "      <td>92</td>\n",
       "    </tr>\n",
       "  </tbody>\n",
       "</table>\n",
       "</div>"
      ],
      "text/plain": [
       "     X   Y  count\n",
       "20  63  99    150\n",
       "35  86  44    110\n",
       "4   17  43    103\n",
       "12  38  90     93\n",
       "17  47  11     92"
      ]
     },
     "execution_count": 24,
     "metadata": {},
     "output_type": "execute_result"
    }
   ],
   "source": [
    "GroupV = pd.DataFrame(G7P[G7P.type == 1].groupby([\"X\",\"Y\"])[\"id\"].count())\n",
    "GroupV = GroupV.reset_index()\n",
    "GroupV.columns = [\"X\",\"Y\",\"count\"]\n",
    "GroupV.sort_values(by=['count'],ascending=False)[0:5]"
   ]
  },
  {
   "cell_type": "markdown",
   "id": "64a67841",
   "metadata": {},
   "source": [
    "### Group 8"
   ]
  },
  {
   "cell_type": "code",
   "execution_count": 21,
   "id": "8e814a4d",
   "metadata": {},
   "outputs": [
    {
     "data": {
      "text/plain": [
       "(47, 0.007)"
      ]
     },
     "execution_count": 21,
     "metadata": {},
     "output_type": "execute_result"
    }
   ],
   "source": [
    "G8 = list(set(Saturday_Group)&set(Late))\n",
    "G8P = Saturday.loc[Saturday['id'].isin(G8)]\n",
    "len(G8), round(len(G8)/len(Saturday.id.unique()),3)"
   ]
  },
  {
   "cell_type": "code",
   "execution_count": 22,
   "id": "e2dea31d",
   "metadata": {},
   "outputs": [
    {
     "data": {
      "text/html": [
       "<div>\n",
       "<style scoped>\n",
       "    .dataframe tbody tr th:only-of-type {\n",
       "        vertical-align: middle;\n",
       "    }\n",
       "\n",
       "    .dataframe tbody tr th {\n",
       "        vertical-align: top;\n",
       "    }\n",
       "\n",
       "    .dataframe thead th {\n",
       "        text-align: right;\n",
       "    }\n",
       "</style>\n",
       "<table border=\"1\" class=\"dataframe\">\n",
       "  <thead>\n",
       "    <tr style=\"text-align: right;\">\n",
       "      <th></th>\n",
       "      <th>X</th>\n",
       "      <th>Y</th>\n",
       "      <th>count</th>\n",
       "    </tr>\n",
       "  </thead>\n",
       "  <tbody>\n",
       "    <tr>\n",
       "      <th>21</th>\n",
       "      <td>69</td>\n",
       "      <td>44</td>\n",
       "      <td>36</td>\n",
       "    </tr>\n",
       "    <tr>\n",
       "      <th>3</th>\n",
       "      <td>17</td>\n",
       "      <td>43</td>\n",
       "      <td>28</td>\n",
       "    </tr>\n",
       "    <tr>\n",
       "      <th>35</th>\n",
       "      <td>87</td>\n",
       "      <td>63</td>\n",
       "      <td>26</td>\n",
       "    </tr>\n",
       "    <tr>\n",
       "      <th>9</th>\n",
       "      <td>32</td>\n",
       "      <td>33</td>\n",
       "      <td>26</td>\n",
       "    </tr>\n",
       "    <tr>\n",
       "      <th>11</th>\n",
       "      <td>38</td>\n",
       "      <td>90</td>\n",
       "      <td>24</td>\n",
       "    </tr>\n",
       "  </tbody>\n",
       "</table>\n",
       "</div>"
      ],
      "text/plain": [
       "     X   Y  count\n",
       "21  69  44     36\n",
       "3   17  43     28\n",
       "35  87  63     26\n",
       "9   32  33     26\n",
       "11  38  90     24"
      ]
     },
     "execution_count": 22,
     "metadata": {},
     "output_type": "execute_result"
    }
   ],
   "source": [
    "GroupV = pd.DataFrame(G8P[G8P.type == 1].groupby([\"X\",\"Y\"])[\"id\"].count())\n",
    "GroupV = GroupV.reset_index()\n",
    "GroupV.columns = [\"X\",\"Y\",\"count\"]\n",
    "GroupV.sort_values(by=['count'],ascending=False)[0:5]"
   ]
  },
  {
   "cell_type": "code",
   "execution_count": null,
   "id": "96d677eb",
   "metadata": {},
   "outputs": [],
   "source": []
  },
  {
   "cell_type": "code",
   "execution_count": 25,
   "id": "c5d40e07",
   "metadata": {},
   "outputs": [],
   "source": [
    "g1 = pd.read_csv('SaturdayGapID.csv')\n",
    "g2 = pd.read_csv('SaturdayGapMax.csv')\n",
    "g3 = pd.read_csv('SaturdayGapMed.csv')\n",
    "\n",
    "GapID = [  i.split(\".\", 1)[0] for i in g1.columns ]\n",
    "GapMax = [  i.split(\".\", 1)[0] for i in g2.columns ]\n",
    "GapMed = [  i.split(\".\", 1)[0] for i in g3.columns ]"
   ]
  },
  {
   "cell_type": "code",
   "execution_count": 26,
   "id": "d5e99a20",
   "metadata": {},
   "outputs": [],
   "source": [
    "inds1 =  np.argsort(GapMax)\n",
    "GapH = np.array(GapID)[inds1[-150:]]\n",
    "GapHV = Saturday.loc[Saturday['id'].isin(GapH)]\n",
    "\n",
    "GapHV2 = pd.DataFrame(GapHV[GapHV.type == 1].groupby([\"X\",\"Y\"])[\"id\"].count())\n",
    "GapHV2 = GapHV2.reset_index()\n",
    "GapHV2.columns = [\"X\",\"Y\",\"count\"]"
   ]
  },
  {
   "cell_type": "code",
   "execution_count": 27,
   "id": "ca980c6e",
   "metadata": {},
   "outputs": [
    {
     "data": {
      "text/html": [
       "<div>\n",
       "<style scoped>\n",
       "    .dataframe tbody tr th:only-of-type {\n",
       "        vertical-align: middle;\n",
       "    }\n",
       "\n",
       "    .dataframe tbody tr th {\n",
       "        vertical-align: top;\n",
       "    }\n",
       "\n",
       "    .dataframe thead th {\n",
       "        text-align: right;\n",
       "    }\n",
       "</style>\n",
       "<table border=\"1\" class=\"dataframe\">\n",
       "  <thead>\n",
       "    <tr style=\"text-align: right;\">\n",
       "      <th></th>\n",
       "      <th>X</th>\n",
       "      <th>Y</th>\n",
       "      <th>count</th>\n",
       "    </tr>\n",
       "  </thead>\n",
       "  <tbody>\n",
       "    <tr>\n",
       "      <th>22</th>\n",
       "      <td>69</td>\n",
       "      <td>44</td>\n",
       "      <td>234</td>\n",
       "    </tr>\n",
       "    <tr>\n",
       "      <th>8</th>\n",
       "      <td>27</td>\n",
       "      <td>15</td>\n",
       "      <td>175</td>\n",
       "    </tr>\n",
       "    <tr>\n",
       "      <th>28</th>\n",
       "      <td>78</td>\n",
       "      <td>48</td>\n",
       "      <td>141</td>\n",
       "    </tr>\n",
       "    <tr>\n",
       "      <th>4</th>\n",
       "      <td>17</td>\n",
       "      <td>43</td>\n",
       "      <td>128</td>\n",
       "    </tr>\n",
       "    <tr>\n",
       "      <th>12</th>\n",
       "      <td>38</td>\n",
       "      <td>90</td>\n",
       "      <td>128</td>\n",
       "    </tr>\n",
       "  </tbody>\n",
       "</table>\n",
       "</div>"
      ],
      "text/plain": [
       "     X   Y  count\n",
       "22  69  44    234\n",
       "8   27  15    175\n",
       "28  78  48    141\n",
       "4   17  43    128\n",
       "12  38  90    128"
      ]
     },
     "execution_count": 27,
     "metadata": {},
     "output_type": "execute_result"
    }
   ],
   "source": [
    "GapHV2.sort_values(by=['count'],ascending=False)[0:5]"
   ]
  },
  {
   "cell_type": "code",
   "execution_count": null,
   "id": "0fd61061",
   "metadata": {},
   "outputs": [],
   "source": []
  },
  {
   "cell_type": "code",
   "execution_count": 28,
   "id": "df8a8c2f",
   "metadata": {},
   "outputs": [],
   "source": [
    "inds2 =  np.argsort(GapMed) \n",
    "Faster = np.array(GapID)[inds2[0:150]]\n",
    "FasterV = Saturday.loc[Saturday['id'].isin(Faster)]\n",
    "\n",
    "FasterV2 = pd.DataFrame(FasterV[FasterV.type == 1].groupby([\"X\",\"Y\"])[\"id\"].count())\n",
    "FasterV2 = FasterV2.reset_index()\n",
    "FasterV2.columns = [\"X\",\"Y\",\"count\"]"
   ]
  },
  {
   "cell_type": "code",
   "execution_count": 29,
   "id": "91da8aea",
   "metadata": {},
   "outputs": [
    {
     "data": {
      "text/html": [
       "<div>\n",
       "<style scoped>\n",
       "    .dataframe tbody tr th:only-of-type {\n",
       "        vertical-align: middle;\n",
       "    }\n",
       "\n",
       "    .dataframe tbody tr th {\n",
       "        vertical-align: top;\n",
       "    }\n",
       "\n",
       "    .dataframe thead th {\n",
       "        text-align: right;\n",
       "    }\n",
       "</style>\n",
       "<table border=\"1\" class=\"dataframe\">\n",
       "  <thead>\n",
       "    <tr style=\"text-align: right;\">\n",
       "      <th></th>\n",
       "      <th>X</th>\n",
       "      <th>Y</th>\n",
       "      <th>count</th>\n",
       "    </tr>\n",
       "  </thead>\n",
       "  <tbody>\n",
       "    <tr>\n",
       "      <th>17</th>\n",
       "      <td>47</td>\n",
       "      <td>11</td>\n",
       "      <td>211</td>\n",
       "    </tr>\n",
       "    <tr>\n",
       "      <th>16</th>\n",
       "      <td>45</td>\n",
       "      <td>24</td>\n",
       "      <td>193</td>\n",
       "    </tr>\n",
       "    <tr>\n",
       "      <th>12</th>\n",
       "      <td>38</td>\n",
       "      <td>90</td>\n",
       "      <td>183</td>\n",
       "    </tr>\n",
       "    <tr>\n",
       "      <th>36</th>\n",
       "      <td>86</td>\n",
       "      <td>44</td>\n",
       "      <td>166</td>\n",
       "    </tr>\n",
       "    <tr>\n",
       "      <th>8</th>\n",
       "      <td>27</td>\n",
       "      <td>15</td>\n",
       "      <td>155</td>\n",
       "    </tr>\n",
       "  </tbody>\n",
       "</table>\n",
       "</div>"
      ],
      "text/plain": [
       "     X   Y  count\n",
       "17  47  11    211\n",
       "16  45  24    193\n",
       "12  38  90    183\n",
       "36  86  44    166\n",
       "8   27  15    155"
      ]
     },
     "execution_count": 29,
     "metadata": {},
     "output_type": "execute_result"
    }
   ],
   "source": [
    "FasterV2.sort_values(by=['count'],ascending=False)[0:5]"
   ]
  },
  {
   "cell_type": "code",
   "execution_count": null,
   "id": "9313d082",
   "metadata": {},
   "outputs": [],
   "source": []
  },
  {
   "cell_type": "code",
   "execution_count": 30,
   "id": "2f583a39",
   "metadata": {},
   "outputs": [],
   "source": [
    "inds3 =  np.argsort(GapMed)\n",
    "Slower = np.array(GapID)[inds3[-150:]]\n",
    "SlowerV = Saturday.loc[Saturday['id'].isin(Slower)]\n",
    "\n",
    "SlowerV2 = pd.DataFrame(SlowerV[SlowerV.type == 1].groupby([\"X\",\"Y\"])[\"id\"].count())\n",
    "SlowerV2 = SlowerV2.reset_index()\n",
    "SlowerV2.columns = [\"X\",\"Y\",\"count\"]"
   ]
  },
  {
   "cell_type": "code",
   "execution_count": 31,
   "id": "2dbe85c5",
   "metadata": {},
   "outputs": [
    {
     "data": {
      "text/html": [
       "<div>\n",
       "<style scoped>\n",
       "    .dataframe tbody tr th:only-of-type {\n",
       "        vertical-align: middle;\n",
       "    }\n",
       "\n",
       "    .dataframe tbody tr th {\n",
       "        vertical-align: top;\n",
       "    }\n",
       "\n",
       "    .dataframe thead th {\n",
       "        text-align: right;\n",
       "    }\n",
       "</style>\n",
       "<table border=\"1\" class=\"dataframe\">\n",
       "  <thead>\n",
       "    <tr style=\"text-align: right;\">\n",
       "      <th></th>\n",
       "      <th>X</th>\n",
       "      <th>Y</th>\n",
       "      <th>count</th>\n",
       "    </tr>\n",
       "  </thead>\n",
       "  <tbody>\n",
       "    <tr>\n",
       "      <th>36</th>\n",
       "      <td>86</td>\n",
       "      <td>44</td>\n",
       "      <td>194</td>\n",
       "    </tr>\n",
       "    <tr>\n",
       "      <th>8</th>\n",
       "      <td>27</td>\n",
       "      <td>15</td>\n",
       "      <td>192</td>\n",
       "    </tr>\n",
       "    <tr>\n",
       "      <th>3</th>\n",
       "      <td>16</td>\n",
       "      <td>66</td>\n",
       "      <td>173</td>\n",
       "    </tr>\n",
       "    <tr>\n",
       "      <th>17</th>\n",
       "      <td>47</td>\n",
       "      <td>11</td>\n",
       "      <td>169</td>\n",
       "    </tr>\n",
       "    <tr>\n",
       "      <th>16</th>\n",
       "      <td>45</td>\n",
       "      <td>24</td>\n",
       "      <td>156</td>\n",
       "    </tr>\n",
       "  </tbody>\n",
       "</table>\n",
       "</div>"
      ],
      "text/plain": [
       "     X   Y  count\n",
       "36  86  44    194\n",
       "8   27  15    192\n",
       "3   16  66    173\n",
       "17  47  11    169\n",
       "16  45  24    156"
      ]
     },
     "execution_count": 31,
     "metadata": {},
     "output_type": "execute_result"
    }
   ],
   "source": [
    "SlowerV2.sort_values(by=['count'],ascending=False)[0:5]"
   ]
  },
  {
   "cell_type": "code",
   "execution_count": null,
   "id": "3268dd70",
   "metadata": {},
   "outputs": [],
   "source": []
  },
  {
   "cell_type": "code",
   "execution_count": null,
   "id": "8c983180",
   "metadata": {},
   "outputs": [],
   "source": []
  },
  {
   "cell_type": "code",
   "execution_count": null,
   "id": "ade4d08b",
   "metadata": {},
   "outputs": [],
   "source": []
  },
  {
   "cell_type": "code",
   "execution_count": null,
   "id": "0ed18c81",
   "metadata": {},
   "outputs": [],
   "source": []
  },
  {
   "cell_type": "code",
   "execution_count": null,
   "id": "4aea08fe",
   "metadata": {},
   "outputs": [],
   "source": []
  },
  {
   "cell_type": "code",
   "execution_count": null,
   "id": "4e35f1fe",
   "metadata": {},
   "outputs": [],
   "source": []
  },
  {
   "cell_type": "code",
   "execution_count": null,
   "id": "ffcddb2e",
   "metadata": {},
   "outputs": [],
   "source": []
  },
  {
   "cell_type": "code",
   "execution_count": null,
   "id": "e140f2b7",
   "metadata": {},
   "outputs": [],
   "source": []
  }
 ],
 "metadata": {
  "kernelspec": {
   "display_name": "Python 3",
   "language": "python",
   "name": "python3"
  },
  "language_info": {
   "codemirror_mode": {
    "name": "ipython",
    "version": 3
   },
   "file_extension": ".py",
   "mimetype": "text/x-python",
   "name": "python",
   "nbconvert_exporter": "python",
   "pygments_lexer": "ipython3",
   "version": "3.8.8"
  }
 },
 "nbformat": 4,
 "nbformat_minor": 5
}
